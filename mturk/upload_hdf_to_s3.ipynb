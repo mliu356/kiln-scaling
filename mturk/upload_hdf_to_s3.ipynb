{
 "cells": [
  {
   "cell_type": "code",
   "execution_count": 37,
   "metadata": {},
   "outputs": [
    {
     "name": "stdout",
     "output_type": "stream",
     "text": [
      "Collecting boto3\n",
      "  Downloading boto3-1.17.78-py2.py3-none-any.whl (131 kB)\n",
      "\u001b[K     |████████████████████████████████| 131 kB 6.1 MB/s eta 0:00:01\n",
      "\u001b[?25hCollecting botocore<1.21.0,>=1.20.78\n",
      "  Downloading botocore-1.20.78-py2.py3-none-any.whl (7.5 MB)\n",
      "\u001b[K     |████████████████████████████████| 7.5 MB 12.5 MB/s eta 0:00:01\n",
      "\u001b[?25hCollecting jmespath<1.0.0,>=0.7.1\n",
      "  Using cached jmespath-0.10.0-py2.py3-none-any.whl (24 kB)\n",
      "Collecting s3transfer<0.5.0,>=0.4.0\n",
      "  Using cached s3transfer-0.4.2-py2.py3-none-any.whl (79 kB)\n",
      "Requirement already satisfied: python-dateutil<3.0.0,>=2.1 in /Users/michelleliu/anaconda3/lib/python3.8/site-packages (from botocore<1.21.0,>=1.20.78->boto3) (2.8.1)\n",
      "Requirement already satisfied: urllib3<1.27,>=1.25.4 in /Users/michelleliu/anaconda3/lib/python3.8/site-packages (from botocore<1.21.0,>=1.20.78->boto3) (1.25.11)\n",
      "Requirement already satisfied: six>=1.5 in /Users/michelleliu/anaconda3/lib/python3.8/site-packages (from python-dateutil<3.0.0,>=2.1->botocore<1.21.0,>=1.20.78->boto3) (1.15.0)\n",
      "Installing collected packages: jmespath, botocore, s3transfer, boto3\n",
      "Successfully installed boto3-1.17.78 botocore-1.20.78 jmespath-0.10.0 s3transfer-0.4.2\n"
     ]
    }
   ],
   "source": [
    "!pip install boto3"
   ]
  },
  {
   "cell_type": "code",
   "execution_count": 1,
   "metadata": {},
   "outputs": [],
   "source": [
    "import os\n",
    "import h5py\n",
    "import time\n",
    "import argparse\n",
    "import copy\n",
    "\n",
    "import numpy as np\n",
    "from tqdm import tqdm\n",
    "import logging\n",
    "import boto3\n",
    "from botocore.exceptions import ClientError\n",
    "import matplotlib.pyplot as plt\n",
    "from PIL import Image\n",
    "import csv\n",
    "from tqdm import tqdm"
   ]
  },
  {
   "cell_type": "code",
   "execution_count": 2,
   "metadata": {},
   "outputs": [
    {
     "name": "stdout",
     "output_type": "stream",
     "text": [
      "dict_keys(['AWSAccessKeyId', 'AWSSecretKey'])\n"
     ]
    }
   ],
   "source": [
    "creds = {}\n",
    "with open('../data/rootkey.csv', newline='') as rootkey:\n",
    "    reader = csv.reader(rootkey, delimiter=' ')\n",
    "    for row in reader:\n",
    "        key, value = row[0].split(\"=\")\n",
    "        creds[key] = value\n",
    "print(creds.keys())\n",
    "\n",
    "BUCKET_NAME = 'kiln-labeling'"
   ]
  },
  {
   "cell_type": "code",
   "execution_count": 4,
   "metadata": {},
   "outputs": [],
   "source": [
    "local_mode = True"
   ]
  },
  {
   "cell_type": "code",
   "execution_count": 8,
   "metadata": {},
   "outputs": [
    {
     "name": "stdout",
     "output_type": "stream",
     "text": [
      "directory: b'./mturk_test_hdfs'\n",
      "all files (6): [b'.DS_Store', b'examples_1.hdf5', b'examples_2', b'.ipynb_checkpoints', b'examples_2.hdf5', b'examples_1']\n"
     ]
    }
   ],
   "source": [
    "DATA_PATH = './mturk_test_hdfs' if local_mode else '/atlas/u/mhelabd/data/kiln-scaling/labelled_bangladesh_2019_2020/negative_sample/'\n",
    "directory = os.fsencode(DATA_PATH)\n",
    "all_files = os.listdir(directory)\n",
    "\n",
    "print(\"directory: {}\".format(directory))\n",
    "print(\"all files ({}): {}\".format(len(all_files), all_files))"
   ]
  },
  {
   "cell_type": "code",
   "execution_count": 6,
   "metadata": {},
   "outputs": [],
   "source": [
    "fig_index = 0\n",
    "\n",
    "def visualize_tile(image, indices=[3, 2, 1]):\n",
    "    global fig_index\n",
    "    plt.figure(fig_index)\n",
    "    fig_index += 1\n",
    "    row_idx = np.array(indices)\n",
    "    X = np.transpose(image[row_idx], (1, 2, 0))\n",
    "    X *= 1 / np.max(X)\n",
    "    plt.imshow(X)\n",
    "    \n",
    "def save_tile_as_image(data, img_filename, indices=[3, 2, 1]):\n",
    "    X = np.transpose(data, (1, 2, 0))\n",
    "    X *= 1 / np.max(X) # * 255\n",
    "    img = Image.fromarray((X * 255).astype(np.uint8))\n",
    "    img.save(img_filename, \"JPEG\")"
   ]
  },
  {
   "cell_type": "code",
   "execution_count": 7,
   "metadata": {},
   "outputs": [
    {
     "name": "stdout",
     "output_type": "stream",
     "text": [
      "Existing buckets:\n",
      "  kiln-labeling\n"
     ]
    }
   ],
   "source": [
    "# Retrieve the list of existing buckets\n",
    "s3 = boto3.client(\n",
    "    's3',\n",
    "    aws_access_key_id=creds['AWSAccessKeyId'],\n",
    "    aws_secret_access_key=creds['AWSSecretKey'],\n",
    ")\n",
    "response = s3.list_buckets()\n",
    "\n",
    "# Output the bucket names\n",
    "print('Existing buckets:')\n",
    "for bucket in response['Buckets']:\n",
    "    print(f'  {bucket[\"Name\"]}')\n",
    "    \n",
    "def upload_file(file_path, bucket_name, obj_name):\n",
    "    global s3\n",
    "    try:\n",
    "        response = s3.upload_file(\n",
    "            file_path, \n",
    "            bucket_name, \n",
    "            obj_name,\n",
    "            ExtraArgs={'ACL': 'public-read', 'ContentType': 'image/jpeg'}\n",
    "        )\n",
    "    except ClientError as e:\n",
    "        logging.error(e)\n",
    "        return False\n",
    "    return True"
   ]
  },
  {
   "cell_type": "code",
   "execution_count": 23,
   "metadata": {},
   "outputs": [
    {
     "name": "stdout",
     "output_type": "stream",
     "text": [
      "['image_coord0_x1', 'image_coord0_x2', 'image_coord0_y1', 'image_coord0_y2', 'image_url0', 'image_coord1_x1', 'image_coord1_x2', 'image_coord1_y1', 'image_coord1_y2', 'image_url1', 'image_coord2_x1', 'image_coord2_x2', 'image_coord2_y1', 'image_coord2_y2', 'image_url2', 'image_coord3_x1', 'image_coord3_x2', 'image_coord3_y1', 'image_coord3_y2', 'image_url3', 'image_coord4_x1', 'image_coord4_x2', 'image_coord4_y1', 'image_coord4_y2', 'image_url4', 'image_coord5_x1', 'image_coord5_x2', 'image_coord5_y1', 'image_coord5_y2', 'image_url5', 'image_coord6_x1', 'image_coord6_x2', 'image_coord6_y1', 'image_coord6_y2', 'image_url6', 'image_coord7_x1', 'image_coord7_x2', 'image_coord7_y1', 'image_coord7_y2', 'image_url7', 'image_coord8_x1', 'image_coord8_x2', 'image_coord8_y1', 'image_coord8_y2', 'image_url8', 'image_coord9_x1', 'image_coord9_x2', 'image_coord9_y1', 'image_coord9_y2', 'image_url9', 'image_coord10_x1', 'image_coord10_x2', 'image_coord10_y1', 'image_coord10_y2', 'image_url10', 'image_coord11_x1', 'image_coord11_x2', 'image_coord11_y1', 'image_coord11_y2', 'image_url11', 'image_coord12_x1', 'image_coord12_x2', 'image_coord12_y1', 'image_coord12_y2', 'image_url12', 'image_coord13_x1', 'image_coord13_x2', 'image_coord13_y1', 'image_coord13_y2', 'image_url13', 'image_coord14_x1', 'image_coord14_x2', 'image_coord14_y1', 'image_coord14_y2', 'image_url14', 'image_coord15_x1', 'image_coord15_x2', 'image_coord15_y1', 'image_coord15_y2', 'image_url15', 'image_coord16_x1', 'image_coord16_x2', 'image_coord16_y1', 'image_coord16_y2', 'image_url16', 'image_coord17_x1', 'image_coord17_x2', 'image_coord17_y1', 'image_coord17_y2', 'image_url17', 'image_coord18_x1', 'image_coord18_x2', 'image_coord18_y1', 'image_coord18_y2', 'image_url18', 'image_coord19_x1', 'image_coord19_x2', 'image_coord19_y1', 'image_coord19_y2', 'image_url19']\n",
      "Starting file: examples_1.hdf5\n"
     ]
    },
    {
     "name": "stderr",
     "output_type": "stream",
     "text": [
      "  0%|          | 2/999 [00:00<05:24,  3.08it/s]"
     ]
    },
    {
     "name": "stdout",
     "output_type": "stream",
     "text": [
      "Writing row: ['image_coord0_x1', 'image_coord0_x2', 'image_coord0_y1', 'image_coord0_y2', 'image_url0', 'image_coord1_x1', 'image_coord1_x2', 'image_coord1_y1', 'image_coord1_y2', 'image_url1', 'image_coord2_x1', 'image_coord2_x2', 'image_coord2_y1', 'image_coord2_y2', 'image_url2', 'image_coord3_x1', 'image_coord3_x2', 'image_coord3_y1', 'image_coord3_y2', 'image_url3', 'image_coord4_x1', 'image_coord4_x2', 'image_coord4_y1', 'image_coord4_y2', 'image_url4', 'image_coord5_x1', 'image_coord5_x2', 'image_coord5_y1', 'image_coord5_y2', 'image_url5', 'image_coord6_x1', 'image_coord6_x2', 'image_coord6_y1', 'image_coord6_y2', 'image_url6', 'image_coord7_x1', 'image_coord7_x2', 'image_coord7_y1', 'image_coord7_y2', 'image_url7', 'image_coord8_x1', 'image_coord8_x2', 'image_coord8_y1', 'image_coord8_y2', 'image_url8', 'image_coord9_x1', 'image_coord9_x2', 'image_coord9_y1', 'image_coord9_y2', 'image_url9', 'image_coord10_x1', 'image_coord10_x2', 'image_coord10_y1', 'image_coord10_y2', 'image_url10', 'image_coord11_x1', 'image_coord11_x2', 'image_coord11_y1', 'image_coord11_y2', 'image_url11', 'image_coord12_x1', 'image_coord12_x2', 'image_coord12_y1', 'image_coord12_y2', 'image_url12', 'image_coord13_x1', 'image_coord13_x2', 'image_coord13_y1', 'image_coord13_y2', 'image_url13', 'image_coord14_x1', 'image_coord14_x2', 'image_coord14_y1', 'image_coord14_y2', 'image_url14', 'image_coord15_x1', 'image_coord15_x2', 'image_coord15_y1', 'image_coord15_y2', 'image_url15', 'image_coord16_x1', 'image_coord16_x2', 'image_coord16_y1', 'image_coord16_y2', 'image_url16', 'image_coord17_x1', 'image_coord17_x2', 'image_coord17_y1', 'image_coord17_y2', 'image_url17', 'image_coord18_x1', 'image_coord18_x2', 'image_coord18_y1', 'image_coord18_y2', 'image_url18', 'image_coord19_x1', 'image_coord19_x2', 'image_coord19_y1', 'image_coord19_y2', 'image_url19']\n"
     ]
    },
    {
     "name": "stderr",
     "output_type": "stream",
     "text": [
      " 25%|██▍       | 249/999 [00:01<02:07,  5.87it/s]"
     ]
    },
    {
     "name": "stdout",
     "output_type": "stream",
     "text": [
      "Writing row: [91.7530248046838, 23.875423621328643, 91.75877402250217, 23.88117283914701, 'https://kiln-labeling.s3.us-east-2.amazonaws.com/examples_1/0.jpeg', 91.8680091610511, 23.875423621328643, 91.87375837886947, 23.88117283914701, 'https://kiln-labeling.s3.us-east-2.amazonaws.com/examples_1/1.jpeg', 92.1152255272408, 23.875423621328643, 92.12097474505916, 23.88117283914701, 'https://kiln-labeling.s3.us-east-2.amazonaws.com/examples_1/2.jpeg', 92.1957145766979, 23.875423621328643, 92.20146379451627, 23.88117283914701, 'https://kiln-labeling.s3.us-east-2.amazonaws.com/examples_1/3.jpeg', 89.63156342970714, 22.84631363184132, 89.6373126475255, 22.852062849659685, 'https://kiln-labeling.s3.us-east-2.amazonaws.com/examples_1/248.jpeg', 89.72930013261934, 22.84631363184132, 89.7350493504377, 22.852062849659685, 'https://kiln-labeling.s3.us-east-2.amazonaws.com/examples_1/249.jpeg', 89.424591588246, 22.840564414022953, 89.43034080606436, 22.84631363184132, 'https://kiln-labeling.s3.us-east-2.amazonaws.com/examples_1/250.jpeg', 89.48783298424802, 22.840564414022953, 89.49358220206638, 22.84631363184132, 'https://kiln-labeling.s3.us-east-2.amazonaws.com/examples_1/251.jpeg', 89.71205247916424, 22.840564414022953, 89.71780169698262, 22.84631363184132, 'https://kiln-labeling.s3.us-east-2.amazonaws.com/examples_1/252.jpeg', 89.74654778607443, 22.840564414022953, 89.7522970038928, 22.84631363184132, 'https://kiln-labeling.s3.us-east-2.amazonaws.com/examples_1/253.jpeg', 89.77529387516626, 22.840564414022953, 89.78104309298463, 22.84631363184132, 'https://kiln-labeling.s3.us-east-2.amazonaws.com/examples_1/254.jpeg', 89.51082985552148, 22.834815196204588, 89.51657907333984, 22.840564414022953, 'https://kiln-labeling.s3.us-east-2.amazonaws.com/examples_1/255.jpeg', 89.63156342970714, 22.834815196204588, 89.6373126475255, 22.840564414022953, 'https://kiln-labeling.s3.us-east-2.amazonaws.com/examples_1/256.jpeg', 89.80978918207646, 22.829065978386225, 89.81553839989482, 22.834815196204588, 'https://kiln-labeling.s3.us-east-2.amazonaws.com/examples_1/257.jpeg', 89.25211505369505, 22.82331676056786, 89.25786427151341, 22.829065978386225, 'https://kiln-labeling.s3.us-east-2.amazonaws.com/examples_1/258.jpeg', 89.37284862788071, 22.82331676056786, 89.37859784569908, 22.829065978386225, 'https://kiln-labeling.s3.us-east-2.amazonaws.com/examples_1/259.jpeg', 88.78067919258913, 22.156407493637527, 88.78642841040751, 22.162156711455893, 'https://kiln-labeling.s3.us-east-2.amazonaws.com/examples_1/260.jpeg', 88.88991433113807, 22.156407493637527, 88.89566354895643, 22.162156711455893, 'https://kiln-labeling.s3.us-east-2.amazonaws.com/examples_1/261.jpeg', 88.98190181623191, 22.156407493637527, 88.98765103405027, 22.162156711455893, 'https://kiln-labeling.s3.us-east-2.amazonaws.com/examples_1/262.jpeg', 88.6541964005851, 22.144909058000795, 88.65994561840347, 22.15065827581916, 'https://kiln-labeling.s3.us-east-2.amazonaws.com/examples_1/263.jpeg']\n",
      "Writing row: [89.17162600423795, 22.144909058000795, 89.17737522205631, 22.15065827581916, 'https://kiln-labeling.s3.us-east-2.amazonaws.com/examples_1/264.jpeg', 89.00489868750537, 22.139159840182433, 89.01064790532374, 22.144909058000795, 'https://kiln-labeling.s3.us-east-2.amazonaws.com/examples_1/265.jpeg', 89.01064790532374, 22.139159840182433, 89.0163971231421, 22.144909058000795, 'https://kiln-labeling.s3.us-east-2.amazonaws.com/examples_1/266.jpeg', 88.79792684604423, 22.133410622364067, 88.8036760638626, 22.139159840182433, 'https://kiln-labeling.s3.us-east-2.amazonaws.com/examples_1/267.jpeg', 88.87841589550135, 22.133410622364067, 88.88416511331971, 22.139159840182433, 'https://kiln-labeling.s3.us-east-2.amazonaws.com/examples_1/268.jpeg', 89.16587678641959, 22.133410622364067, 89.17162600423795, 22.139159840182433, 'https://kiln-labeling.s3.us-east-2.amazonaws.com/examples_1/269.jpeg', 88.75193310349731, 22.1276614045457, 88.75768232131568, 22.133410622364067, 'https://kiln-labeling.s3.us-east-2.amazonaws.com/examples_1/270.jpeg', 88.87266667768297, 22.1276614045457, 88.87841589550135, 22.133410622364067, 'https://kiln-labeling.s3.us-east-2.amazonaws.com/examples_1/271.jpeg', 88.74618388567895, 22.121912186727336, 88.75193310349731, 22.1276614045457, 'https://kiln-labeling.s3.us-east-2.amazonaws.com/examples_1/272.jpeg', 88.79217762822587, 22.121912186727336, 88.79792684604423, 22.1276614045457, 'https://kiln-labeling.s3.us-east-2.amazonaws.com/examples_1/273.jpeg', 88.81517449949932, 22.121912186727336, 88.8209237173177, 22.1276614045457, 'https://kiln-labeling.s3.us-east-2.amazonaws.com/examples_1/274.jpeg', 88.85541902422788, 22.121912186727336, 88.86116824204625, 22.1276614045457, 'https://kiln-labeling.s3.us-east-2.amazonaws.com/examples_1/275.jpeg', 88.94165729150336, 22.121912186727336, 88.94740650932172, 22.1276614045457, 'https://kiln-labeling.s3.us-east-2.amazonaws.com/examples_1/276.jpeg', 88.97040338059519, 22.121912186727336, 88.97615259841355, 22.1276614045457, 'https://kiln-labeling.s3.us-east-2.amazonaws.com/examples_1/277.jpeg', 89.18312443987469, 22.121912186727336, 89.18887365769305, 22.1276614045457, 'https://kiln-labeling.s3.us-east-2.amazonaws.com/examples_1/278.jpeg', 88.68294248967693, 22.11616296890897, 88.6886917074953, 22.121912186727336, 'https://kiln-labeling.s3.us-east-2.amazonaws.com/examples_1/279.jpeg', 88.76343153913405, 22.11616296890897, 88.76918075695241, 22.121912186727336, 'https://kiln-labeling.s3.us-east-2.amazonaws.com/examples_1/280.jpeg', 88.84392058859115, 22.11616296890897, 88.84966980640952, 22.121912186727336, 'https://kiln-labeling.s3.us-east-2.amazonaws.com/examples_1/281.jpeg', 88.63694874713002, 22.110413751090608, 88.64269796494838, 22.11616296890897, 'https://kiln-labeling.s3.us-east-2.amazonaws.com/examples_1/282.jpeg', 88.72893623222386, 22.110413751090608, 88.73468545004222, 22.11616296890897, 'https://kiln-labeling.s3.us-east-2.amazonaws.com/examples_1/283.jpeg']\n"
     ]
    },
    {
     "name": "stderr",
     "output_type": "stream",
     "text": [
      " 30%|██▉       | 297/999 [00:08<00:20, 34.05it/s]\n"
     ]
    },
    {
     "ename": "KeyboardInterrupt",
     "evalue": "",
     "output_type": "error",
     "traceback": [
      "\u001b[0;31m---------------------------------------------------------------------------\u001b[0m",
      "\u001b[0;31mKeyboardInterrupt\u001b[0m                         Traceback (most recent call last)",
      "\u001b[0;32m<ipython-input-23-adbf80fb7f2c>\u001b[0m in \u001b[0;36m<module>\u001b[0;34m\u001b[0m\n\u001b[1;32m     32\u001b[0m                         \u001b[0;31m# upload to s3\u001b[0m\u001b[0;34m\u001b[0m\u001b[0;34m\u001b[0m\u001b[0;34m\u001b[0m\u001b[0m\n\u001b[1;32m     33\u001b[0m                         \u001b[0ms3_filename\u001b[0m \u001b[0;34m=\u001b[0m \u001b[0mfolder_name\u001b[0m \u001b[0;34m+\u001b[0m \u001b[0;34m\"/\"\u001b[0m \u001b[0;34m+\u001b[0m \u001b[0mstr\u001b[0m\u001b[0;34m(\u001b[0m\u001b[0mindex\u001b[0m\u001b[0;34m)\u001b[0m \u001b[0;34m+\u001b[0m \u001b[0;34m\".jpeg\"\u001b[0m\u001b[0;34m\u001b[0m\u001b[0;34m\u001b[0m\u001b[0m\n\u001b[0;32m---> 34\u001b[0;31m                         \u001b[0mupload_file\u001b[0m\u001b[0;34m(\u001b[0m\u001b[0mlocal_filename\u001b[0m\u001b[0;34m,\u001b[0m \u001b[0mBUCKET_NAME\u001b[0m\u001b[0;34m,\u001b[0m \u001b[0ms3_filename\u001b[0m\u001b[0;34m)\u001b[0m\u001b[0;34m\u001b[0m\u001b[0;34m\u001b[0m\u001b[0m\n\u001b[0m\u001b[1;32m     35\u001b[0m \u001b[0;34m\u001b[0m\u001b[0m\n\u001b[1;32m     36\u001b[0m                         \u001b[0;31m# build csv\u001b[0m\u001b[0;34m\u001b[0m\u001b[0;34m\u001b[0m\u001b[0;34m\u001b[0m\u001b[0m\n",
      "\u001b[0;32m<ipython-input-7-a022885014e0>\u001b[0m in \u001b[0;36mupload_file\u001b[0;34m(file_path, bucket_name, obj_name)\u001b[0m\n\u001b[1;32m     15\u001b[0m     \u001b[0;32mglobal\u001b[0m \u001b[0ms3\u001b[0m\u001b[0;34m\u001b[0m\u001b[0;34m\u001b[0m\u001b[0m\n\u001b[1;32m     16\u001b[0m     \u001b[0;32mtry\u001b[0m\u001b[0;34m:\u001b[0m\u001b[0;34m\u001b[0m\u001b[0;34m\u001b[0m\u001b[0m\n\u001b[0;32m---> 17\u001b[0;31m         response = s3.upload_file(\n\u001b[0m\u001b[1;32m     18\u001b[0m             \u001b[0mfile_path\u001b[0m\u001b[0;34m,\u001b[0m\u001b[0;34m\u001b[0m\u001b[0;34m\u001b[0m\u001b[0m\n\u001b[1;32m     19\u001b[0m             \u001b[0mbucket_name\u001b[0m\u001b[0;34m,\u001b[0m\u001b[0;34m\u001b[0m\u001b[0;34m\u001b[0m\u001b[0m\n",
      "\u001b[0;32m~/anaconda3/lib/python3.8/site-packages/boto3/s3/inject.py\u001b[0m in \u001b[0;36mupload_file\u001b[0;34m(self, Filename, Bucket, Key, ExtraArgs, Callback, Config)\u001b[0m\n\u001b[1;32m    127\u001b[0m     \"\"\"\n\u001b[1;32m    128\u001b[0m     \u001b[0;32mwith\u001b[0m \u001b[0mS3Transfer\u001b[0m\u001b[0;34m(\u001b[0m\u001b[0mself\u001b[0m\u001b[0;34m,\u001b[0m \u001b[0mConfig\u001b[0m\u001b[0;34m)\u001b[0m \u001b[0;32mas\u001b[0m \u001b[0mtransfer\u001b[0m\u001b[0;34m:\u001b[0m\u001b[0;34m\u001b[0m\u001b[0;34m\u001b[0m\u001b[0m\n\u001b[0;32m--> 129\u001b[0;31m         return transfer.upload_file(\n\u001b[0m\u001b[1;32m    130\u001b[0m             \u001b[0mfilename\u001b[0m\u001b[0;34m=\u001b[0m\u001b[0mFilename\u001b[0m\u001b[0;34m,\u001b[0m \u001b[0mbucket\u001b[0m\u001b[0;34m=\u001b[0m\u001b[0mBucket\u001b[0m\u001b[0;34m,\u001b[0m \u001b[0mkey\u001b[0m\u001b[0;34m=\u001b[0m\u001b[0mKey\u001b[0m\u001b[0;34m,\u001b[0m\u001b[0;34m\u001b[0m\u001b[0;34m\u001b[0m\u001b[0m\n\u001b[1;32m    131\u001b[0m             extra_args=ExtraArgs, callback=Callback)\n",
      "\u001b[0;32m~/anaconda3/lib/python3.8/site-packages/boto3/s3/transfer.py\u001b[0m in \u001b[0;36mupload_file\u001b[0;34m(self, filename, bucket, key, callback, extra_args)\u001b[0m\n\u001b[1;32m    277\u001b[0m             filename, bucket, key, extra_args, subscribers)\n\u001b[1;32m    278\u001b[0m         \u001b[0;32mtry\u001b[0m\u001b[0;34m:\u001b[0m\u001b[0;34m\u001b[0m\u001b[0;34m\u001b[0m\u001b[0m\n\u001b[0;32m--> 279\u001b[0;31m             \u001b[0mfuture\u001b[0m\u001b[0;34m.\u001b[0m\u001b[0mresult\u001b[0m\u001b[0;34m(\u001b[0m\u001b[0;34m)\u001b[0m\u001b[0;34m\u001b[0m\u001b[0;34m\u001b[0m\u001b[0m\n\u001b[0m\u001b[1;32m    280\u001b[0m         \u001b[0;31m# If a client error was raised, add the backwards compatibility layer\u001b[0m\u001b[0;34m\u001b[0m\u001b[0;34m\u001b[0m\u001b[0;34m\u001b[0m\u001b[0m\n\u001b[1;32m    281\u001b[0m         \u001b[0;31m# that raises a S3UploadFailedError. These specific errors were only\u001b[0m\u001b[0;34m\u001b[0m\u001b[0;34m\u001b[0m\u001b[0;34m\u001b[0m\u001b[0m\n",
      "\u001b[0;32m~/anaconda3/lib/python3.8/site-packages/s3transfer/futures.py\u001b[0m in \u001b[0;36mresult\u001b[0;34m(self)\u001b[0m\n\u001b[1;32m    107\u001b[0m         \u001b[0;32mexcept\u001b[0m \u001b[0mKeyboardInterrupt\u001b[0m \u001b[0;32mas\u001b[0m \u001b[0me\u001b[0m\u001b[0;34m:\u001b[0m\u001b[0;34m\u001b[0m\u001b[0;34m\u001b[0m\u001b[0m\n\u001b[1;32m    108\u001b[0m             \u001b[0mself\u001b[0m\u001b[0;34m.\u001b[0m\u001b[0mcancel\u001b[0m\u001b[0;34m(\u001b[0m\u001b[0;34m)\u001b[0m\u001b[0;34m\u001b[0m\u001b[0;34m\u001b[0m\u001b[0m\n\u001b[0;32m--> 109\u001b[0;31m             \u001b[0;32mraise\u001b[0m \u001b[0me\u001b[0m\u001b[0;34m\u001b[0m\u001b[0;34m\u001b[0m\u001b[0m\n\u001b[0m\u001b[1;32m    110\u001b[0m \u001b[0;34m\u001b[0m\u001b[0m\n\u001b[1;32m    111\u001b[0m     \u001b[0;32mdef\u001b[0m \u001b[0mcancel\u001b[0m\u001b[0;34m(\u001b[0m\u001b[0mself\u001b[0m\u001b[0;34m)\u001b[0m\u001b[0;34m:\u001b[0m\u001b[0;34m\u001b[0m\u001b[0;34m\u001b[0m\u001b[0m\n",
      "\u001b[0;32m~/anaconda3/lib/python3.8/site-packages/s3transfer/futures.py\u001b[0m in \u001b[0;36mresult\u001b[0;34m(self)\u001b[0m\n\u001b[1;32m    104\u001b[0m             \u001b[0;31m# however if a KeyboardInterrupt is raised we want want to exit\u001b[0m\u001b[0;34m\u001b[0m\u001b[0;34m\u001b[0m\u001b[0;34m\u001b[0m\u001b[0m\n\u001b[1;32m    105\u001b[0m             \u001b[0;31m# out of this and propogate the exception.\u001b[0m\u001b[0;34m\u001b[0m\u001b[0;34m\u001b[0m\u001b[0;34m\u001b[0m\u001b[0m\n\u001b[0;32m--> 106\u001b[0;31m             \u001b[0;32mreturn\u001b[0m \u001b[0mself\u001b[0m\u001b[0;34m.\u001b[0m\u001b[0m_coordinator\u001b[0m\u001b[0;34m.\u001b[0m\u001b[0mresult\u001b[0m\u001b[0;34m(\u001b[0m\u001b[0;34m)\u001b[0m\u001b[0;34m\u001b[0m\u001b[0;34m\u001b[0m\u001b[0m\n\u001b[0m\u001b[1;32m    107\u001b[0m         \u001b[0;32mexcept\u001b[0m \u001b[0mKeyboardInterrupt\u001b[0m \u001b[0;32mas\u001b[0m \u001b[0me\u001b[0m\u001b[0;34m:\u001b[0m\u001b[0;34m\u001b[0m\u001b[0;34m\u001b[0m\u001b[0m\n\u001b[1;32m    108\u001b[0m             \u001b[0mself\u001b[0m\u001b[0;34m.\u001b[0m\u001b[0mcancel\u001b[0m\u001b[0;34m(\u001b[0m\u001b[0;34m)\u001b[0m\u001b[0;34m\u001b[0m\u001b[0;34m\u001b[0m\u001b[0m\n",
      "\u001b[0;32m~/anaconda3/lib/python3.8/site-packages/s3transfer/futures.py\u001b[0m in \u001b[0;36mresult\u001b[0;34m(self)\u001b[0m\n\u001b[1;32m    258\u001b[0m         \u001b[0;31m# possible value integer value, which is on the scale of billions of\u001b[0m\u001b[0;34m\u001b[0m\u001b[0;34m\u001b[0m\u001b[0;34m\u001b[0m\u001b[0m\n\u001b[1;32m    259\u001b[0m         \u001b[0;31m# years...\u001b[0m\u001b[0;34m\u001b[0m\u001b[0;34m\u001b[0m\u001b[0;34m\u001b[0m\u001b[0m\n\u001b[0;32m--> 260\u001b[0;31m         \u001b[0mself\u001b[0m\u001b[0;34m.\u001b[0m\u001b[0m_done_event\u001b[0m\u001b[0;34m.\u001b[0m\u001b[0mwait\u001b[0m\u001b[0;34m(\u001b[0m\u001b[0mMAXINT\u001b[0m\u001b[0;34m)\u001b[0m\u001b[0;34m\u001b[0m\u001b[0;34m\u001b[0m\u001b[0m\n\u001b[0m\u001b[1;32m    261\u001b[0m \u001b[0;34m\u001b[0m\u001b[0m\n\u001b[1;32m    262\u001b[0m         \u001b[0;31m# Once done waiting, raise an exception if present or return the\u001b[0m\u001b[0;34m\u001b[0m\u001b[0;34m\u001b[0m\u001b[0;34m\u001b[0m\u001b[0m\n",
      "\u001b[0;32m~/anaconda3/lib/python3.8/threading.py\u001b[0m in \u001b[0;36mwait\u001b[0;34m(self, timeout)\u001b[0m\n\u001b[1;32m    556\u001b[0m             \u001b[0msignaled\u001b[0m \u001b[0;34m=\u001b[0m \u001b[0mself\u001b[0m\u001b[0;34m.\u001b[0m\u001b[0m_flag\u001b[0m\u001b[0;34m\u001b[0m\u001b[0;34m\u001b[0m\u001b[0m\n\u001b[1;32m    557\u001b[0m             \u001b[0;32mif\u001b[0m \u001b[0;32mnot\u001b[0m \u001b[0msignaled\u001b[0m\u001b[0;34m:\u001b[0m\u001b[0;34m\u001b[0m\u001b[0;34m\u001b[0m\u001b[0m\n\u001b[0;32m--> 558\u001b[0;31m                 \u001b[0msignaled\u001b[0m \u001b[0;34m=\u001b[0m \u001b[0mself\u001b[0m\u001b[0;34m.\u001b[0m\u001b[0m_cond\u001b[0m\u001b[0;34m.\u001b[0m\u001b[0mwait\u001b[0m\u001b[0;34m(\u001b[0m\u001b[0mtimeout\u001b[0m\u001b[0;34m)\u001b[0m\u001b[0;34m\u001b[0m\u001b[0;34m\u001b[0m\u001b[0m\n\u001b[0m\u001b[1;32m    559\u001b[0m             \u001b[0;32mreturn\u001b[0m \u001b[0msignaled\u001b[0m\u001b[0;34m\u001b[0m\u001b[0;34m\u001b[0m\u001b[0m\n\u001b[1;32m    560\u001b[0m \u001b[0;34m\u001b[0m\u001b[0m\n",
      "\u001b[0;32m~/anaconda3/lib/python3.8/threading.py\u001b[0m in \u001b[0;36mwait\u001b[0;34m(self, timeout)\u001b[0m\n\u001b[1;32m    300\u001b[0m         \u001b[0;32mtry\u001b[0m\u001b[0;34m:\u001b[0m    \u001b[0;31m# restore state no matter what (e.g., KeyboardInterrupt)\u001b[0m\u001b[0;34m\u001b[0m\u001b[0;34m\u001b[0m\u001b[0m\n\u001b[1;32m    301\u001b[0m             \u001b[0;32mif\u001b[0m \u001b[0mtimeout\u001b[0m \u001b[0;32mis\u001b[0m \u001b[0;32mNone\u001b[0m\u001b[0;34m:\u001b[0m\u001b[0;34m\u001b[0m\u001b[0;34m\u001b[0m\u001b[0m\n\u001b[0;32m--> 302\u001b[0;31m                 \u001b[0mwaiter\u001b[0m\u001b[0;34m.\u001b[0m\u001b[0macquire\u001b[0m\u001b[0;34m(\u001b[0m\u001b[0;34m)\u001b[0m\u001b[0;34m\u001b[0m\u001b[0;34m\u001b[0m\u001b[0m\n\u001b[0m\u001b[1;32m    303\u001b[0m                 \u001b[0mgotit\u001b[0m \u001b[0;34m=\u001b[0m \u001b[0;32mTrue\u001b[0m\u001b[0;34m\u001b[0m\u001b[0;34m\u001b[0m\u001b[0m\n\u001b[1;32m    304\u001b[0m             \u001b[0;32melse\u001b[0m\u001b[0;34m:\u001b[0m\u001b[0;34m\u001b[0m\u001b[0;34m\u001b[0m\u001b[0m\n",
      "\u001b[0;31mKeyboardInterrupt\u001b[0m: "
     ]
    }
   ],
   "source": [
    "img_index = 0\n",
    "templates = ['image_coord{}_x1', 'image_coord{}_x2', 'image_coord{}_y1', 'image_coord{}_y2', 'image_url{}']\n",
    "base_url = 'https://kiln-labeling.s3.us-east-2.amazonaws.com/'\n",
    "\n",
    "with open('mturk_data.csv', mode='w') as data_file:\n",
    "    file_writer = csv.writer(data_file, delimiter=',')\n",
    "    row = [t.format(i) for i in range(20) for t in templates]\n",
    "    print(row)\n",
    "    \n",
    "    for file_index, file in enumerate(all_files):\n",
    "        FILENAME = os.fsdecode(file)\n",
    "        if FILENAME[-5:] == '.hdf5':\n",
    "            print(\"Starting file: \" + FILENAME)\n",
    "            with h5py.File(f\"{DATA_PATH}/{FILENAME}\", 'r') as f:\n",
    "                folder_name = FILENAME[:-5]\n",
    "                if not os.path.exists(DATA_PATH + \"/\" + folder_name):\n",
    "                    os.makedirs(DATA_PATH + \"/\" + folder_name)\n",
    "\n",
    "                images = np.array(f['images'])\n",
    "                bounds = np.array(f['bounds'])\n",
    "                for index in tqdm(range(images.shape[0])):\n",
    "                    # visualize_tile(images[index])\n",
    "                    rgb_image = images[index][[3, 2, 1], :, :]\n",
    "                    # check images are not nan\n",
    "                    if not np.isnan(rgb_image).any():\n",
    "                        local_filename = DATA_PATH + \"/\" + folder_name + \"/\" + str(index) + \".jpeg\"\n",
    "                        \n",
    "                        # save local file if it doesn't exist already\n",
    "                        if not os.path.exists(local_filename):\n",
    "                            save_tile_as_image(rgb_image, local_filename)\n",
    "                        \n",
    "                        # upload to s3\n",
    "                        s3_filename = folder_name + \"/\" + str(index) + \".jpeg\"\n",
    "                        upload_file(local_filename, BUCKET_NAME, s3_filename)\n",
    "                        \n",
    "                        # build csv\n",
    "                        if img_index % 20 == 0:\n",
    "                            print(\"Writing row:\", row)\n",
    "                            file_writer.writerow(row)\n",
    "                            row = []\n",
    "                        row += [bounds[index][1], bounds[index][3], bounds[index][0], bounds[index][2], base_url + s3_filename]\n",
    "                        img_index += 1"
   ]
  }
 ],
 "metadata": {
  "kernelspec": {
   "display_name": "Python 3",
   "language": "python",
   "name": "python3"
  },
  "language_info": {
   "codemirror_mode": {
    "name": "ipython",
    "version": 3
   },
   "file_extension": ".py",
   "mimetype": "text/x-python",
   "name": "python",
   "nbconvert_exporter": "python",
   "pygments_lexer": "ipython3",
   "version": "3.8.5"
  }
 },
 "nbformat": 4,
 "nbformat_minor": 4
}
