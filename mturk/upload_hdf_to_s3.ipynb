{
 "cells": [
  {
   "cell_type": "code",
   "execution_count": 1,
   "metadata": {},
   "outputs": [
    {
     "name": "stdout",
     "output_type": "stream",
     "text": [
      "Requirement already satisfied: boto3 in /sailhome/mliu356/ml-env/lib/python3.8/site-packages (1.17.86)\n",
      "Requirement already satisfied: s3transfer<0.5.0,>=0.4.0 in /sailhome/mliu356/ml-env/lib/python3.8/site-packages (from boto3) (0.4.2)\n",
      "Requirement already satisfied: botocore<1.21.0,>=1.20.86 in /sailhome/mliu356/ml-env/lib/python3.8/site-packages (from boto3) (1.20.86)\n",
      "Requirement already satisfied: jmespath<1.0.0,>=0.7.1 in /sailhome/mliu356/ml-env/lib/python3.8/site-packages (from boto3) (0.10.0)\n",
      "Requirement already satisfied: python-dateutil<3.0.0,>=2.1 in /sailhome/mliu356/ml-env/lib/python3.8/site-packages (from botocore<1.21.0,>=1.20.86->boto3) (2.8.1)\n",
      "Requirement already satisfied: urllib3<1.27,>=1.25.4 in /sailhome/mliu356/ml-env/lib/python3.8/site-packages (from botocore<1.21.0,>=1.20.86->boto3) (1.26.5)\n",
      "Requirement already satisfied: six>=1.5 in /sailhome/mliu356/ml-env/lib/python3.8/site-packages (from python-dateutil<3.0.0,>=2.1->botocore<1.21.0,>=1.20.86->boto3) (1.15.0)\n",
      "\u001b[33mWARNING: You are using pip version 20.1.1; however, version 21.1.2 is available.\n",
      "You should consider upgrading via the '/sailhome/mliu356/ml-env/bin/python3 -m pip install --upgrade pip' command.\u001b[0m\n"
     ]
    }
   ],
   "source": [
    "!pip install boto3"
   ]
  },
  {
   "cell_type": "code",
   "execution_count": 1,
   "metadata": {},
   "outputs": [],
   "source": [
    "import os\n",
    "import h5py\n",
    "import time\n",
    "import argparse\n",
    "import copy\n",
    "\n",
    "import numpy as np\n",
    "from tqdm import tqdm\n",
    "import logging\n",
    "import boto3\n",
    "from botocore.exceptions import ClientError\n",
    "import matplotlib.pyplot as plt\n",
    "from PIL import Image\n",
    "import csv\n",
    "from tqdm import tqdm"
   ]
  },
  {
   "cell_type": "code",
   "execution_count": 2,
   "metadata": {},
   "outputs": [
    {
     "name": "stdout",
     "output_type": "stream",
     "text": [
      "dict_keys(['AWSAccessKeyId', 'AWSSecretKey'])\n"
     ]
    }
   ],
   "source": [
    "creds = {}\n",
    "with open('../data/rootkey.csv', newline='') as rootkey:\n",
    "    reader = csv.reader(rootkey, delimiter=' ')\n",
    "    for row in reader:\n",
    "        key, value = row[0].split(\"=\")\n",
    "        creds[key] = value\n",
    "print(creds.keys())\n",
    "\n",
    "BUCKET_NAME = 'kiln-labeling'"
   ]
  },
  {
   "cell_type": "code",
   "execution_count": 3,
   "metadata": {},
   "outputs": [],
   "source": [
    "local_mode = False"
   ]
  },
  {
   "cell_type": "code",
   "execution_count": 8,
   "metadata": {},
   "outputs": [
    {
     "name": "stdout",
     "output_type": "stream",
     "text": [
      "directory: b'/atlas/u/mhelabd/data/kiln-scaling/labelled_bangladesh_2019_2020/negative_sample/'\n",
      "all files (22): [b'examples_1.hdf5', b'examples_10.hdf5', b'examples_11.hdf5', b'examples_12.hdf5', b'examples_13.hdf5', b'examples_14.hdf5', b'examples_15.hdf5', b'examples_16.hdf5', b'examples_17.hdf5', b'examples_18.hdf5', b'examples_19.hdf5', b'examples_2', b'examples_2.hdf5', b'examples_21.hdf5', b'examples_3.hdf5', b'examples_4.hdf5', b'examples_5.hdf5', b'examples_6', b'examples_6.hdf5', b'examples_7.hdf5', b'examples_8.hdf5', b'examples_9.hdf5']\n"
     ]
    }
   ],
   "source": [
    "DATA_PATH = './mturk_test_hdfs' if local_mode else '/atlas/u/mhelabd/data/kiln-scaling/labelled_bangladesh_2019_2020/negative_sample/'\n",
    "directory = os.fsencode(DATA_PATH)\n",
    "all_files = os.listdir(directory)\n",
    "all_files.sort()\n",
    "\n",
    "print(\"directory: {}\".format(directory))\n",
    "print(\"all files ({}): {}\".format(len(all_files), all_files))"
   ]
  },
  {
   "cell_type": "code",
   "execution_count": 5,
   "metadata": {},
   "outputs": [],
   "source": [
    "fig_index = 0\n",
    "\n",
    "def visualize_tile(image, indices=[3, 2, 1]):\n",
    "    global fig_index\n",
    "    plt.figure(fig_index)\n",
    "    fig_index += 1\n",
    "    row_idx = np.array(indices)\n",
    "    X = np.transpose(image[row_idx], (1, 2, 0))\n",
    "    X *= 1 / np.max(X)\n",
    "    plt.imshow(X)\n",
    "    \n",
    "def save_tile_as_image(data, img_filename, indices=[3, 2, 1]):\n",
    "    X = np.transpose(data, (1, 2, 0))\n",
    "    X *= 1 / np.max(X) # * 255\n",
    "    img = Image.fromarray((X * 255).astype(np.uint8))\n",
    "    img.save(img_filename, \"JPEG\")"
   ]
  },
  {
   "cell_type": "code",
   "execution_count": 6,
   "metadata": {},
   "outputs": [
    {
     "name": "stdout",
     "output_type": "stream",
     "text": [
      "Existing buckets:\n",
      "  kiln-labeling\n"
     ]
    }
   ],
   "source": [
    "# Retrieve the list of existing buckets\n",
    "s3 = boto3.client(\n",
    "    's3',\n",
    "    aws_access_key_id=creds['AWSAccessKeyId'],\n",
    "    aws_secret_access_key=creds['AWSSecretKey'],\n",
    ")\n",
    "response = s3.list_buckets()\n",
    "\n",
    "# Output the bucket names\n",
    "print('Existing buckets:')\n",
    "for bucket in response['Buckets']:\n",
    "    print(f'  {bucket[\"Name\"]}')\n",
    "    \n",
    "def upload_file(file_path, bucket_name, obj_name):\n",
    "    global s3\n",
    "    try:\n",
    "        response = s3.upload_file(\n",
    "            file_path, \n",
    "            bucket_name, \n",
    "            obj_name,\n",
    "            ExtraArgs={'ACL': 'public-read', 'ContentType': 'image/jpeg'}\n",
    "        )\n",
    "    except ClientError as e:\n",
    "        logging.error(e)\n",
    "        return False\n",
    "    return True"
   ]
  },
  {
   "cell_type": "code",
   "execution_count": 9,
   "metadata": {},
   "outputs": [
    {
     "name": "stdout",
     "output_type": "stream",
     "text": [
      "Starting file: examples_1.hdf5\n"
     ]
    },
    {
     "name": "stderr",
     "output_type": "stream",
     "text": [
      "100%|██████████| 999/999 [01:52<00:00,  8.90it/s] \n"
     ]
    },
    {
     "name": "stdout",
     "output_type": "stream",
     "text": [
      "Starting file: examples_10.hdf5\n"
     ]
    },
    {
     "name": "stderr",
     "output_type": "stream",
     "text": [
      "100%|██████████| 999/999 [02:50<00:00,  5.84it/s]\n"
     ]
    },
    {
     "name": "stdout",
     "output_type": "stream",
     "text": [
      "Starting file: examples_11.hdf5\n"
     ]
    },
    {
     "name": "stderr",
     "output_type": "stream",
     "text": [
      "100%|██████████| 999/999 [02:29<00:00,  6.70it/s]\n"
     ]
    },
    {
     "name": "stdout",
     "output_type": "stream",
     "text": [
      "Starting file: examples_12.hdf5\n"
     ]
    },
    {
     "name": "stderr",
     "output_type": "stream",
     "text": [
      "100%|██████████| 999/999 [02:41<00:00,  6.18it/s] \n"
     ]
    },
    {
     "name": "stdout",
     "output_type": "stream",
     "text": [
      "Starting file: examples_13.hdf5\n"
     ]
    },
    {
     "name": "stderr",
     "output_type": "stream",
     "text": [
      "100%|██████████| 999/999 [02:35<00:00,  6.44it/s]\n"
     ]
    },
    {
     "name": "stdout",
     "output_type": "stream",
     "text": [
      "Starting file: examples_14.hdf5\n"
     ]
    },
    {
     "name": "stderr",
     "output_type": "stream",
     "text": [
      "100%|██████████| 999/999 [02:04<00:00,  8.01it/s] \n"
     ]
    },
    {
     "name": "stdout",
     "output_type": "stream",
     "text": [
      "Starting file: examples_15.hdf5\n"
     ]
    },
    {
     "name": "stderr",
     "output_type": "stream",
     "text": [
      "100%|██████████| 999/999 [02:45<00:00,  6.04it/s]\n"
     ]
    },
    {
     "name": "stdout",
     "output_type": "stream",
     "text": [
      "Starting file: examples_16.hdf5\n"
     ]
    },
    {
     "name": "stderr",
     "output_type": "stream",
     "text": [
      "100%|██████████| 999/999 [02:36<00:00,  6.39it/s]\n"
     ]
    },
    {
     "name": "stdout",
     "output_type": "stream",
     "text": [
      "Starting file: examples_17.hdf5\n"
     ]
    },
    {
     "name": "stderr",
     "output_type": "stream",
     "text": [
      "100%|██████████| 999/999 [02:33<00:00,  6.53it/s] \n"
     ]
    },
    {
     "name": "stdout",
     "output_type": "stream",
     "text": [
      "Starting file: examples_18.hdf5\n"
     ]
    },
    {
     "name": "stderr",
     "output_type": "stream",
     "text": [
      "100%|██████████| 999/999 [01:55<00:00,  8.61it/s]\n"
     ]
    },
    {
     "name": "stdout",
     "output_type": "stream",
     "text": [
      "Starting file: examples_19.hdf5\n"
     ]
    },
    {
     "name": "stderr",
     "output_type": "stream",
     "text": [
      "100%|██████████| 999/999 [02:12<00:00,  7.55it/s] \n"
     ]
    },
    {
     "name": "stdout",
     "output_type": "stream",
     "text": [
      "Starting file: examples_2.hdf5\n"
     ]
    },
    {
     "name": "stderr",
     "output_type": "stream",
     "text": [
      "100%|██████████| 999/999 [02:42<00:00,  6.15it/s]\n"
     ]
    },
    {
     "name": "stdout",
     "output_type": "stream",
     "text": [
      "Starting file: examples_21.hdf5\n"
     ]
    },
    {
     "name": "stderr",
     "output_type": "stream",
     "text": [
      "100%|██████████| 497/497 [01:01<00:00,  8.05it/s] \n"
     ]
    },
    {
     "name": "stdout",
     "output_type": "stream",
     "text": [
      "Starting file: examples_3.hdf5\n"
     ]
    },
    {
     "name": "stderr",
     "output_type": "stream",
     "text": [
      "100%|██████████| 999/999 [02:44<00:00,  6.06it/s]\n"
     ]
    },
    {
     "name": "stdout",
     "output_type": "stream",
     "text": [
      "Starting file: examples_4.hdf5\n"
     ]
    },
    {
     "name": "stderr",
     "output_type": "stream",
     "text": [
      "100%|██████████| 999/999 [02:36<00:00,  6.38it/s]\n"
     ]
    },
    {
     "name": "stdout",
     "output_type": "stream",
     "text": [
      "Starting file: examples_5.hdf5\n"
     ]
    },
    {
     "name": "stderr",
     "output_type": "stream",
     "text": [
      "100%|██████████| 999/999 [01:50<00:00,  9.04it/s] \n"
     ]
    },
    {
     "name": "stdout",
     "output_type": "stream",
     "text": [
      "Starting file: examples_6.hdf5\n"
     ]
    },
    {
     "name": "stderr",
     "output_type": "stream",
     "text": [
      "100%|██████████| 999/999 [02:14<00:00,  7.42it/s] \n"
     ]
    },
    {
     "name": "stdout",
     "output_type": "stream",
     "text": [
      "Starting file: examples_7.hdf5\n"
     ]
    },
    {
     "name": "stderr",
     "output_type": "stream",
     "text": [
      "100%|██████████| 999/999 [02:01<00:00,  8.20it/s] \n"
     ]
    },
    {
     "name": "stdout",
     "output_type": "stream",
     "text": [
      "Starting file: examples_8.hdf5\n"
     ]
    },
    {
     "name": "stderr",
     "output_type": "stream",
     "text": [
      "100%|██████████| 999/999 [02:13<00:00,  7.47it/s]\n"
     ]
    },
    {
     "name": "stdout",
     "output_type": "stream",
     "text": [
      "Starting file: examples_9.hdf5\n"
     ]
    },
    {
     "name": "stderr",
     "output_type": "stream",
     "text": [
      "100%|██████████| 999/999 [02:33<00:00,  6.53it/s] \n"
     ]
    }
   ],
   "source": [
    "img_index = 0\n",
    "templates = ['image_coord{}_x1', 'image_coord{}_x2', 'image_coord{}_y1', 'image_coord{}_y2', 'image_url{}']\n",
    "base_url = 'https://kiln-labeling.s3.us-east-2.amazonaws.com/'\n",
    "\n",
    "with open('mturk_data.csv', mode='w') as data_file:\n",
    "    file_writer = csv.writer(data_file, delimiter=',')\n",
    "    row = [t.format(i) for i in range(20) for t in templates]\n",
    "    \n",
    "    for file_index, file in enumerate(all_files):\n",
    "        FILENAME = os.fsdecode(file)\n",
    "        if FILENAME[-5:] == '.hdf5':\n",
    "            print(\"Starting file: \" + FILENAME)\n",
    "            with h5py.File(f\"{DATA_PATH}/{FILENAME}\", 'r') as f:\n",
    "                folder_name = FILENAME[:-5]\n",
    "                if not os.path.exists(DATA_PATH + \"/\" + folder_name):\n",
    "                    os.makedirs(DATA_PATH + \"/\" + folder_name)\n",
    "\n",
    "                images = np.array(f['images'])\n",
    "                bounds = np.array(f['bounds'])\n",
    "                for index in tqdm(range(images.shape[0])):\n",
    "                    # visualize_tile(images[index])\n",
    "                    rgb_image = images[index][[3, 2, 1], :, :]\n",
    "                    # check images are not nan\n",
    "                    if not np.isnan(rgb_image).any():\n",
    "                        local_filename = DATA_PATH + \"/\" + folder_name + \"/\" + str(index) + \".jpeg\"\n",
    "                        \n",
    "                        # save local file if it doesn't exist already\n",
    "                        if not os.path.exists(local_filename):\n",
    "                            save_tile_as_image(rgb_image, local_filename)\n",
    "                        \n",
    "                        # upload to s3\n",
    "                        s3_filename = folder_name + \"/\" + str(index) + \".jpeg\"\n",
    "                        upload_file(local_filename, BUCKET_NAME, s3_filename)\n",
    "                        \n",
    "                        # build csv\n",
    "                        if img_index % 20 == 0:\n",
    "                            file_writer.writerow(row)\n",
    "                            row = []\n",
    "                        row += [bounds[index][1], bounds[index][3], bounds[index][0], bounds[index][2], base_url + s3_filename]\n",
    "                        img_index += 1"
   ]
  }
 ],
 "metadata": {
  "kernelspec": {
   "display_name": "Python 3",
   "language": "python",
   "name": "python3"
  },
  "language_info": {
   "codemirror_mode": {
    "name": "ipython",
    "version": 3
   },
   "file_extension": ".py",
   "mimetype": "text/x-python",
   "name": "python",
   "nbconvert_exporter": "python",
   "pygments_lexer": "ipython3",
   "version": "3.9.1"
  }
 },
 "nbformat": 4,
 "nbformat_minor": 4
}
