{
 "cells": [
  {
   "cell_type": "markdown",
   "metadata": {},
   "source": [
    "# To-Do\n",
    "* only get negative examples completely in bangladesh [done]\n",
    "* read composite images directly from drive\n",
    "* only need to snip the cols in the last row and the rows in the last col\n",
    "* create github [done]\n",
    "* save data to .data [done]\n",
    "* don't upload .data to github [done]"
   ]
  },
  {
   "cell_type": "code",
   "execution_count": 1,
   "metadata": {},
   "outputs": [],
   "source": [
    "import os\n",
    "import json\n",
    "import requests\n",
    "import time\n",
    "from requests.auth import HTTPBasicAuth\n",
    "import pandas as pd\n",
    "import datetime\n",
    "import rasterio\n",
    "from matplotlib import pyplot as plt\n",
    "import numpy as np\n",
    "from shapely.geometry import Point\n",
    "from shapely.geometry.polygon import Polygon\n",
    "from os import listdir\n",
    "from os.path import isfile, join"
   ]
  },
  {
   "cell_type": "code",
   "execution_count": 96,
   "metadata": {
    "scrolled": true
   },
   "outputs": [
    {
     "name": "stdout",
     "output_type": "stream",
     "text": [
      "Collecting oauth2client\n",
      "  Downloading oauth2client-4.1.3-py2.py3-none-any.whl (98 kB)\n",
      "\u001b[K     |████████████████████████████████| 98 kB 4.5 MB/s eta 0:00:01\n",
      "\u001b[?25hRequirement already satisfied: rsa>=3.1.4 in /Users/michelleliu/anaconda3/lib/python3.8/site-packages (from oauth2client) (4.7)\n",
      "Requirement already satisfied: pyasn1>=0.1.7 in /Users/michelleliu/anaconda3/lib/python3.8/site-packages (from oauth2client) (0.4.8)\n",
      "Requirement already satisfied: pyasn1-modules>=0.0.5 in /Users/michelleliu/anaconda3/lib/python3.8/site-packages (from oauth2client) (0.2.8)\n",
      "Requirement already satisfied: six>=1.6.1 in /Users/michelleliu/anaconda3/lib/python3.8/site-packages (from oauth2client) (1.15.0)\n",
      "Requirement already satisfied: httplib2>=0.9.1 in /Users/michelleliu/anaconda3/lib/python3.8/site-packages (from oauth2client) (0.18.1)\n",
      "Installing collected packages: oauth2client\n",
      "Successfully installed oauth2client-4.1.3\n"
     ]
    }
   ],
   "source": [
    "!pip install oauth2client"
   ]
  },
  {
   "cell_type": "code",
   "execution_count": 101,
   "metadata": {},
   "outputs": [
    {
     "name": "stdout",
     "output_type": "stream",
     "text": [
      "\n",
      "Go to the following link in your browser:\n",
      "\n",
      "    https://accounts.google.com/o/oauth2/auth?client_id=741294494890-5sidvm6q429r14a0323gi30km3is2f1p.apps.googleusercontent.com&redirect_uri=urn%3Aietf%3Awg%3Aoauth%3A2.0%3Aoob&scope=https%3A%2F%2Fwww.googleapis.com%2Fauth%2Fdrive.readonly&access_type=offline&response_type=code\n",
      "\n",
      "Enter verification code: 4/1AY0e-g6hvEwTxw-phAiGdh58P79GOkIItuaDlVuhX3Yj7ZRGtdcY0FdILMw\n",
      "Authentication successful.\n"
     ]
    }
   ],
   "source": [
    "from apiclient import discovery\n",
    "from httplib2 import Http\n",
    "import oauth2client\n",
    "from oauth2client import file, client, tools\n",
    "obj = lambda: None\n",
    "lmao = {\"auth_host_name\":'localhost', 'noauth_local_webserver':'store_true', 'auth_host_port':[8080, 8090], 'logging_level':'ERROR'}\n",
    "for k, v in lmao.items():\n",
    "    setattr(obj, k, v)\n",
    "    \n",
    "# authorization boilerplate code\n",
    "SCOPES = 'https://www.googleapis.com/auth/drive.readonly'\n",
    "store = file.Storage('token.json')\n",
    "creds = store.get()\n",
    "# The following will give you a link if token.json does not exist, the link allows the user to give this app permission\n",
    "if not creds or creds.invalid:\n",
    "    flow = client.flow_from_clientsecrets('data/client_secret.json', SCOPES)\n",
    "    creds = tools.run_flow(flow, store, obj)"
   ]
  },
  {
   "cell_type": "code",
   "execution_count": 103,
   "metadata": {},
   "outputs": [],
   "source": []
  },
  {
   "cell_type": "code",
   "execution_count": 2,
   "metadata": {},
   "outputs": [
    {
     "name": "stdout",
     "output_type": "stream",
     "text": [
      "Reading files: ['bangladesh_all_bands_final-0000000000-0000000000.tif', 'bangladesh_all_bands_final-0000000000-0000006656.tif', 'bangladesh_all_bands_final-0000006656-0000000000.tif', 'bangladesh_all_bands_final-0000006656-0000006656.tif']\n",
      "number of image grid columns: 2\n",
      "number of image grid rows: 2\n"
     ]
    }
   ],
   "source": [
    "datasets = []\n",
    "\n",
    "# read datasets from folder\n",
    "folder_name = \"data/b_composites/\"\n",
    "dataset_files = [f for f in listdir(folder_name) if isfile(join(folder_name, f))]\n",
    "dataset_files.sort()\n",
    "print(\"Reading files:\", dataset_files)\n",
    "\n",
    "for file in dataset_files:\n",
    "    datasets += [rasterio.open(folder_name + file)]\n",
    "    \n",
    "# calculate image grid\n",
    "first_x_coord = dataset_files[0].split(\".\")[0].split(\"-\")[1]\n",
    "first_y_coord = dataset_files[0].split(\".\")[0].split(\"-\")[2]\n",
    "num_image_cols = len([x for x in dataset_files if x.split(\".\")[0].split(\"-\")[1] == first_x_coord])\n",
    "num_image_rows = len([x for x in dataset_files if x.split(\".\")[0].split(\"-\")[2] == first_y_coord])\n",
    "print(\"Number of image grid columns:\", num_image_cols)\n",
    "print(\"Number of image grid rows:\", num_image_rows)"
   ]
  },
  {
   "cell_type": "code",
   "execution_count": 3,
   "metadata": {},
   "outputs": [
    {
     "name": "stdout",
     "output_type": "stream",
     "text": [
      "   index        lat        lon     x    y      prob prediction   shape\n",
      "0      0  23.796287  90.316715  1043  518  0.564438     zigzag  zigzag\n",
      "1      1  23.940202  90.043026    78  149  0.692853     zigzag  zigzag\n",
      "2      2  25.021253  89.309124   636  327  0.499505        fck     fck\n",
      "3      3  25.308184  89.550603    97   85  0.342437        fck  zigzag\n",
      "4      4  22.561670  92.007151   145  175  0.922128     zigzag  zigzag\n"
     ]
    }
   ],
   "source": [
    "# set params\n",
    "tile_height, tile_length = (64, 64)\n",
    "bands_to_read = None # ['B4', 'B3', 'B2'] # set to None to read all bands\n",
    "examples_per_save_file = 1000\n",
    "save_path = 'data/tiles/'\n",
    "\n",
    "# resources\n",
    "kilns = pd.read_csv(\"data/bangladesh_kilns.csv\")\n",
    "all_bands = ['B1', 'B2', 'B3', 'B4', 'B5', 'B6', 'B7', 'B8A', 'B8', 'B9', 'B10', 'B11', 'B12']\n",
    "band_dict = dict(zip(all_bands, range(1, len(all_bands) + 1)))\n",
    "\n",
    "print(kilns.head())"
   ]
  },
  {
   "cell_type": "code",
   "execution_count": 10,
   "metadata": {},
   "outputs": [
    {
     "name": "stdout",
     "output_type": "stream",
     "text": [
      "True\n"
     ]
    }
   ],
   "source": [
    "coords = []\n",
    "with open(\"data/countries.geojson\", \"r\") as countries_geojson:\n",
    "    country_dict = json.load(countries_geojson)[\"features\"]\n",
    "for obj in country_dict:\n",
    "    name = obj['properties']['ADMIN']\n",
    "    if name == \"Bangladesh\":\n",
    "        coords = obj['geometry'][\"coordinates\"]\n",
    "flat_coords = []\n",
    "for sublist in coords:\n",
    "    for coord in sublist:\n",
    "        for c in coord:\n",
    "            flat_coords.append(c)\n",
    "\n",
    "bangladesh_geo = Polygon(flat_coords)"
   ]
  },
  {
   "cell_type": "code",
   "execution_count": 43,
   "metadata": {},
   "outputs": [
    {
     "name": "stdout",
     "output_type": "stream",
     "text": [
      "<open DatasetReader name='data/b_composites/bangladesh_all_bands_final-0000000000-0000000000.tif' mode='r'>\n",
      "BoundingBox(left=88.02178244056496, bottom=26.02563108539713, right=88.61970109367492, top=26.623549738507084)\n"
     ]
    }
   ],
   "source": [
    "print(datasets[0])\n",
    "print(datasets[0].bounds)"
   ]
  },
  {
   "cell_type": "code",
   "execution_count": 74,
   "metadata": {},
   "outputs": [],
   "source": [
    "def get_bands_from_dataset(dataset, band_names=None):\n",
    "    start_time = time.time()\n",
    "    print(\"Reading \" + (\"all\" if band_names is None else str(len(band_names))) \n",
    "          + \" bands from dataset \" + str(dataset.name))\n",
    "    if band_names is None: # get all bands\n",
    "        bands = dataset.read()\n",
    "    else:\n",
    "        bands = []\n",
    "        for idx, band_name in enumerate(band_names):\n",
    "            band_index = band_dict[band_name]\n",
    "            bands += [dataset.read(band_index)]\n",
    "        bands = np.array(bands)\n",
    "    print(\"time to read bands: \" + str(time.time() - start_time))\n",
    "    return bands\n",
    "\n",
    "def get_data_given_pixels(ds_bounds, bands, start_row, start_col, contains_kiln):\n",
    "    num_bands, ds_height, ds_length = bands.shape\n",
    "    tile_top = ds_bounds.top - (start_row / ds_height) * (ds_bounds.top - ds_bounds.bottom)\n",
    "    tile_bottom = ds_bounds.top - ((start_row + tile_height) / ds_height) * (ds_bounds.top - ds_bounds.bottom)\n",
    "    tile_left = ds_bounds.left + (start_col / ds_length) * (ds_bounds.right - ds.bounds.left)\n",
    "    tile_right = ds_bounds.left + ((start_col + tile_length) / ds_length) * (ds_bounds.right - ds.bounds.left)\n",
    "    tile_coordinates = [[tile_left, tile_top], [tile_right, tile_top], [tile_right, tile_bottom], [tile_left, tile_bottom]]\n",
    "#     print(\"top\", tile_top, \"bottom\", tile_bottom, \"left\", tile_left, \"right\", tile_right)\n",
    "    \n",
    "    if not contains_kiln:\n",
    "        for point in [Point([c[0], c[1]]) for c in tile_coordinates]:\n",
    "            if not bangladesh_geo.contains(point):\n",
    "                return None\n",
    "    return bands[:, start_row : start_row + tile_height, start_col : start_col + tile_length]\n",
    "\n",
    "# def add_example(ex_data, save_index, list_to_add, is_positive):\n",
    "def add_example(ex_data, save_index, counter, examples, is_positive):\n",
    "    examples[counter] = ex_data\n",
    "    new_counter = counter + 1\n",
    "    # save files if needed\n",
    "    if new_counter == examples_per_save_file:\n",
    "        filename = save_path + (\"pos\" if is_positive else \"neg\") + \"_examples_\" + str(save_index) + \".csv\"\n",
    "        print(\"Saving file\", filename)\n",
    "        np.savetxt(filename, examples.flatten(), delimiter=\",\")\n",
    "        print(\"Finished saving file\")\n",
    "        save_index += 1\n",
    "        new_counter = 0\n",
    "    return new_counter, save_index\n",
    "\n",
    "def get_kiln_tiles(bounds, num_rows, num_cols):\n",
    "    kilns_in_image = kilns.loc[(kilns['lat'] >= bounds['bottom']) & (kilns['lat'] <= bounds['top']) \n",
    "        & (kilns['lon'] >= bounds['left']) & (kilns['lon'] <= bounds['right'])]\n",
    "    \n",
    "    tiles = set() # set of tuples of (tile_row, tile_col)\n",
    "    for index, kiln in kilns_in_image.iterrows():\n",
    "        lon_percent = 1 - (kiln['lon'] - bounds['left']) / (bounds['right'] - bounds['left'])\n",
    "        row_index = int(num_rows * lon_percent)\n",
    "        \n",
    "        lat_percent = 1 - (kiln['lat'] - bounds['bottom']) / (bounds['top'] - bounds['bottom'])\n",
    "        col_index = int(num_cols * lat_percent)\n",
    "        tiles.add((row_index, col_index))\n",
    "    return tiles\n",
    "        "
   ]
  },
  {
   "cell_type": "code",
   "execution_count": 13,
   "metadata": {},
   "outputs": [
    {
     "name": "stdout",
     "output_type": "stream",
     "text": [
      "Reading all bands from dataset data/b_composites/bangladesh_all_bands_final-0000000000-0000000000.tif\n",
      "time to read bands: 22.185380935668945\n",
      "Reading all bands from dataset data/b_composites/bangladesh_all_bands_final-0000000000-0000006656.tif\n",
      "time to read bands: 22.828599214553833\n",
      "Reading all bands from dataset data/b_composites/bangladesh_all_bands_final-0000006656-0000000000.tif\n",
      "time to read bands: 23.33644390106201\n",
      "Reading all bands from dataset data/b_composites/bangladesh_all_bands_final-0000006656-0000006656.tif\n",
      "time to read bands: 21.856069087982178\n",
      "Data shape: (13, 6656, 6656)\n"
     ]
    }
   ],
   "source": [
    "data_pixels = []\n",
    "for ds in datasets:\n",
    "    data_pixels += [get_bands_from_dataset(ds, band_names=bands_to_read)]\n",
    "    \n",
    "print(\"Data shape:\", data_pixels[0].shape)"
   ]
  },
  {
   "cell_type": "code",
   "execution_count": 113,
   "metadata": {},
   "outputs": [
    {
     "name": "stdout",
     "output_type": "stream",
     "text": [
      "Examples shape: (1000, 13, 64, 64)\n"
     ]
    }
   ],
   "source": [
    "pos_save_index, neg_save_index = 0, 0\n",
    "pos_counter, neg_counter = 0, 0\n",
    "\n",
    "pos_x_examples = np.zeros([examples_per_save_file, len(all_bands) if bands_to_read is None else len(bands_to_read), tile_height, tile_length])\n",
    "neg_x_examples = np.zeros([examples_per_save_file, len(all_bands) if bands_to_read is None else len(bands_to_read), tile_height, tile_length])\n",
    "print(\"Examples shape:\", pos_x_examples.shape)"
   ]
  },
  {
   "cell_type": "code",
   "execution_count": 117,
   "metadata": {
    "scrolled": true
   },
   "outputs": [
    {
     "name": "stdout",
     "output_type": "stream",
     "text": [
      "bands.shape 13 6656 6656\n",
      "total rows and cols 104 104\n",
      "Num tiles with kilns: 11\n",
      "{(27, 98), (58, 91), (12, 71), (13, 71), (43, 78), (27, 97), (45, 67), (30, 99), (25, 98), (31, 99), (28, 95)}\n",
      "Start tiling dataset data/b_composites/bangladesh_all_bands_final-0000000000-0000000000.tif\n",
      "Finished in 1.1504392623901367\n"
     ]
    }
   ],
   "source": [
    "for ds_index, ds in enumerate(datasets[:1]):\n",
    "    bands = data_pixels[ds_index]\n",
    "    num_bands, ds_height, ds_length = bands.shape\n",
    "    print(\"bands.shape\", num_bands, ds_height, ds_length)\n",
    "    num_rows = ds_height // tile_height\n",
    "    num_cols = ds_length // tile_length\n",
    "    print(\"total rows and cols\", num_rows, num_cols)\n",
    "    \n",
    "    bounds = {\n",
    "        \"bottom\": ds.bounds.bottom,\n",
    "        \"top\": ds.bounds.top,\n",
    "        \"left\": ds.bounds.left,\n",
    "        \"right\": ds.bounds.right\n",
    "    }\n",
    "    \n",
    "    row_px_excess, col_px_excess = None, None\n",
    "    percent_row_excess, percent_col_excess = None, None\n",
    "    \n",
    "    if ds_index % num_image_cols == num_image_cols - 1: # rightmost column\n",
    "        # calculate excess col pixels\n",
    "        col_px_excess = ds_length % tile_length\n",
    "        bounds[\"right\"] -= col_px_excess / ds_length * (ds.bounds.right - ds.bounds.left)\n",
    "    \n",
    "    if ds_index // num_image_cols == num_image_rows - 1: # last row\n",
    "        # calculate excess row pixels\n",
    "        row_px_excess = ds_height % tile_height\n",
    "        bounds[\"bottom\"] += row_px_excess / ds_height * (ds.bounds.top - ds.bounds.bottom)\n",
    "    \n",
    "    kiln_tiles = get_kiln_tiles(bounds, num_rows, num_cols)\n",
    "    print(\"Num tiles with kilns:\", len(kiln_tiles))\n",
    "    print(kiln_tiles)\n",
    "    \n",
    "    print(\"Start tiling dataset \" + ds.name)\n",
    "    start_time = time.time()\n",
    "    for tile_idx_row in range(0, num_rows // 2):\n",
    "        px_row = tile_idx_row * tile_height\n",
    "        for tile_idx_col in range(0, num_cols // 2):\n",
    "            px_col = tile_idx_col * tile_length\n",
    "            if (tile_idx_row, tile_idx_col) in kiln_tiles:\n",
    "                data = get_data_given_pixels(ds.bounds, bands, px_row, px_col, True)\n",
    "                pos_counter, pos_save_index = add_example(data, pos_save_index, pos_counter, pos_x_examples, True)\n",
    "            else:\n",
    "                data = get_data_given_pixels(ds.bounds, bands, px_row, px_col, False)\n",
    "                if data is not None:\n",
    "                    neg_counter, neg_save_index = add_example(data, neg_save_index, neg_counter, neg_x_examples, False)\n",
    "    print(\"Finished in\", time.time() - start_time)"
   ]
  },
  {
   "cell_type": "code",
   "execution_count": 118,
   "metadata": {},
   "outputs": [
    {
     "name": "stdout",
     "output_type": "stream",
     "text": [
      "BoundingBox(left=88.02178244056496, bottom=26.02563108539713, right=88.61970109367492, top=26.623549738507084)\n",
      "{'bottom': 26.02563108539713, 'top': 26.623549738507084, 'left': 88.02178244056496, 'right': 88.61970109367492}\n"
     ]
    }
   ],
   "source": [
    "# print(neg_x_examples[10])\n",
    "print(ds.bounds)\n",
    "print(bounds)"
   ]
  },
  {
   "cell_type": "code",
   "execution_count": 43,
   "metadata": {},
   "outputs": [
    {
     "data": {
      "text/plain": [
       "(5000, 13, 64, 64)"
      ]
     },
     "execution_count": 43,
     "metadata": {},
     "output_type": "execute_result"
    }
   ],
   "source": [
    "np.array(neg_x_list).shape\n",
    "# np.array(pos_x_list).shape"
   ]
  },
  {
   "cell_type": "code",
   "execution_count": 65,
   "metadata": {},
   "outputs": [
    {
     "name": "stdout",
     "output_type": "stream",
     "text": [
      "(3, 64, 64)\n"
     ]
    }
   ],
   "source": [
    "cropped = np.array(bands)[:, :64, :64]\n",
    "print(cropped.shape)"
   ]
  },
  {
   "cell_type": "code",
   "execution_count": 98,
   "metadata": {},
   "outputs": [
    {
     "name": "stdout",
     "output_type": "stream",
     "text": [
      "{\"geometry\": {\"coordinates\": [[[88.619701, 25.437328], [88.629316, 25.437328], [88.629316, 25.427712], [88.619701, 25.427712]]], \"type\": \"Polygon\"}, \"properties\": {}, \"type\": \"Feature\"}\n"
     ]
    }
   ],
   "source": [
    "print(tile_bounds)"
   ]
  },
  {
   "cell_type": "code",
   "execution_count": null,
   "metadata": {},
   "outputs": [],
   "source": []
  },
  {
   "cell_type": "code",
   "execution_count": null,
   "metadata": {},
   "outputs": [],
   "source": []
  }
 ],
 "metadata": {
  "kernelspec": {
   "display_name": "Python 3",
   "language": "python",
   "name": "python3"
  },
  "language_info": {
   "codemirror_mode": {
    "name": "ipython",
    "version": 3
   },
   "file_extension": ".py",
   "mimetype": "text/x-python",
   "name": "python",
   "nbconvert_exporter": "python",
   "pygments_lexer": "ipython3",
   "version": "3.8.5"
  }
 },
 "nbformat": 4,
 "nbformat_minor": 4
}
