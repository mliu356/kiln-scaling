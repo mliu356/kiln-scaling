{
 "cells": [
  {
   "cell_type": "markdown",
   "metadata": {},
   "source": [
    "# To-Do\n",
    "* only get negative examples completely in bangladesh [done]\n",
    "* read composite images directly from drive\n",
    "* only need to snip the cols in the last row and the rows in the last col\n",
    "* create github [done]\n",
    "* save data to .data [done]\n",
    "* don't upload .data to github [done]"
   ]
  },
  {
   "cell_type": "code",
   "execution_count": 1,
   "metadata": {},
   "outputs": [],
   "source": [
    "import os\n",
    "import json\n",
    "import requests\n",
    "import time\n",
    "from requests.auth import HTTPBasicAuth\n",
    "import pandas as pd\n",
    "import datetime\n",
    "import rasterio\n",
    "from matplotlib import pyplot as plt\n",
    "import numpy as np\n",
    "from shapely.geometry import Point\n",
    "from shapely.geometry.polygon import Polygon\n",
    "from os import listdir\n",
    "from os.path import isfile, join"
   ]
  },
  {
   "cell_type": "code",
   "execution_count": 2,
   "metadata": {},
   "outputs": [
    {
     "name": "stdout",
     "output_type": "stream",
     "text": [
      "Reading files: ['bangladesh_all_bands_final-0000000000-0000000000.tif', 'bangladesh_all_bands_final-0000000000-0000006656.tif', 'bangladesh_all_bands_final-0000006656-0000000000.tif', 'bangladesh_all_bands_final-0000006656-0000006656.tif']\n",
      "number of image grid columns: 2\n",
      "number of image grid rows: 2\n"
     ]
    }
   ],
   "source": [
    "datasets = []\n",
    "\n",
    "# read datasets from folder\n",
    "folder_name = \"data/b_composites/\"\n",
    "dataset_files = [f for f in listdir(folder_name) if isfile(join(folder_name, f))]\n",
    "dataset_files.sort()\n",
    "print(\"Reading files:\", dataset_files)\n",
    "\n",
    "for file in dataset_files:\n",
    "    datasets += [rasterio.open(folder_name + file)]\n",
    "\n",
    "# print(datasets)\n",
    "    \n",
    "# calculate image grid (don't need yet but will eventually)\n",
    "first_x_coord = dataset_files[0].split(\".\")[0].split(\"-\")[1]\n",
    "first_y_coord = dataset_files[0].split(\".\")[0].split(\"-\")[2]\n",
    "num_image_cols = len([x for x in dataset_files if x.split(\".\")[0].split(\"-\")[1] == first_x_coord])\n",
    "num_image_rows = len([x for x in dataset_files if x.split(\".\")[0].split(\"-\")[2] == first_y_coord])\n",
    "print(\"number of image grid columns:\", num_image_cols)\n",
    "print(\"number of image grid rows:\", num_image_rows)\n",
    "\n",
    "# dataset1 = rasterio.open('b_composites/bangladesh_all_bands_final-0000000000-0000000000.tif')\n",
    "# dataset2 = rasterio.open('b_composites/bangladesh_all_bands_final-0000000000-0000006656.tif')\n",
    "# dataset3 = rasterio.open('b_composites/bangladesh_all_bands_final-0000006656-0000000000.tif')\n",
    "# dataset4 = rasterio.open('b_composites/bangladesh_all_bands_final-0000006656-0000006656.tif')"
   ]
  },
  {
   "cell_type": "code",
   "execution_count": 3,
   "metadata": {},
   "outputs": [
    {
     "name": "stdout",
     "output_type": "stream",
     "text": [
      "   index        lat        lon     x    y      prob prediction   shape\n",
      "0      0  23.796287  90.316715  1043  518  0.564438     zigzag  zigzag\n",
      "1      1  23.940202  90.043026    78  149  0.692853     zigzag  zigzag\n",
      "2      2  25.021253  89.309124   636  327  0.499505        fck     fck\n",
      "3      3  25.308184  89.550603    97   85  0.342437        fck  zigzag\n",
      "4      4  22.561670  92.007151   145  175  0.922128     zigzag  zigzag\n"
     ]
    }
   ],
   "source": [
    "# set params\n",
    "tile_height, tile_length = (64, 64)\n",
    "bands_to_read = None # ['B4', 'B3', 'B2'] # set to None to read all bands\n",
    "examples_per_save_file = 1000\n",
    "save_path = 'data/tiles/'\n",
    "\n",
    "# resources\n",
    "kilns = pd.read_csv(\"data/bangladesh_kilns.csv\")\n",
    "all_bands = ['B1', 'B2', 'B3', 'B4', 'B5', 'B6', 'B7', 'B8A', 'B8', 'B9', 'B10', 'B11', 'B12']\n",
    "band_dict = dict(zip(all_bands, range(1, len(all_bands) + 1)))\n",
    "\n",
    "print(kilns.head())"
   ]
  },
  {
   "cell_type": "code",
   "execution_count": 10,
   "metadata": {},
   "outputs": [
    {
     "name": "stdout",
     "output_type": "stream",
     "text": [
      "True\n"
     ]
    }
   ],
   "source": [
    "coords = []\n",
    "with open(\"data/countries.geojson\", \"r\") as countries_geojson:\n",
    "    country_dict = json.load(countries_geojson)[\"features\"]\n",
    "for obj in country_dict:\n",
    "    name = obj['properties']['ADMIN']\n",
    "    if name == \"Bangladesh\":\n",
    "        coords = obj['geometry'][\"coordinates\"]\n",
    "flat_coords = []\n",
    "for sublist in coords:\n",
    "    for coord in sublist:\n",
    "        for c in coord:\n",
    "            flat_coords.append(c)\n",
    "\n",
    "bangladesh_geo = Polygon(flat_coords)"
   ]
  },
  {
   "cell_type": "code",
   "execution_count": 43,
   "metadata": {},
   "outputs": [
    {
     "name": "stdout",
     "output_type": "stream",
     "text": [
      "<open DatasetReader name='data/b_composites/bangladesh_all_bands_final-0000000000-0000000000.tif' mode='r'>\n",
      "BoundingBox(left=88.02178244056496, bottom=26.02563108539713, right=88.61970109367492, top=26.623549738507084)\n"
     ]
    }
   ],
   "source": [
    "print(datasets[0])\n",
    "print(datasets[0].bounds)"
   ]
  },
  {
   "cell_type": "code",
   "execution_count": 9,
   "metadata": {},
   "outputs": [],
   "source": [
    "# plt.figure(figsize=(5,5))\n",
    "# plt.imshow(bands[0, :, :], cmap='pink')\n",
    "# plt.show() \n",
    "\n",
    "# plt.figure(figsize=(5,5))\n",
    "\n",
    "# cropped = bands[1][:64, :64]\n",
    "# print(cropped.shape)\n",
    "# plt.imshow(cropped, cmap=\"pink\")"
   ]
  },
  {
   "cell_type": "code",
   "execution_count": 74,
   "metadata": {},
   "outputs": [],
   "source": [
    "def get_bands_from_dataset(dataset, band_names=None):\n",
    "    start_time = time.time()\n",
    "    print(\"Reading \" + (\"all\" if band_names is None else str(len(band_names))) \n",
    "          + \" bands from dataset \" + str(dataset.name))\n",
    "    if band_names is None: # get all bands\n",
    "        bands = dataset.read()\n",
    "    else:\n",
    "        bands = []\n",
    "        for idx, band_name in enumerate(band_names):\n",
    "            band_index = band_dict[band_name]\n",
    "            bands += [dataset.read(band_index)]\n",
    "        bands = np.array(bands)\n",
    "    print(\"time to read bands: \" + str(time.time() - start_time))\n",
    "    return bands\n",
    "\n",
    "def get_data_given_pixels(ds_bounds, bands, start_row, start_col, contains_kiln):\n",
    "    num_bands, ds_height, ds_length = bands.shape\n",
    "    tile_top = ds_bounds.top - (start_row / ds_height) * (ds_bounds.top - ds_bounds.bottom)\n",
    "    tile_bottom = ds_bounds.top - ((start_row + tile_height) / ds_height) * (ds_bounds.top - ds_bounds.bottom)\n",
    "    tile_left = ds_bounds.left + (start_col / ds_length) * (ds_bounds.right - ds.bounds.left)\n",
    "    tile_right = ds_bounds.left + ((start_col + tile_length) / ds_length) * (ds_bounds.right - ds.bounds.left)\n",
    "    tile_coordinates = [[tile_left, tile_top], [tile_right, tile_top], [tile_right, tile_bottom], [tile_left, tile_bottom]]\n",
    "#     print(\"top\", tile_top, \"bottom\", tile_bottom, \"left\", tile_left, \"right\", tile_right)\n",
    "    \n",
    "    if not contains_kiln:\n",
    "        for point in [Point([c[0], c[1]]) for c in tile_coordinates]:\n",
    "            if not bangladesh_geo.contains(point):\n",
    "                return None\n",
    "    return bands[:, start_row : start_row + tile_height, start_col : start_col + tile_length]\n",
    "\n",
    "# def add_example(ex_data, save_index, list_to_add, is_positive):\n",
    "def add_example(ex_data, save_index, counter, examples, is_positive):\n",
    "    examples[counter] = ex_data\n",
    "    new_counter = counter + 1\n",
    "    # save files if needed\n",
    "    if new_counter == examples_per_save_file:\n",
    "        filename = save_path + (\"pos\" if is_positive else \"neg\") + \"_examples_\" + str(save_index) + \".csv\"\n",
    "        print(\"Saving file\", filename)\n",
    "        np.savetxt(filename, examples.flatten(), delimiter=\",\")\n",
    "        print(\"Finished saving file\")\n",
    "        save_index += 1\n",
    "        new_counter = 0\n",
    "    return new_counter, save_index\n",
    "\n",
    "def get_kiln_tiles(bounds, num_rows, num_cols):\n",
    "    kilns_in_image = kilns.loc[(kilns['lat'] >= bounds['bottom']) & (kilns['lat'] <= bounds['top']) \n",
    "        & (kilns['lon'] >= bounds['left']) & (kilns['lon'] <= bounds['right'])]\n",
    "    \n",
    "    tiles = set() # set of tuples of (tile_row, tile_col)\n",
    "    for index, kiln in kilns_in_image.iterrows():\n",
    "        lon_percent = 1 - (kiln['lon'] - bounds['left']) / (bounds['right'] - bounds['left'])\n",
    "        row_index = int(num_rows * lon_percent)\n",
    "        \n",
    "        lat_percent = 1 - (kiln['lat'] - bounds['bottom']) / (bounds['top'] - bounds['bottom'])\n",
    "        col_index = int(num_cols * lat_percent)\n",
    "        tiles.add((row_index, col_index))\n",
    "    return tiles\n",
    "        "
   ]
  },
  {
   "cell_type": "code",
   "execution_count": 13,
   "metadata": {},
   "outputs": [
    {
     "name": "stdout",
     "output_type": "stream",
     "text": [
      "Reading all bands from dataset data/b_composites/bangladesh_all_bands_final-0000000000-0000000000.tif\n",
      "time to read bands: 22.185380935668945\n",
      "Reading all bands from dataset data/b_composites/bangladesh_all_bands_final-0000000000-0000006656.tif\n",
      "time to read bands: 22.828599214553833\n",
      "Reading all bands from dataset data/b_composites/bangladesh_all_bands_final-0000006656-0000000000.tif\n",
      "time to read bands: 23.33644390106201\n",
      "Reading all bands from dataset data/b_composites/bangladesh_all_bands_final-0000006656-0000006656.tif\n",
      "time to read bands: 21.856069087982178\n",
      "Data shape: (13, 6656, 6656)\n"
     ]
    }
   ],
   "source": [
    "data_pixels = []\n",
    "for ds in datasets:\n",
    "    data_pixels += [get_bands_from_dataset(ds, band_names=bands_to_read)]\n",
    "    \n",
    "print(\"Data shape:\", data_pixels[0].shape)"
   ]
  },
  {
   "cell_type": "code",
   "execution_count": 79,
   "metadata": {},
   "outputs": [
    {
     "name": "stdout",
     "output_type": "stream",
     "text": [
      "Examples shape: (1000, 13, 64, 64)\n"
     ]
    }
   ],
   "source": [
    "pos_save_index = 0\n",
    "neg_save_index = 0\n",
    "pos_counter = 0\n",
    "neg_counter = 0\n",
    "\n",
    "pos_x_examples = np.zeros([examples_per_save_file, len(all_bands) if bands_to_read is None else len(bands_to_read), tile_height, tile_length])\n",
    "neg_x_examples = np.zeros([examples_per_save_file, len(all_bands) if bands_to_read is None else len(bands_to_read), tile_height, tile_length])\n",
    "print(\"Examples shape:\", pos_x_examples.shape)"
   ]
  },
  {
   "cell_type": "code",
   "execution_count": 80,
   "metadata": {
    "scrolled": true
   },
   "outputs": [
    {
     "name": "stdout",
     "output_type": "stream",
     "text": [
      "total rows and cols 104 104\n",
      "Num tiles with kilns: 11\n",
      "{(27, 98), (58, 91), (12, 71), (13, 71), (43, 78), (27, 97), (45, 67), (30, 99), (25, 98), (31, 99), (28, 95)}\n",
      "Start tiling dataset data/b_composites/bangladesh_all_bands_final-0000000000-0000000000.tif\n",
      "Saving file data/tiles/neg_examples_0.csv\n",
      "Finished saving\n",
      "Saving file data/tiles/neg_examples_1.csv\n"
     ]
    },
    {
     "ename": "KeyboardInterrupt",
     "evalue": "",
     "output_type": "error",
     "traceback": [
      "\u001b[0;31m---------------------------------------------------------------------------\u001b[0m",
      "\u001b[0;31mKeyboardInterrupt\u001b[0m                         Traceback (most recent call last)",
      "\u001b[0;32m<ipython-input-80-8536c63dcf81>\u001b[0m in \u001b[0;36m<module>\u001b[0;34m\u001b[0m\n\u001b[1;32m     42\u001b[0m                 \u001b[0mdata\u001b[0m \u001b[0;34m=\u001b[0m \u001b[0mget_data_given_pixels\u001b[0m\u001b[0;34m(\u001b[0m\u001b[0mds\u001b[0m\u001b[0;34m.\u001b[0m\u001b[0mbounds\u001b[0m\u001b[0;34m,\u001b[0m \u001b[0mbands\u001b[0m\u001b[0;34m,\u001b[0m \u001b[0mpx_row\u001b[0m\u001b[0;34m,\u001b[0m \u001b[0mpx_col\u001b[0m\u001b[0;34m,\u001b[0m \u001b[0;32mFalse\u001b[0m\u001b[0;34m)\u001b[0m\u001b[0;34m\u001b[0m\u001b[0;34m\u001b[0m\u001b[0m\n\u001b[1;32m     43\u001b[0m                 \u001b[0;32mif\u001b[0m \u001b[0mdata\u001b[0m \u001b[0;32mis\u001b[0m \u001b[0;32mnot\u001b[0m \u001b[0;32mNone\u001b[0m\u001b[0;34m:\u001b[0m\u001b[0;34m\u001b[0m\u001b[0;34m\u001b[0m\u001b[0m\n\u001b[0;32m---> 44\u001b[0;31m                     \u001b[0mneg_counter\u001b[0m\u001b[0;34m,\u001b[0m \u001b[0mneg_save_index\u001b[0m \u001b[0;34m=\u001b[0m \u001b[0madd_example\u001b[0m\u001b[0;34m(\u001b[0m\u001b[0mdata\u001b[0m\u001b[0;34m,\u001b[0m \u001b[0mneg_save_index\u001b[0m\u001b[0;34m,\u001b[0m \u001b[0mneg_counter\u001b[0m\u001b[0;34m,\u001b[0m \u001b[0mneg_x_examples\u001b[0m\u001b[0;34m,\u001b[0m \u001b[0;32mFalse\u001b[0m\u001b[0;34m)\u001b[0m\u001b[0;34m\u001b[0m\u001b[0;34m\u001b[0m\u001b[0m\n\u001b[0m\u001b[1;32m     45\u001b[0m     \u001b[0mprint\u001b[0m\u001b[0;34m(\u001b[0m\u001b[0;34m\"Finished in\"\u001b[0m\u001b[0;34m,\u001b[0m \u001b[0mtime\u001b[0m\u001b[0;34m.\u001b[0m\u001b[0mtime\u001b[0m\u001b[0;34m(\u001b[0m\u001b[0;34m)\u001b[0m \u001b[0;34m-\u001b[0m \u001b[0mstart_time\u001b[0m\u001b[0;34m)\u001b[0m\u001b[0;34m\u001b[0m\u001b[0;34m\u001b[0m\u001b[0m\n",
      "\u001b[0;32m<ipython-input-74-b723cb5f53e1>\u001b[0m in \u001b[0;36madd_example\u001b[0;34m(ex_data, save_index, counter, examples, is_positive)\u001b[0m\n\u001b[1;32m     38\u001b[0m         \u001b[0mfilename\u001b[0m \u001b[0;34m=\u001b[0m \u001b[0msave_path\u001b[0m \u001b[0;34m+\u001b[0m \u001b[0;34m(\u001b[0m\u001b[0;34m\"pos\"\u001b[0m \u001b[0;32mif\u001b[0m \u001b[0mis_positive\u001b[0m \u001b[0;32melse\u001b[0m \u001b[0;34m\"neg\"\u001b[0m\u001b[0;34m)\u001b[0m \u001b[0;34m+\u001b[0m \u001b[0;34m\"_examples_\"\u001b[0m \u001b[0;34m+\u001b[0m \u001b[0mstr\u001b[0m\u001b[0;34m(\u001b[0m\u001b[0msave_index\u001b[0m\u001b[0;34m)\u001b[0m \u001b[0;34m+\u001b[0m \u001b[0;34m\".csv\"\u001b[0m\u001b[0;34m\u001b[0m\u001b[0;34m\u001b[0m\u001b[0m\n\u001b[1;32m     39\u001b[0m         \u001b[0mprint\u001b[0m\u001b[0;34m(\u001b[0m\u001b[0;34m\"Saving file\"\u001b[0m\u001b[0;34m,\u001b[0m \u001b[0mfilename\u001b[0m\u001b[0;34m)\u001b[0m\u001b[0;34m\u001b[0m\u001b[0;34m\u001b[0m\u001b[0m\n\u001b[0;32m---> 40\u001b[0;31m         \u001b[0mnp\u001b[0m\u001b[0;34m.\u001b[0m\u001b[0msavetxt\u001b[0m\u001b[0;34m(\u001b[0m\u001b[0mfilename\u001b[0m\u001b[0;34m,\u001b[0m \u001b[0mexamples\u001b[0m\u001b[0;34m.\u001b[0m\u001b[0mflatten\u001b[0m\u001b[0;34m(\u001b[0m\u001b[0;34m)\u001b[0m\u001b[0;34m,\u001b[0m \u001b[0mdelimiter\u001b[0m\u001b[0;34m=\u001b[0m\u001b[0;34m\",\"\u001b[0m\u001b[0;34m)\u001b[0m\u001b[0;34m\u001b[0m\u001b[0;34m\u001b[0m\u001b[0m\n\u001b[0m\u001b[1;32m     41\u001b[0m         \u001b[0mprint\u001b[0m\u001b[0;34m(\u001b[0m\u001b[0;34m\"Finished saving\"\u001b[0m\u001b[0;34m)\u001b[0m\u001b[0;34m\u001b[0m\u001b[0;34m\u001b[0m\u001b[0m\n\u001b[1;32m     42\u001b[0m         \u001b[0msave_index\u001b[0m \u001b[0;34m+=\u001b[0m \u001b[0;36m1\u001b[0m\u001b[0;34m\u001b[0m\u001b[0;34m\u001b[0m\u001b[0m\n",
      "\u001b[0;32m<__array_function__ internals>\u001b[0m in \u001b[0;36msavetxt\u001b[0;34m(*args, **kwargs)\u001b[0m\n",
      "\u001b[0;32m~/anaconda3/lib/python3.8/site-packages/numpy/lib/npyio.py\u001b[0m in \u001b[0;36msavetxt\u001b[0;34m(fname, X, fmt, delimiter, newline, header, footer, comments, encoding)\u001b[0m\n\u001b[1;32m   1422\u001b[0m             \u001b[0;32mfor\u001b[0m \u001b[0mrow\u001b[0m \u001b[0;32min\u001b[0m \u001b[0mX\u001b[0m\u001b[0;34m:\u001b[0m\u001b[0;34m\u001b[0m\u001b[0;34m\u001b[0m\u001b[0m\n\u001b[1;32m   1423\u001b[0m                 \u001b[0;32mtry\u001b[0m\u001b[0;34m:\u001b[0m\u001b[0;34m\u001b[0m\u001b[0;34m\u001b[0m\u001b[0m\n\u001b[0;32m-> 1424\u001b[0;31m                     \u001b[0mv\u001b[0m \u001b[0;34m=\u001b[0m \u001b[0mformat\u001b[0m \u001b[0;34m%\u001b[0m \u001b[0mtuple\u001b[0m\u001b[0;34m(\u001b[0m\u001b[0mrow\u001b[0m\u001b[0;34m)\u001b[0m \u001b[0;34m+\u001b[0m \u001b[0mnewline\u001b[0m\u001b[0;34m\u001b[0m\u001b[0;34m\u001b[0m\u001b[0m\n\u001b[0m\u001b[1;32m   1425\u001b[0m                 \u001b[0;32mexcept\u001b[0m \u001b[0mTypeError\u001b[0m\u001b[0;34m:\u001b[0m\u001b[0;34m\u001b[0m\u001b[0;34m\u001b[0m\u001b[0m\n\u001b[1;32m   1426\u001b[0m                     raise TypeError(\"Mismatch between array dtype ('%s') and \"\n",
      "\u001b[0;31mKeyboardInterrupt\u001b[0m: "
     ]
    }
   ],
   "source": [
    "for ds_index, ds in enumerate(datasets[:1]):\n",
    "    bands = data_pixels[ds_index]\n",
    "    num_bands, ds_height, ds_length = bands.shape\n",
    "    num_rows = ds_height // tile_height\n",
    "    num_cols = ds_length // tile_length\n",
    "    print(\"total rows and cols\", num_rows, num_cols)\n",
    "    \n",
    "    bounds = {\n",
    "        \"bottom\": ds.bounds.bottom,\n",
    "        \"top\": ds.bounds.top,\n",
    "        \"left\": ds.bounds.left,\n",
    "        \"right\": ds.bounds.right\n",
    "    }\n",
    "    \n",
    "    row_px_excess, col_px_excess = None, None\n",
    "    percent_row_excess, percent_col_excess = None, None\n",
    "    \n",
    "    if ds_index % num_image_cols == num_image_cols - 1: # rightmost column\n",
    "        # calculate excess col pixels\n",
    "        col_px_excess = ds_length % tile_length\n",
    "        bounds[\"right\"] -= col_px_excess / ds_length * (ds.bounds.right - ds.bounds.left)\n",
    "    \n",
    "    if ds_index // num_image_cols == num_image_rows - 1: # last row\n",
    "        # calculate excess row pixels\n",
    "        row_px_excess = ds_height % tile_height\n",
    "        bounds[\"top\"] -= row_px_excess / ds_height * (ds.bounds.top - ds.bounds.bottom)\n",
    "    \n",
    "    kiln_tiles = get_kiln_tiles(bounds, num_rows, num_cols)\n",
    "    print(\"Num tiles with kilns:\", len(kiln_tiles))\n",
    "    print(kiln_tiles)\n",
    "    \n",
    "    print(\"Start tiling dataset \" + ds.name)\n",
    "    start_time = time.time()\n",
    "    for tile_idx_row in range(0, num_rows):\n",
    "        px_row = tile_idx_row * tile_height\n",
    "        for tile_idx_col in range(0, num_cols):\n",
    "            px_col = tile_idx_col * tile_length\n",
    "            if (tile_idx_row, tile_idx_col) in kiln_tiles:\n",
    "                data = get_data_given_pixels(ds.bounds, bands, px_row, px_col, True)\n",
    "                pos_counter, pos_save_index = add_example(data, pos_save_index, pos_counter, pos_x_examples, True)\n",
    "            else:\n",
    "                data = get_data_given_pixels(ds.bounds, bands, px_row, px_col, False)\n",
    "                if data is not None:\n",
    "                    neg_counter, neg_save_index = add_example(data, neg_save_index, neg_counter, neg_x_examples, False)\n",
    "    print(\"Finished in\", time.time() - start_time)"
   ]
  },
  {
   "cell_type": "code",
   "execution_count": 88,
   "metadata": {},
   "outputs": [
    {
     "name": "stdout",
     "output_type": "stream",
     "text": [
      "[[[ 870.5  870.5  870.5 ... 1008.  1008.  1008. ]\n",
      "  [ 870.5  870.5  870.5 ... 1008.  1008.  1008. ]\n",
      "  [ 870.5  870.5  870.5 ... 1008.  1008.  1008. ]\n",
      "  ...\n",
      "  [ 752.5  752.5  752.5 ...  782.   782.   782. ]\n",
      "  [ 752.5  752.5  752.5 ...  782.   782.   782. ]\n",
      "  [ 752.5  752.5  752.5 ...  782.   782.   782. ]]\n",
      "\n",
      " [[1102.5 1102.5 1099.  ... 1155.  1138.  1152.5]\n",
      "  [1111.5 1111.5 1124.5 ... 1147.  1147.5 1154.5]\n",
      "  [1096.5 1096.5 1106.5 ... 1123.5 1119.5 1161. ]\n",
      "  ...\n",
      "  [ 723.5  905.5  911.  ...  932.5  875.5  798.5]\n",
      "  [ 723.5  938.5  987.5 ...  903.5  883.   800.5]\n",
      "  [ 725.5  912.   894.5 ...  866.   900.5  846.5]]\n",
      "\n",
      " [[1239.  1239.  1252.  ... 1309.  1294.  1295. ]\n",
      "  [1250.  1250.  1284.  ... 1306.  1294.  1288. ]\n",
      "  [1249.  1249.  1269.  ... 1288.  1303.  1298. ]\n",
      "  ...\n",
      "  [ 756.5 1007.5 1019.5 ... 1031.5 1014.5  980.5]\n",
      "  [ 756.5 1044.  1100.5 ...  996.   994.5  951. ]\n",
      "  [ 761.  1052.  1015.  ...  968.   989.5  963. ]]\n",
      "\n",
      " ...\n",
      "\n",
      " [[ 141.   141.   139.  ...  145.   146.   145. ]\n",
      "  [ 140.   140.   141.  ...  143.   144.5  145. ]\n",
      "  [ 140.5  140.5  140.5 ...  145.5  143.5  146. ]\n",
      "  ...\n",
      "  [  73.   103.   106.  ...  107.    90.5   77. ]\n",
      "  [  73.   105.5  121.5 ...  106.    99.5   78. ]\n",
      "  [  68.5  102.5  104.5 ...  103.   100.    84. ]]\n",
      "\n",
      " [[ 128.   128.   129.  ...  132.   132.   132.5]\n",
      "  [ 127.5  127.5  131.5 ...  132.   132.   131.5]\n",
      "  [ 126.   126.   130.  ...  131.   133.5  133.5]\n",
      "  ...\n",
      "  [  77.   103.5  104.5 ...  104.5  104.   100. ]\n",
      "  [  77.   106.5  112.5 ...  101.5  101.    97. ]\n",
      "  [  79.5  108.   102.5 ...   99.5  101.    99. ]]\n",
      "\n",
      " [[ 113.5  113.5  112.  ...  117.   115.   115. ]\n",
      "  [ 112.   112.   114.  ...  117.5  116.   118. ]\n",
      "  [ 111.   111.   112.5 ...  113.5  114.   119.5]\n",
      "  ...\n",
      "  [  75.    92.5   93.  ...   95.    88.5   82. ]\n",
      "  [  75.    94.5  101.  ...   92.    92.    82.5]\n",
      "  [  72.    94.5   92.  ...   90.    91.5   86.5]]]\n"
     ]
    }
   ],
   "source": [
    "print(pos_x_examples[10])"
   ]
  },
  {
   "cell_type": "code",
   "execution_count": 43,
   "metadata": {},
   "outputs": [
    {
     "data": {
      "text/plain": [
       "(5000, 13, 64, 64)"
      ]
     },
     "execution_count": 43,
     "metadata": {},
     "output_type": "execute_result"
    }
   ],
   "source": [
    "np.array(neg_x_list).shape\n",
    "# np.array(pos_x_list).shape"
   ]
  },
  {
   "cell_type": "code",
   "execution_count": 65,
   "metadata": {},
   "outputs": [
    {
     "name": "stdout",
     "output_type": "stream",
     "text": [
      "(3, 64, 64)\n"
     ]
    }
   ],
   "source": [
    "cropped = np.array(bands)[:, :64, :64]\n",
    "print(cropped.shape)"
   ]
  },
  {
   "cell_type": "code",
   "execution_count": 98,
   "metadata": {},
   "outputs": [
    {
     "name": "stdout",
     "output_type": "stream",
     "text": [
      "{\"geometry\": {\"coordinates\": [[[88.619701, 25.437328], [88.629316, 25.437328], [88.629316, 25.427712], [88.619701, 25.427712]]], \"type\": \"Polygon\"}, \"properties\": {}, \"type\": \"Feature\"}\n"
     ]
    }
   ],
   "source": [
    "print(tile_bounds)"
   ]
  },
  {
   "cell_type": "code",
   "execution_count": null,
   "metadata": {},
   "outputs": [],
   "source": []
  },
  {
   "cell_type": "code",
   "execution_count": null,
   "metadata": {},
   "outputs": [],
   "source": []
  }
 ],
 "metadata": {
  "kernelspec": {
   "display_name": "Python 3",
   "language": "python",
   "name": "python3"
  },
  "language_info": {
   "codemirror_mode": {
    "name": "ipython",
    "version": 3
   },
   "file_extension": ".py",
   "mimetype": "text/x-python",
   "name": "python",
   "nbconvert_exporter": "python",
   "pygments_lexer": "ipython3",
   "version": "3.8.5"
  }
 },
 "nbformat": 4,
 "nbformat_minor": 4
}
