{
 "cells": [
  {
   "cell_type": "markdown",
   "metadata": {
    "id": "L73e9cFOyC-d"
   },
   "source": [
    "# Earth Engine Getting Composite\n",
    "This notebook runs on Google Colab to get a country's Composite"
   ]
  },
  {
   "cell_type": "code",
   "execution_count": 4,
   "metadata": {
    "id": "0k76bz3fyHHq"
   },
   "outputs": [],
   "source": [
    "import ee\n",
    "import geemap\n",
    "import pandas as pd\n",
    "import numpy as np\n",
    "import json\n",
    "import ipyleaflet"
   ]
  },
  {
   "cell_type": "code",
   "execution_count": null,
   "metadata": {
    "colab": {
     "base_uri": "https://localhost:8080/"
    },
    "id": "AAH8H4EPyaOs",
    "outputId": "9ea257a3-f3d9-4934-caaf-8d9a92aa6755"
   },
   "outputs": [],
   "source": [
    "ee.Authenticate()\n",
    "ee.Initialize()"
   ]
  },
  {
   "cell_type": "code",
   "execution_count": 1,
   "metadata": {
    "colab": {
     "background_save": true,
     "base_uri": "https://localhost:8080/",
     "height": 73
    },
    "id": "Wd189DSTyk7v",
    "outputId": "174bd708-bac2-437d-800d-8548dba4fbfb"
   },
   "outputs": [],
   "source": [
    "PATH = \"../utils/\"\n",
    "COUNTRY = \"Bangladesh\""
   ]
  },
  {
   "cell_type": "code",
   "execution_count": null,
   "metadata": {
    "colab": {
     "background_save": true
    },
    "id": "5hhAvVaayjds"
   },
   "outputs": [],
   "source": [
    "coords = []\n",
    "with open(PATH + \"countries.geojson\", \"r\") as countries_geojson:\n",
    "    country_dict = json.load(countries_geojson)[\"features\"]\n",
    "for obj in country_dict:\n",
    "    name = obj['properties']['ADMIN']\n",
    "    if name == COUNTRY:\n",
    "        coords = obj['geometry'][\"coordinates\"]\n",
    "flat_coords = []\n",
    "for sublist in coords:\n",
    "  for coord in sublist:\n",
    "    for c in coord:\n",
    "      flat_coords.append(c)\n",
    "boundary = ee.FeatureCollection(ee.Geometry.Polygon(flat_coords))"
   ]
  },
  {
   "cell_type": "code",
   "execution_count": null,
   "metadata": {
    "colab": {
     "background_save": true
    },
    "id": "7RNMXqu66K2V"
   },
   "outputs": [],
   "source": [
    "Map = geemap.Map()"
   ]
  },
  {
   "cell_type": "code",
   "execution_count": null,
   "metadata": {
    "colab": {
     "background_save": true
    },
    "id": "tIY4Dr3xyH-l"
   },
   "outputs": [],
   "source": [
    "dataset = ee.ImageCollection('COPERNICUS/S2_SR') \\\n",
    "  .filterDate('2018-10-01', '2019-05-31') \\\n",
    "  .filterBounds(ee.Geometry.Polygon(flat_coords)) \\\n",
    "  .filterMetadata('CLOUDY_PIXEL_PERCENTAGE', 'less_than', 0.2) \\"
   ]
  },
  {
   "cell_type": "code",
   "execution_count": null,
   "metadata": {
    "colab": {
     "background_save": true
    },
    "id": "twEH7HGzCxK1"
   },
   "outputs": [],
   "source": [
    "save_path = 'gdrive/MyDrive/*Stanford/*21winter/kiln_data/data_tiled/'\n",
    "path =  \"Bangladesh_images_all_bands_scale_10\"\n",
    "bang_coords = ee.Geometry.Polygon(flat_coords)\n",
    "bands = ['B1', 'B2', 'B3', 'B4', 'B5', 'B7', 'B8A', 'B8', 'B11', 'B12', 'TCI_R', 'TCI_G', 'TCI_B']\n",
    "rgb = ['B4', 'B3', \"B2\"]\n",
    "composite = dataset.mean().select(bands)"
   ]
  },
  {
   "cell_type": "code",
   "execution_count": null,
   "metadata": {
    "id": "hONAWo__ECkD"
   },
   "outputs": [],
   "source": [
    "Map.addLayer(composite)\n",
    "Map"
   ]
  },
  {
   "cell_type": "code",
   "execution_count": null,
   "metadata": {
    "colab": {
     "background_save": true
    },
    "id": "Ti-KzVb_KIM8"
   },
   "outputs": [],
   "source": [
    "params = {}\n",
    "params[\"driveFolder\"] = path\n",
    "params[\"region\"] = bang_coords\n",
    "# params[\"scale\"] = 30\n",
    "params[\"maxPixels\"] = 1.0e13\n",
    "# params[\"maxPixels\"] = 4096\n",
    "params[\"scale\"] = 10\n",
    "params[\"fileFormat\"] = \"GeoTIFF\"\n",
    "params[\"formatOptions\"] = {}\n",
    "\n",
    "task = ee.batch.Export.image(composite, \"bangladesh_all_bands_final\", params)\n",
    "task.start()"
   ]
  },
  {
   "cell_type": "code",
   "execution_count": null,
   "metadata": {
    "colab": {
     "background_save": true
    },
    "id": "UCy0Jz7TJj1C",
    "outputId": "1bc20f37-28d0-420e-f308-945e7d28ce0d"
   },
   "outputs": [
    {
     "data": {
      "text/plain": [
       "[<Task EXPORT_IMAGE: bangladesh_all_bands_final (READY)>,\n",
       " <Task EXPORT_IMAGE: bangladesh_all_bands_final (COMPLETED)>,\n",
       " <Task EXPORT_IMAGE: bangladesh_all_bands_final (FAILED)>,\n",
       " <Task EXPORT_IMAGE: bangladesh_all_bands_final (FAILED)>,\n",
       " <Task EXPORT_IMAGE: bangladesh_all_bands_final (FAILED)>,\n",
       " <Task EXPORT_IMAGE: bangladesh_all_bands_final (COMPLETED)>,\n",
       " <Task EXPORT_IMAGE: bangladesh_all_bands_final (CANCELLED)>,\n",
       " <Task EXPORT_IMAGE: bangladesh_all_bands_final (CANCELLED)>,\n",
       " <Task EXPORT_IMAGE: bangladesh_big (COMPLETED)>,\n",
       " <Task EXPORT_IMAGE: bangladesh_big (CANCELLED)>,\n",
       " <Task EXPORT_IMAGE: bangladesh_big (COMPLETED)>,\n",
       " <Task EXPORT_IMAGE: bangladesh (COMPLETED)>,\n",
       " <Task EXPORT_IMAGE: Bangladesh (FAILED)>]"
      ]
     },
     "execution_count": 0,
     "metadata": {
      "tags": []
     },
     "output_type": "execute_result"
    }
   ],
   "source": [
    " task.list()"
   ]
  },
  {
   "cell_type": "code",
   "execution_count": null,
   "metadata": {
    "colab": {
     "base_uri": "https://localhost:8080/"
    },
    "id": "S34Pu02aRv5-",
    "outputId": "1cff03c8-4518-4e80-d16d-7ac22a7e6d7b"
   },
   "outputs": [
    {
     "data": {
      "text/plain": [
       "{'description': 'bangladesh_all_bands_final'}"
      ]
     },
     "execution_count": 21,
     "metadata": {
      "tags": []
     },
     "output_type": "execute_result"
    }
   ],
   "source": [
    "task.start()"
   ]
  }
 ],
 "metadata": {
  "colab": {
   "collapsed_sections": [],
   "name": "get_images.ipynb",
   "provenance": []
  },
  "kernelspec": {
   "display_name": "Python 3",
   "language": "python",
   "name": "python3"
  },
  "language_info": {
   "codemirror_mode": {
    "name": "ipython",
    "version": 3
   },
   "file_extension": ".py",
   "mimetype": "text/x-python",
   "name": "python",
   "nbconvert_exporter": "python",
   "pygments_lexer": "ipython3",
   "version": "3.7.6"
  }
 },
 "nbformat": 4,
 "nbformat_minor": 1
}
