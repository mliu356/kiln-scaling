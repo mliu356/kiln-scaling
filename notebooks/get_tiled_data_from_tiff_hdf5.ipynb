{
 "cells": [
  {
   "cell_type": "code",
   "execution_count": 4,
   "metadata": {},
   "outputs": [],
   "source": [
    "# !pip install pandas\n",
    "# jupyter nbconvert --to script get_tiled_data_from_tiff_hdf5.ipynb"
   ]
  },
  {
   "cell_type": "code",
   "execution_count": 1,
   "metadata": {},
   "outputs": [
    {
     "ename": "ModuleNotFoundError",
     "evalue": "No module named 'pandas'",
     "output_type": "error",
     "traceback": [
      "\u001b[0;31m---------------------------------------------------------------------------\u001b[0m",
      "\u001b[0;31mModuleNotFoundError\u001b[0m                       Traceback (most recent call last)",
      "\u001b[0;32m<ipython-input-6-4e14bfc155f6>\u001b[0m in \u001b[0;36m<module>\u001b[0;34m\u001b[0m\n\u001b[1;32m      2\u001b[0m \u001b[0;32mimport\u001b[0m \u001b[0mjson\u001b[0m\u001b[0;34m\u001b[0m\u001b[0;34m\u001b[0m\u001b[0m\n\u001b[1;32m      3\u001b[0m \u001b[0;32mimport\u001b[0m \u001b[0mtime\u001b[0m\u001b[0;34m\u001b[0m\u001b[0;34m\u001b[0m\u001b[0m\n\u001b[0;32m----> 4\u001b[0;31m \u001b[0;32mimport\u001b[0m \u001b[0mpandas\u001b[0m \u001b[0;32mas\u001b[0m \u001b[0mpd\u001b[0m\u001b[0;34m\u001b[0m\u001b[0;34m\u001b[0m\u001b[0m\n\u001b[0m\u001b[1;32m      5\u001b[0m \u001b[0;32mimport\u001b[0m \u001b[0mdatetime\u001b[0m\u001b[0;34m\u001b[0m\u001b[0;34m\u001b[0m\u001b[0m\n\u001b[1;32m      6\u001b[0m \u001b[0;32mimport\u001b[0m \u001b[0mrasterio\u001b[0m\u001b[0;34m\u001b[0m\u001b[0;34m\u001b[0m\u001b[0m\n",
      "\u001b[0;31mModuleNotFoundError\u001b[0m: No module named 'pandas'"
     ]
    }
   ],
   "source": [
    "import os\n",
    "import json\n",
    "import time\n",
    "import pandas as pd\n",
    "import datetime\n",
    "import rasterio\n",
    "from matplotlib import pyplot as plt\n",
    "import numpy as np\n",
    "from shapely.geometry import Point\n",
    "from shapely.geometry.polygon import Polygon\n",
    "from os import path\n",
    "import h5py\n",
    "import geopy.distance"
   ]
  },
  {
   "cell_type": "code",
   "execution_count": 2,
   "metadata": {},
   "outputs": [],
   "source": [
    "from pydrive.auth import GoogleAuth\n",
    "from pydrive.drive import GoogleDrive\n",
    "\n",
    "gauth = GoogleAuth()\n",
    "# Try to load saved client credentials\n",
    "gauth.LoadCredentialsFile(\"mycreds.txt\")\n",
    "if gauth.credentials is None:\n",
    "    # Authenticate if they're not there\n",
    "    gauth.LocalWebserverAuth()\n",
    "elif gauth.access_token_expired:\n",
    "    # Refresh them if expired\n",
    "    gauth.Refresh()\n",
    "else:\n",
    "    # Initialize the saved creds\n",
    "    gauth.Authorize()\n",
    "# Save the current credentials to a file\n",
    "gauth.SaveCredentialsFile(\"mycreds.txt\")\n",
    "\n",
    "drive = GoogleDrive(gauth)"
   ]
  },
  {
   "cell_type": "code",
   "execution_count": 22,
   "metadata": {},
   "outputs": [
    {
     "name": "stdout",
     "output_type": "stream",
     "text": [
      "   index        lat        lon     x    y      prob prediction   shape\n",
      "0      0  23.796287  90.316715  1043  518  0.564438     zigzag  zigzag\n",
      "1      1  23.940202  90.043026    78  149  0.692853     zigzag  zigzag\n",
      "2      2  25.021253  89.309124   636  327  0.499505        fck     fck\n",
      "3      3  25.308184  89.550603    97   85  0.342437        fck  zigzag\n",
      "4      4  22.561670  92.007151   145  175  0.922128     zigzag  zigzag\n"
     ]
    }
   ],
   "source": [
    "# set params\n",
    "tile_height, tile_length = (64, 64)\n",
    "examples_per_save_file = 1000\n",
    "composite_file_name = 'bangladesh_all_bands_final'\n",
    "download_all_first = True\n",
    "offset_px = 20\n",
    "offset_configs = [(0, 0), (offset_px, 0), (0, offset_px), (offset_px, offset_px)]\n",
    "\n",
    "\n",
    "# save_path = '/atlas/u/mhelabd/data/kiln-scaling/tiles/'\n",
    "# composite_save_path = '/atlas/u/mhelabd/data/kiln-scaling/composites/'\n",
    "\n",
    "save_path = '/atlas/u/mliu356/data/kiln-scaling/tiles_with_offsets/'\n",
    "composite_save_path = '/atlas/u/mliu356/data/kiln-scaling/composites/'\n",
    "\n",
    "# save_path = '../data/tiles_testing/'\n",
    "# composite_save_path = '../data/composites/'\n",
    "\n",
    "# resources\n",
    "kilns = pd.read_csv(\"../data/bangladesh_kilns.csv\")\n",
    "all_bands = ['B1', 'B2', 'B3', 'B4', 'B5', 'B6', 'B7', 'B8A', 'B8', 'B9', 'B10', 'B11', 'B12']\n",
    "\n",
    "print(kilns.head())"
   ]
  },
  {
   "cell_type": "code",
   "execution_count": 4,
   "metadata": {},
   "outputs": [],
   "source": [
    "def mkdirs(names):\n",
    "    for name in names:\n",
    "        if not os.path.exists(name):\n",
    "            os.makedirs(name)\n",
    "mkdirs([save_path, composite_save_path])"
   ]
  },
  {
   "cell_type": "code",
   "execution_count": 5,
   "metadata": {},
   "outputs": [
    {
     "name": "stdout",
     "output_type": "stream",
     "text": [
      "Found 80 files\n",
      "title: bangladesh_all_bands_final-0000000000-0000000000.tif, id: 1ZHtyKejLTVvFo5s1Ui--sA_RqKBtfZlZ\n",
      "title: bangladesh_all_bands_final-0000000000-0000006656.tif, id: 1GlKU0_kZEaisJ8sBWGsl7VNg9pwsPD8Z\n",
      "title: bangladesh_all_bands_final-0000000000-0000013312.tif, id: 1Wm1kJeH2zQ42bNEuqDbSLcR_vP-KEu6_\n",
      "title: bangladesh_all_bands_final-0000000000-0000019968.tif, id: 1RkLg2pzmr9QkVg8NmfPhKVbPGAtxkfKH\n",
      "title: bangladesh_all_bands_final-0000000000-0000026624.tif, id: 1YCQxQ6WzZQTwpEKY7IeW1lWbCBYcUN2l\n"
     ]
    }
   ],
   "source": [
    "file_list = drive.ListFile({'q': \"title contains '\" + composite_file_name + \"'\"}).GetList()\n",
    "print(\"Found \" + str(len(file_list)) + \" files\")\n",
    "file_list = sorted(file_list, key=lambda file: file['title'])\n",
    "for file in file_list[:5]:\n",
    "  print('title: %s, id: %s' % (file['title'], file['id']))"
   ]
  },
  {
   "cell_type": "code",
   "execution_count": 6,
   "metadata": {},
   "outputs": [
    {
     "name": "stdout",
     "output_type": "stream",
     "text": [
      "Number of image grid columns: 8\n",
      "Number of image grid rows: 10\n"
     ]
    }
   ],
   "source": [
    "# calculate image grid\n",
    "first_x_coord = file_list[0]['title'].split(\".\")[0].split(\"-\")[1]\n",
    "first_y_coord = file_list[0]['title'].split(\".\")[0].split(\"-\")[2]\n",
    "num_image_cols = len([x for x in file_list if x['title'].split(\".\")[0].split(\"-\")[1] == first_x_coord])\n",
    "num_image_rows = len([x for x in file_list if x['title'].split(\".\")[0].split(\"-\")[2] == first_y_coord])\n",
    "print(\"Number of image grid columns:\", num_image_cols)\n",
    "print(\"Number of image grid rows:\", num_image_rows)"
   ]
  },
  {
   "cell_type": "code",
   "execution_count": 7,
   "metadata": {},
   "outputs": [],
   "source": [
    "coords = []\n",
    "with open(\"../data/countries.geojson\", \"r\") as countries_geojson:\n",
    "    country_dict = json.load(countries_geojson)[\"features\"]\n",
    "for obj in country_dict:\n",
    "    name = obj['properties']['ADMIN']\n",
    "    if name == \"Bangladesh\":\n",
    "        coords = obj['geometry'][\"coordinates\"]\n",
    "flat_coords = []\n",
    "for sublist in coords:\n",
    "    for coord in sublist:\n",
    "        for c in coord:\n",
    "            flat_coords.append(c)\n",
    "            \n",
    "flat_coords += [flat_coords[0]]\n",
    "bangladesh_geo = Polygon(flat_coords)"
   ]
  },
  {
   "cell_type": "code",
   "execution_count": 8,
   "metadata": {},
   "outputs": [
    {
     "name": "stdout",
     "output_type": "stream",
     "text": [
      "File already downloaded. ../data/composites/bangladesh_all_bands_final-0000000000-0000000000.tif\n",
      "File already downloaded. ../data/composites/bangladesh_all_bands_final-0000000000-0000006656.tif\n",
      "File already downloaded. ../data/composites/bangladesh_all_bands_final-0000000000-0000013312.tif\n",
      "File already downloaded. ../data/composites/bangladesh_all_bands_final-0000000000-0000019968.tif\n",
      "Downloading file...\n"
     ]
    },
    {
     "ename": "KeyboardInterrupt",
     "evalue": "",
     "output_type": "error",
     "traceback": [
      "\u001b[0;31m---------------------------------------------------------------------------\u001b[0m",
      "\u001b[0;31mKeyboardInterrupt\u001b[0m                         Traceback (most recent call last)",
      "\u001b[0;32m<ipython-input-8-7ce8055fc8b6>\u001b[0m in \u001b[0;36m<module>\u001b[0;34m\u001b[0m\n\u001b[1;32m     10\u001b[0m             \u001b[0;31m# download the file\u001b[0m\u001b[0;34m\u001b[0m\u001b[0;34m\u001b[0m\u001b[0;34m\u001b[0m\u001b[0m\n\u001b[1;32m     11\u001b[0m             \u001b[0mdownload_file\u001b[0m \u001b[0;34m=\u001b[0m \u001b[0mdrive\u001b[0m\u001b[0;34m.\u001b[0m\u001b[0mCreateFile\u001b[0m\u001b[0;34m(\u001b[0m\u001b[0;34m{\u001b[0m\u001b[0;34m'id'\u001b[0m\u001b[0;34m:\u001b[0m \u001b[0mfile\u001b[0m\u001b[0;34m[\u001b[0m\u001b[0;34m'id'\u001b[0m\u001b[0;34m]\u001b[0m\u001b[0;34m}\u001b[0m\u001b[0;34m)\u001b[0m\u001b[0;34m\u001b[0m\u001b[0;34m\u001b[0m\u001b[0m\n\u001b[0;32m---> 12\u001b[0;31m             \u001b[0mfile\u001b[0m\u001b[0;34m.\u001b[0m\u001b[0mGetContentFile\u001b[0m\u001b[0;34m(\u001b[0m\u001b[0mcomposite_file_path\u001b[0m\u001b[0;34m)\u001b[0m\u001b[0;34m\u001b[0m\u001b[0;34m\u001b[0m\u001b[0m\n\u001b[0m\u001b[1;32m     13\u001b[0m             \u001b[0mprint\u001b[0m\u001b[0;34m(\u001b[0m\u001b[0;34m\"Finished file in \"\u001b[0m \u001b[0;34m+\u001b[0m \u001b[0mstr\u001b[0m\u001b[0;34m(\u001b[0m\u001b[0mtime\u001b[0m\u001b[0;34m.\u001b[0m\u001b[0mtime\u001b[0m\u001b[0;34m(\u001b[0m\u001b[0;34m)\u001b[0m \u001b[0;34m-\u001b[0m \u001b[0mstart_time\u001b[0m\u001b[0;34m)\u001b[0m\u001b[0;34m)\u001b[0m\u001b[0;34m\u001b[0m\u001b[0;34m\u001b[0m\u001b[0m\n\u001b[1;32m     14\u001b[0m     \u001b[0mprint\u001b[0m\u001b[0;34m(\u001b[0m\u001b[0;34m\"Done downloading all files.\"\u001b[0m\u001b[0;34m)\u001b[0m\u001b[0;34m\u001b[0m\u001b[0;34m\u001b[0m\u001b[0m\n",
      "\u001b[0;32m~/anaconda3/lib/python3.8/site-packages/pydrive/files.py\u001b[0m in \u001b[0;36mGetContentFile\u001b[0;34m(self, filename, mimetype, remove_bom)\u001b[0m\n\u001b[1;32m    208\u001b[0m                     \u001b[0mtype\u001b[0m\u001b[0;34m(\u001b[0m\u001b[0mself\u001b[0m\u001b[0;34m.\u001b[0m\u001b[0mcontent\u001b[0m\u001b[0;34m)\u001b[0m \u001b[0;32mis\u001b[0m \u001b[0;32mnot\u001b[0m \u001b[0mio\u001b[0m\u001b[0;34m.\u001b[0m\u001b[0mBytesIO\u001b[0m \u001b[0;32mor\u001b[0m\u001b[0;31m \u001b[0m\u001b[0;31m\\\u001b[0m\u001b[0;34m\u001b[0m\u001b[0;34m\u001b[0m\u001b[0m\n\u001b[1;32m    209\u001b[0m                     \u001b[0mself\u001b[0m\u001b[0;34m.\u001b[0m\u001b[0mhas_bom\u001b[0m \u001b[0;34m==\u001b[0m \u001b[0mremove_bom\u001b[0m\u001b[0;34m:\u001b[0m\u001b[0;34m\u001b[0m\u001b[0;34m\u001b[0m\u001b[0m\n\u001b[0;32m--> 210\u001b[0;31m       \u001b[0mself\u001b[0m\u001b[0;34m.\u001b[0m\u001b[0mFetchContent\u001b[0m\u001b[0;34m(\u001b[0m\u001b[0mmimetype\u001b[0m\u001b[0;34m,\u001b[0m \u001b[0mremove_bom\u001b[0m\u001b[0;34m)\u001b[0m\u001b[0;34m\u001b[0m\u001b[0;34m\u001b[0m\u001b[0m\n\u001b[0m\u001b[1;32m    211\u001b[0m     \u001b[0mf\u001b[0m \u001b[0;34m=\u001b[0m \u001b[0mopen\u001b[0m\u001b[0;34m(\u001b[0m\u001b[0mfilename\u001b[0m\u001b[0;34m,\u001b[0m \u001b[0;34m'wb'\u001b[0m\u001b[0;34m)\u001b[0m\u001b[0;34m\u001b[0m\u001b[0;34m\u001b[0m\u001b[0m\n\u001b[1;32m    212\u001b[0m     \u001b[0mf\u001b[0m\u001b[0;34m.\u001b[0m\u001b[0mwrite\u001b[0m\u001b[0;34m(\u001b[0m\u001b[0mself\u001b[0m\u001b[0;34m.\u001b[0m\u001b[0mcontent\u001b[0m\u001b[0;34m.\u001b[0m\u001b[0mgetvalue\u001b[0m\u001b[0;34m(\u001b[0m\u001b[0;34m)\u001b[0m\u001b[0;34m)\u001b[0m\u001b[0;34m\u001b[0m\u001b[0;34m\u001b[0m\u001b[0m\n",
      "\u001b[0;32m~/anaconda3/lib/python3.8/site-packages/pydrive/files.py\u001b[0m in \u001b[0;36m_decorated\u001b[0;34m(self, *args, **kwargs)\u001b[0m\n\u001b[1;32m     41\u001b[0m     \u001b[0;32mif\u001b[0m \u001b[0;32mnot\u001b[0m \u001b[0mself\u001b[0m\u001b[0;34m.\u001b[0m\u001b[0muploaded\u001b[0m\u001b[0;34m:\u001b[0m\u001b[0;34m\u001b[0m\u001b[0;34m\u001b[0m\u001b[0m\n\u001b[1;32m     42\u001b[0m       \u001b[0mself\u001b[0m\u001b[0;34m.\u001b[0m\u001b[0mFetchMetadata\u001b[0m\u001b[0;34m(\u001b[0m\u001b[0;34m)\u001b[0m\u001b[0;34m\u001b[0m\u001b[0;34m\u001b[0m\u001b[0m\n\u001b[0;32m---> 43\u001b[0;31m     \u001b[0;32mreturn\u001b[0m \u001b[0mdecoratee\u001b[0m\u001b[0;34m(\u001b[0m\u001b[0mself\u001b[0m\u001b[0;34m,\u001b[0m \u001b[0;34m*\u001b[0m\u001b[0margs\u001b[0m\u001b[0;34m,\u001b[0m \u001b[0;34m**\u001b[0m\u001b[0mkwargs\u001b[0m\u001b[0;34m)\u001b[0m\u001b[0;34m\u001b[0m\u001b[0;34m\u001b[0m\u001b[0m\n\u001b[0m\u001b[1;32m     44\u001b[0m   \u001b[0;32mreturn\u001b[0m \u001b[0m_decorated\u001b[0m\u001b[0;34m\u001b[0m\u001b[0;34m\u001b[0m\u001b[0m\n\u001b[1;32m     45\u001b[0m \u001b[0;34m\u001b[0m\u001b[0m\n",
      "\u001b[0;32m~/anaconda3/lib/python3.8/site-packages/pydrive/files.py\u001b[0m in \u001b[0;36mFetchContent\u001b[0;34m(self, mimetype, remove_bom)\u001b[0m\n\u001b[1;32m    253\u001b[0m     \u001b[0mexport_links\u001b[0m \u001b[0;34m=\u001b[0m \u001b[0mself\u001b[0m\u001b[0;34m.\u001b[0m\u001b[0mmetadata\u001b[0m\u001b[0;34m.\u001b[0m\u001b[0mget\u001b[0m\u001b[0;34m(\u001b[0m\u001b[0;34m'exportLinks'\u001b[0m\u001b[0;34m)\u001b[0m\u001b[0;34m\u001b[0m\u001b[0;34m\u001b[0m\u001b[0m\n\u001b[1;32m    254\u001b[0m     \u001b[0;32mif\u001b[0m \u001b[0mdownload_url\u001b[0m\u001b[0;34m:\u001b[0m\u001b[0;34m\u001b[0m\u001b[0;34m\u001b[0m\u001b[0m\n\u001b[0;32m--> 255\u001b[0;31m       \u001b[0mself\u001b[0m\u001b[0;34m.\u001b[0m\u001b[0mcontent\u001b[0m \u001b[0;34m=\u001b[0m \u001b[0mio\u001b[0m\u001b[0;34m.\u001b[0m\u001b[0mBytesIO\u001b[0m\u001b[0;34m(\u001b[0m\u001b[0mself\u001b[0m\u001b[0;34m.\u001b[0m\u001b[0m_DownloadFromUrl\u001b[0m\u001b[0;34m(\u001b[0m\u001b[0mdownload_url\u001b[0m\u001b[0;34m)\u001b[0m\u001b[0;34m)\u001b[0m\u001b[0;34m\u001b[0m\u001b[0;34m\u001b[0m\u001b[0m\n\u001b[0m\u001b[1;32m    256\u001b[0m       \u001b[0mself\u001b[0m\u001b[0;34m.\u001b[0m\u001b[0mdirty\u001b[0m\u001b[0;34m[\u001b[0m\u001b[0;34m'content'\u001b[0m\u001b[0;34m]\u001b[0m \u001b[0;34m=\u001b[0m \u001b[0;32mFalse\u001b[0m\u001b[0;34m\u001b[0m\u001b[0;34m\u001b[0m\u001b[0m\n\u001b[1;32m    257\u001b[0m \u001b[0;34m\u001b[0m\u001b[0m\n",
      "\u001b[0;32m~/anaconda3/lib/python3.8/site-packages/pydrive/auth.py\u001b[0m in \u001b[0;36m_decorated\u001b[0;34m(self, *args, **kwargs)\u001b[0m\n\u001b[1;32m     73\u001b[0m       \u001b[0mself\u001b[0m\u001b[0;34m.\u001b[0m\u001b[0mhttp\u001b[0m \u001b[0;34m=\u001b[0m \u001b[0mself\u001b[0m\u001b[0;34m.\u001b[0m\u001b[0mauth\u001b[0m\u001b[0;34m.\u001b[0m\u001b[0mGet_Http_Object\u001b[0m\u001b[0;34m(\u001b[0m\u001b[0;34m)\u001b[0m\u001b[0;34m\u001b[0m\u001b[0;34m\u001b[0m\u001b[0m\n\u001b[1;32m     74\u001b[0m \u001b[0;34m\u001b[0m\u001b[0m\n\u001b[0;32m---> 75\u001b[0;31m     \u001b[0;32mreturn\u001b[0m \u001b[0mdecoratee\u001b[0m\u001b[0;34m(\u001b[0m\u001b[0mself\u001b[0m\u001b[0;34m,\u001b[0m \u001b[0;34m*\u001b[0m\u001b[0margs\u001b[0m\u001b[0;34m,\u001b[0m \u001b[0;34m**\u001b[0m\u001b[0mkwargs\u001b[0m\u001b[0;34m)\u001b[0m\u001b[0;34m\u001b[0m\u001b[0;34m\u001b[0m\u001b[0m\n\u001b[0m\u001b[1;32m     76\u001b[0m   \u001b[0;32mreturn\u001b[0m \u001b[0m_decorated\u001b[0m\u001b[0;34m\u001b[0m\u001b[0;34m\u001b[0m\u001b[0m\n\u001b[1;32m     77\u001b[0m \u001b[0;34m\u001b[0m\u001b[0m\n",
      "\u001b[0;32m~/anaconda3/lib/python3.8/site-packages/pydrive/files.py\u001b[0m in \u001b[0;36m_DownloadFromUrl\u001b[0;34m(self, url)\u001b[0m\n\u001b[1;32m    501\u001b[0m     \u001b[0;34m:\u001b[0m\u001b[0mraises\u001b[0m\u001b[0;34m:\u001b[0m \u001b[0mApiRequestError\u001b[0m\u001b[0;34m\u001b[0m\u001b[0;34m\u001b[0m\u001b[0m\n\u001b[1;32m    502\u001b[0m     \"\"\"\n\u001b[0;32m--> 503\u001b[0;31m     \u001b[0mresp\u001b[0m\u001b[0;34m,\u001b[0m \u001b[0mcontent\u001b[0m \u001b[0;34m=\u001b[0m \u001b[0mself\u001b[0m\u001b[0;34m.\u001b[0m\u001b[0mhttp\u001b[0m\u001b[0;34m.\u001b[0m\u001b[0mrequest\u001b[0m\u001b[0;34m(\u001b[0m\u001b[0murl\u001b[0m\u001b[0;34m)\u001b[0m\u001b[0;34m\u001b[0m\u001b[0;34m\u001b[0m\u001b[0m\n\u001b[0m\u001b[1;32m    504\u001b[0m     \u001b[0;32mif\u001b[0m \u001b[0mresp\u001b[0m\u001b[0;34m.\u001b[0m\u001b[0mstatus\u001b[0m \u001b[0;34m!=\u001b[0m \u001b[0;36m200\u001b[0m\u001b[0;34m:\u001b[0m\u001b[0;34m\u001b[0m\u001b[0;34m\u001b[0m\u001b[0m\n\u001b[1;32m    505\u001b[0m       \u001b[0;32mraise\u001b[0m \u001b[0mApiRequestError\u001b[0m\u001b[0;34m(\u001b[0m\u001b[0;34m'Cannot download file: %s'\u001b[0m \u001b[0;34m%\u001b[0m \u001b[0mresp\u001b[0m\u001b[0;34m)\u001b[0m\u001b[0;34m\u001b[0m\u001b[0;34m\u001b[0m\u001b[0m\n",
      "\u001b[0;32m~/anaconda3/lib/python3.8/site-packages/oauth2client/transport.py\u001b[0m in \u001b[0;36mnew_request\u001b[0;34m(uri, method, body, headers, redirections, connection_type)\u001b[0m\n\u001b[1;32m    171\u001b[0m             \u001b[0mbody_stream_position\u001b[0m \u001b[0;34m=\u001b[0m \u001b[0mbody\u001b[0m\u001b[0;34m.\u001b[0m\u001b[0mtell\u001b[0m\u001b[0;34m(\u001b[0m\u001b[0;34m)\u001b[0m\u001b[0;34m\u001b[0m\u001b[0;34m\u001b[0m\u001b[0m\n\u001b[1;32m    172\u001b[0m \u001b[0;34m\u001b[0m\u001b[0m\n\u001b[0;32m--> 173\u001b[0;31m         resp, content = request(orig_request_method, uri, method, body,\n\u001b[0m\u001b[1;32m    174\u001b[0m                                 \u001b[0mclean_headers\u001b[0m\u001b[0;34m(\u001b[0m\u001b[0mheaders\u001b[0m\u001b[0;34m)\u001b[0m\u001b[0;34m,\u001b[0m\u001b[0;34m\u001b[0m\u001b[0;34m\u001b[0m\u001b[0m\n\u001b[1;32m    175\u001b[0m                                 redirections, connection_type)\n",
      "\u001b[0;32m~/anaconda3/lib/python3.8/site-packages/oauth2client/transport.py\u001b[0m in \u001b[0;36mrequest\u001b[0;34m(http, uri, method, body, headers, redirections, connection_type)\u001b[0m\n\u001b[1;32m    278\u001b[0m     \u001b[0;31m# NOTE: Allowing http or http.request is temporary (See Issue 601).\u001b[0m\u001b[0;34m\u001b[0m\u001b[0;34m\u001b[0m\u001b[0;34m\u001b[0m\u001b[0m\n\u001b[1;32m    279\u001b[0m     \u001b[0mhttp_callable\u001b[0m \u001b[0;34m=\u001b[0m \u001b[0mgetattr\u001b[0m\u001b[0;34m(\u001b[0m\u001b[0mhttp\u001b[0m\u001b[0;34m,\u001b[0m \u001b[0;34m'request'\u001b[0m\u001b[0;34m,\u001b[0m \u001b[0mhttp\u001b[0m\u001b[0;34m)\u001b[0m\u001b[0;34m\u001b[0m\u001b[0;34m\u001b[0m\u001b[0m\n\u001b[0;32m--> 280\u001b[0;31m     return http_callable(uri, method=method, body=body, headers=headers,\n\u001b[0m\u001b[1;32m    281\u001b[0m                          \u001b[0mredirections\u001b[0m\u001b[0;34m=\u001b[0m\u001b[0mredirections\u001b[0m\u001b[0;34m,\u001b[0m\u001b[0;34m\u001b[0m\u001b[0;34m\u001b[0m\u001b[0m\n\u001b[1;32m    282\u001b[0m                          connection_type=connection_type)\n",
      "\u001b[0;32m~/anaconda3/lib/python3.8/site-packages/httplib2/__init__.py\u001b[0m in \u001b[0;36mrequest\u001b[0;34m(self, uri, method, body, headers, redirections, connection_type)\u001b[0m\n\u001b[1;32m   1983\u001b[0m                     \u001b[0mcontent\u001b[0m \u001b[0;34m=\u001b[0m \u001b[0;34mb\"\"\u001b[0m\u001b[0;34m\u001b[0m\u001b[0;34m\u001b[0m\u001b[0m\n\u001b[1;32m   1984\u001b[0m                 \u001b[0;32melse\u001b[0m\u001b[0;34m:\u001b[0m\u001b[0;34m\u001b[0m\u001b[0;34m\u001b[0m\u001b[0m\n\u001b[0;32m-> 1985\u001b[0;31m                     (response, content) = self._request(\n\u001b[0m\u001b[1;32m   1986\u001b[0m                         \u001b[0mconn\u001b[0m\u001b[0;34m,\u001b[0m\u001b[0;34m\u001b[0m\u001b[0;34m\u001b[0m\u001b[0m\n\u001b[1;32m   1987\u001b[0m                         \u001b[0mauthority\u001b[0m\u001b[0;34m,\u001b[0m\u001b[0;34m\u001b[0m\u001b[0;34m\u001b[0m\u001b[0m\n",
      "\u001b[0;32m~/anaconda3/lib/python3.8/site-packages/httplib2/__init__.py\u001b[0m in \u001b[0;36m_request\u001b[0;34m(self, conn, host, absolute_uri, request_uri, method, body, headers, redirections, cachekey)\u001b[0m\n\u001b[1;32m   1648\u001b[0m             \u001b[0mauth\u001b[0m\u001b[0;34m.\u001b[0m\u001b[0mrequest\u001b[0m\u001b[0;34m(\u001b[0m\u001b[0mmethod\u001b[0m\u001b[0;34m,\u001b[0m \u001b[0mrequest_uri\u001b[0m\u001b[0;34m,\u001b[0m \u001b[0mheaders\u001b[0m\u001b[0;34m,\u001b[0m \u001b[0mbody\u001b[0m\u001b[0;34m)\u001b[0m\u001b[0;34m\u001b[0m\u001b[0;34m\u001b[0m\u001b[0m\n\u001b[1;32m   1649\u001b[0m \u001b[0;34m\u001b[0m\u001b[0m\n\u001b[0;32m-> 1650\u001b[0;31m         (response, content) = self._conn_request(\n\u001b[0m\u001b[1;32m   1651\u001b[0m             \u001b[0mconn\u001b[0m\u001b[0;34m,\u001b[0m \u001b[0mrequest_uri\u001b[0m\u001b[0;34m,\u001b[0m \u001b[0mmethod\u001b[0m\u001b[0;34m,\u001b[0m \u001b[0mbody\u001b[0m\u001b[0;34m,\u001b[0m \u001b[0mheaders\u001b[0m\u001b[0;34m\u001b[0m\u001b[0;34m\u001b[0m\u001b[0m\n\u001b[1;32m   1652\u001b[0m         )\n",
      "\u001b[0;32m~/anaconda3/lib/python3.8/site-packages/httplib2/__init__.py\u001b[0m in \u001b[0;36m_conn_request\u001b[0;34m(self, conn, request_uri, method, body, headers)\u001b[0m\n\u001b[1;32m   1616\u001b[0m                     \u001b[0mconn\u001b[0m\u001b[0;34m.\u001b[0m\u001b[0mclose\u001b[0m\u001b[0;34m(\u001b[0m\u001b[0;34m)\u001b[0m\u001b[0;34m\u001b[0m\u001b[0;34m\u001b[0m\u001b[0m\n\u001b[1;32m   1617\u001b[0m                 \u001b[0;32melse\u001b[0m\u001b[0;34m:\u001b[0m\u001b[0;34m\u001b[0m\u001b[0;34m\u001b[0m\u001b[0m\n\u001b[0;32m-> 1618\u001b[0;31m                     \u001b[0mcontent\u001b[0m \u001b[0;34m=\u001b[0m \u001b[0mresponse\u001b[0m\u001b[0;34m.\u001b[0m\u001b[0mread\u001b[0m\u001b[0;34m(\u001b[0m\u001b[0;34m)\u001b[0m\u001b[0;34m\u001b[0m\u001b[0;34m\u001b[0m\u001b[0m\n\u001b[0m\u001b[1;32m   1619\u001b[0m                 \u001b[0mresponse\u001b[0m \u001b[0;34m=\u001b[0m \u001b[0mResponse\u001b[0m\u001b[0;34m(\u001b[0m\u001b[0mresponse\u001b[0m\u001b[0;34m)\u001b[0m\u001b[0;34m\u001b[0m\u001b[0;34m\u001b[0m\u001b[0m\n\u001b[1;32m   1620\u001b[0m                 \u001b[0;32mif\u001b[0m \u001b[0mmethod\u001b[0m \u001b[0;34m!=\u001b[0m \u001b[0;34m\"HEAD\"\u001b[0m\u001b[0;34m:\u001b[0m\u001b[0;34m\u001b[0m\u001b[0;34m\u001b[0m\u001b[0m\n",
      "\u001b[0;32m~/anaconda3/lib/python3.8/http/client.py\u001b[0m in \u001b[0;36mread\u001b[0;34m(self, amt)\u001b[0m\n\u001b[1;32m    469\u001b[0m             \u001b[0;32melse\u001b[0m\u001b[0;34m:\u001b[0m\u001b[0;34m\u001b[0m\u001b[0;34m\u001b[0m\u001b[0m\n\u001b[1;32m    470\u001b[0m                 \u001b[0;32mtry\u001b[0m\u001b[0;34m:\u001b[0m\u001b[0;34m\u001b[0m\u001b[0;34m\u001b[0m\u001b[0m\n\u001b[0;32m--> 471\u001b[0;31m                     \u001b[0ms\u001b[0m \u001b[0;34m=\u001b[0m \u001b[0mself\u001b[0m\u001b[0;34m.\u001b[0m\u001b[0m_safe_read\u001b[0m\u001b[0;34m(\u001b[0m\u001b[0mself\u001b[0m\u001b[0;34m.\u001b[0m\u001b[0mlength\u001b[0m\u001b[0;34m)\u001b[0m\u001b[0;34m\u001b[0m\u001b[0;34m\u001b[0m\u001b[0m\n\u001b[0m\u001b[1;32m    472\u001b[0m                 \u001b[0;32mexcept\u001b[0m \u001b[0mIncompleteRead\u001b[0m\u001b[0;34m:\u001b[0m\u001b[0;34m\u001b[0m\u001b[0;34m\u001b[0m\u001b[0m\n\u001b[1;32m    473\u001b[0m                     \u001b[0mself\u001b[0m\u001b[0;34m.\u001b[0m\u001b[0m_close_conn\u001b[0m\u001b[0;34m(\u001b[0m\u001b[0;34m)\u001b[0m\u001b[0;34m\u001b[0m\u001b[0;34m\u001b[0m\u001b[0m\n",
      "\u001b[0;32m~/anaconda3/lib/python3.8/http/client.py\u001b[0m in \u001b[0;36m_safe_read\u001b[0;34m(self, amt)\u001b[0m\n\u001b[1;32m    610\u001b[0m         \u001b[0mIncompleteRead\u001b[0m \u001b[0mexception\u001b[0m \u001b[0mcan\u001b[0m \u001b[0mbe\u001b[0m \u001b[0mused\u001b[0m \u001b[0mto\u001b[0m \u001b[0mdetect\u001b[0m \u001b[0mthe\u001b[0m \u001b[0mproblem\u001b[0m\u001b[0;34m.\u001b[0m\u001b[0;34m\u001b[0m\u001b[0;34m\u001b[0m\u001b[0m\n\u001b[1;32m    611\u001b[0m         \"\"\"\n\u001b[0;32m--> 612\u001b[0;31m         \u001b[0mdata\u001b[0m \u001b[0;34m=\u001b[0m \u001b[0mself\u001b[0m\u001b[0;34m.\u001b[0m\u001b[0mfp\u001b[0m\u001b[0;34m.\u001b[0m\u001b[0mread\u001b[0m\u001b[0;34m(\u001b[0m\u001b[0mamt\u001b[0m\u001b[0;34m)\u001b[0m\u001b[0;34m\u001b[0m\u001b[0;34m\u001b[0m\u001b[0m\n\u001b[0m\u001b[1;32m    613\u001b[0m         \u001b[0;32mif\u001b[0m \u001b[0mlen\u001b[0m\u001b[0;34m(\u001b[0m\u001b[0mdata\u001b[0m\u001b[0;34m)\u001b[0m \u001b[0;34m<\u001b[0m \u001b[0mamt\u001b[0m\u001b[0;34m:\u001b[0m\u001b[0;34m\u001b[0m\u001b[0;34m\u001b[0m\u001b[0m\n\u001b[1;32m    614\u001b[0m             \u001b[0;32mraise\u001b[0m \u001b[0mIncompleteRead\u001b[0m\u001b[0;34m(\u001b[0m\u001b[0mdata\u001b[0m\u001b[0;34m,\u001b[0m \u001b[0mamt\u001b[0m\u001b[0;34m-\u001b[0m\u001b[0mlen\u001b[0m\u001b[0;34m(\u001b[0m\u001b[0mdata\u001b[0m\u001b[0;34m)\u001b[0m\u001b[0;34m)\u001b[0m\u001b[0;34m\u001b[0m\u001b[0;34m\u001b[0m\u001b[0m\n",
      "\u001b[0;32m~/anaconda3/lib/python3.8/socket.py\u001b[0m in \u001b[0;36mreadinto\u001b[0;34m(self, b)\u001b[0m\n\u001b[1;32m    667\u001b[0m         \u001b[0;32mwhile\u001b[0m \u001b[0;32mTrue\u001b[0m\u001b[0;34m:\u001b[0m\u001b[0;34m\u001b[0m\u001b[0;34m\u001b[0m\u001b[0m\n\u001b[1;32m    668\u001b[0m             \u001b[0;32mtry\u001b[0m\u001b[0;34m:\u001b[0m\u001b[0;34m\u001b[0m\u001b[0;34m\u001b[0m\u001b[0m\n\u001b[0;32m--> 669\u001b[0;31m                 \u001b[0;32mreturn\u001b[0m \u001b[0mself\u001b[0m\u001b[0;34m.\u001b[0m\u001b[0m_sock\u001b[0m\u001b[0;34m.\u001b[0m\u001b[0mrecv_into\u001b[0m\u001b[0;34m(\u001b[0m\u001b[0mb\u001b[0m\u001b[0;34m)\u001b[0m\u001b[0;34m\u001b[0m\u001b[0;34m\u001b[0m\u001b[0m\n\u001b[0m\u001b[1;32m    670\u001b[0m             \u001b[0;32mexcept\u001b[0m \u001b[0mtimeout\u001b[0m\u001b[0;34m:\u001b[0m\u001b[0;34m\u001b[0m\u001b[0;34m\u001b[0m\u001b[0m\n\u001b[1;32m    671\u001b[0m                 \u001b[0mself\u001b[0m\u001b[0;34m.\u001b[0m\u001b[0m_timeout_occurred\u001b[0m \u001b[0;34m=\u001b[0m \u001b[0;32mTrue\u001b[0m\u001b[0;34m\u001b[0m\u001b[0;34m\u001b[0m\u001b[0m\n",
      "\u001b[0;32m~/anaconda3/lib/python3.8/ssl.py\u001b[0m in \u001b[0;36mrecv_into\u001b[0;34m(self, buffer, nbytes, flags)\u001b[0m\n\u001b[1;32m   1239\u001b[0m                   \u001b[0;34m\"non-zero flags not allowed in calls to recv_into() on %s\"\u001b[0m \u001b[0;34m%\u001b[0m\u001b[0;34m\u001b[0m\u001b[0;34m\u001b[0m\u001b[0m\n\u001b[1;32m   1240\u001b[0m                   self.__class__)\n\u001b[0;32m-> 1241\u001b[0;31m             \u001b[0;32mreturn\u001b[0m \u001b[0mself\u001b[0m\u001b[0;34m.\u001b[0m\u001b[0mread\u001b[0m\u001b[0;34m(\u001b[0m\u001b[0mnbytes\u001b[0m\u001b[0;34m,\u001b[0m \u001b[0mbuffer\u001b[0m\u001b[0;34m)\u001b[0m\u001b[0;34m\u001b[0m\u001b[0;34m\u001b[0m\u001b[0m\n\u001b[0m\u001b[1;32m   1242\u001b[0m         \u001b[0;32melse\u001b[0m\u001b[0;34m:\u001b[0m\u001b[0;34m\u001b[0m\u001b[0;34m\u001b[0m\u001b[0m\n\u001b[1;32m   1243\u001b[0m             \u001b[0;32mreturn\u001b[0m \u001b[0msuper\u001b[0m\u001b[0;34m(\u001b[0m\u001b[0;34m)\u001b[0m\u001b[0;34m.\u001b[0m\u001b[0mrecv_into\u001b[0m\u001b[0;34m(\u001b[0m\u001b[0mbuffer\u001b[0m\u001b[0;34m,\u001b[0m \u001b[0mnbytes\u001b[0m\u001b[0;34m,\u001b[0m \u001b[0mflags\u001b[0m\u001b[0;34m)\u001b[0m\u001b[0;34m\u001b[0m\u001b[0;34m\u001b[0m\u001b[0m\n",
      "\u001b[0;32m~/anaconda3/lib/python3.8/ssl.py\u001b[0m in \u001b[0;36mread\u001b[0;34m(self, len, buffer)\u001b[0m\n\u001b[1;32m   1097\u001b[0m         \u001b[0;32mtry\u001b[0m\u001b[0;34m:\u001b[0m\u001b[0;34m\u001b[0m\u001b[0;34m\u001b[0m\u001b[0m\n\u001b[1;32m   1098\u001b[0m             \u001b[0;32mif\u001b[0m \u001b[0mbuffer\u001b[0m \u001b[0;32mis\u001b[0m \u001b[0;32mnot\u001b[0m \u001b[0;32mNone\u001b[0m\u001b[0;34m:\u001b[0m\u001b[0;34m\u001b[0m\u001b[0;34m\u001b[0m\u001b[0m\n\u001b[0;32m-> 1099\u001b[0;31m                 \u001b[0;32mreturn\u001b[0m \u001b[0mself\u001b[0m\u001b[0;34m.\u001b[0m\u001b[0m_sslobj\u001b[0m\u001b[0;34m.\u001b[0m\u001b[0mread\u001b[0m\u001b[0;34m(\u001b[0m\u001b[0mlen\u001b[0m\u001b[0;34m,\u001b[0m \u001b[0mbuffer\u001b[0m\u001b[0;34m)\u001b[0m\u001b[0;34m\u001b[0m\u001b[0;34m\u001b[0m\u001b[0m\n\u001b[0m\u001b[1;32m   1100\u001b[0m             \u001b[0;32melse\u001b[0m\u001b[0;34m:\u001b[0m\u001b[0;34m\u001b[0m\u001b[0;34m\u001b[0m\u001b[0m\n\u001b[1;32m   1101\u001b[0m                 \u001b[0;32mreturn\u001b[0m \u001b[0mself\u001b[0m\u001b[0;34m.\u001b[0m\u001b[0m_sslobj\u001b[0m\u001b[0;34m.\u001b[0m\u001b[0mread\u001b[0m\u001b[0;34m(\u001b[0m\u001b[0mlen\u001b[0m\u001b[0;34m)\u001b[0m\u001b[0;34m\u001b[0m\u001b[0;34m\u001b[0m\u001b[0m\n",
      "\u001b[0;31mKeyboardInterrupt\u001b[0m: "
     ]
    }
   ],
   "source": [
    "# optional pre-download all files\n",
    "if download_all_first:\n",
    "    for file in file_list:\n",
    "        start_time = time.time()\n",
    "        composite_file_path = composite_save_path + file['title']\n",
    "        if path.exists(composite_file_path):\n",
    "            print(\"File already downloaded.\", composite_file_path)\n",
    "        else:\n",
    "            print(\"Downloading file...\")\n",
    "            # download the file\n",
    "            download_file = drive.CreateFile({'id': file['id']})\n",
    "            file.GetContentFile(composite_file_path)\n",
    "            print(\"Finished file in \" + str(time.time() - start_time))\n",
    "    print(\"Done downloading all files.\")"
   ]
  },
  {
   "cell_type": "code",
   "execution_count": 18,
   "metadata": {},
   "outputs": [],
   "source": [
    "def get_bands_and_bounds_from_file(file):\n",
    "    print(\"Starting file \" + file['title'])\n",
    "    composite_file_path = composite_save_path + file['title']\n",
    "    if path.exists(composite_file_path):\n",
    "        print(\"File already downloaded.\")\n",
    "    else:\n",
    "        print(\"Downloading file...\")\n",
    "        # download the file\n",
    "        download_file = drive.CreateFile({'id': file['id']})\n",
    "        file.GetContentFile(composite_file_path)\n",
    "    \n",
    "    # open file with rasterio\n",
    "    print(\"Reading file...\")\n",
    "    dataset = rasterio.open(composite_file_path)\n",
    "    bands = dataset.read()\n",
    "    print(\"Done processing file\")\n",
    "    return bands, dataset.bounds\n",
    "\n",
    "def get_data_and_bounds_given_pixels(ds_bounds, bands, start_row, start_col, contains_kiln):\n",
    "    global num_tiles_dropped\n",
    "    \n",
    "    num_bands, ds_height, ds_length = bands.shape\n",
    "    tile_top = ds_bounds.top - (start_row / ds_height) * (ds_bounds.top - ds_bounds.bottom)\n",
    "    tile_bottom = ds_bounds.top - ((start_row + tile_height) / ds_height) * (ds_bounds.top - ds_bounds.bottom)\n",
    "    tile_left = ds_bounds.left + (start_col / ds_length) * (ds_bounds.right - ds_bounds.left)\n",
    "    tile_right = ds_bounds.left + ((start_col + tile_length) / ds_length) * (ds_bounds.right - ds_bounds.left)\n",
    "    bounds = np.array([tile_bottom, tile_left, tile_top, tile_right])\n",
    "    tile_geo = Polygon([[tile_left, tile_top], [tile_right, tile_top], [tile_right, tile_bottom], [tile_left, tile_bottom], [tile_left, tile_top]])\n",
    "    if not contains_kiln and not bangladesh_geo.intersects(tile_geo):\n",
    "        num_tiles_dropped += 1\n",
    "        return None, None\n",
    "    tile_data = bands[:, start_row : start_row + tile_height, start_col : start_col + tile_length]\n",
    "    if (tile_data.shape != (13, 64, 64)):\n",
    "        print(\"start row\", start_row, \"start_col\", start_col)\n",
    "        print(\"ds height, length\", ds_height, ds_length)\n",
    "        print(\"tile shape\", tile_data.shape)\n",
    "    return tile_data, bounds\n",
    "\n",
    "def save_current_file(save_index, counter):\n",
    "    filename = save_path + \"examples_\" + str(save_index) + \".hdf5\"\n",
    "    print(\"Saving file\", filename)\n",
    "    f = h5py.File(filename, 'w')\n",
    "    bounds_dset = f.create_dataset(\"bounds\", data=tile_bounds[:counter])\n",
    "    examples_dset = f.create_dataset(\"images\", data=examples[:counter])\n",
    "    labels_dset = f.create_dataset(\"labels\", data=labels[:counter])\n",
    "    f.close()\n",
    "    return save_index + 1, 0\n",
    "\n",
    "def add_example(ex_data, ex_bounds, save_index, counter, is_positive):\n",
    "    tile_bounds[counter] = ex_bounds\n",
    "    examples[counter] = ex_data\n",
    "    labels[counter] = 1 if is_positive else 0\n",
    "    new_counter = counter + 1\n",
    "    \n",
    "    if new_counter == examples_per_save_file:\n",
    "        return save_current_file(save_index, counter)\n",
    "    return save_index, new_counter\n",
    "\n",
    "def get_kilns_and_drop_tiles(bounds, num_rows, num_cols, offset_config, image_row_px, image_col_px):\n",
    "    kilns_in_image = kilns.loc[(kilns['lat'] >= bounds['bottom']) & (kilns['lat'] <= bounds['top']) \n",
    "        & (kilns['lon'] >= bounds['left']) & (kilns['lon'] <= bounds['right'])]\n",
    "    \n",
    "    drop = set()\n",
    "    tiles = set()\n",
    "    for index, kiln in kilns_in_image.iterrows():\n",
    "        kiln_pos = (kiln['lat'], kiln['lon'])\n",
    "        kiln_to_top = geopy.distance.geodesic(kiln_pos, (bounds['top'], kiln_pos[1])).km\n",
    "        kiln_to_bottom = geopy.distance.geodesic(kiln_pos, (bounds['bottom'], kiln_pos[1])).km\n",
    "        row_px = kiln_to_top / (kiln_to_top + kiln_to_bottom) * image_row_px\n",
    "        row_index = int(row_px / tile_height)\n",
    "        if row_px % tile_height < offset_config[0]:\n",
    "            row_index -= 1\n",
    "        \n",
    "        kiln_to_left = geopy.distance.geodesic(kiln_pos, (kiln_pos[0], bounds['left'])).km\n",
    "        kiln_to_right = geopy.distance.geodesic(kiln_pos, (kiln_pos[0], bounds['right'])).km\n",
    "        col_px = kiln_to_left / (kiln_to_left + kiln_to_right) * image_col_px\n",
    "        col_index = int(col_px / tile_length)\n",
    "        if col_px % tile_length < offset_config[1]:\n",
    "            col_index -= 1\n",
    "        \n",
    "        if col_index >= 0 and row_index >= 0:\n",
    "            new_tile = (row_index, col_index)\n",
    "\n",
    "            tiles.add(new_tile)\n",
    "            drop.discard(new_tile)\n",
    "\n",
    "            neighbors = [(row_index - 1, col_index - 1), (row_index, col_index - 1), (row_index + 1, col_index - 1), \n",
    "                         (row_index - 1, col_index), (row_index + 1, col_index), \n",
    "                         (row_index - 1, col_index + 1), (row_index, col_index + 1), (row_index + 1, col_index + 1)]\n",
    "            for n in neighbors:\n",
    "                if n not in tiles and n[0] >= 0 and n[0] < num_rows and n[1] >= 0 and n[1] < num_cols:\n",
    "                    drop.add(n)\n",
    "\n",
    "    return tiles, drop"
   ]
  },
  {
   "cell_type": "code",
   "execution_count": 10,
   "metadata": {},
   "outputs": [],
   "source": [
    "## testing & visualization methods\n",
    "\n",
    "# image is a single example of shape (13, 64, 64)\n",
    "def visualize_tile(image, indices=[3, 2, 1]):\n",
    "    row_idx = np.array(indices)\n",
    "    X = np.transpose(image[row_idx], (1, 2, 0))\n",
    "    X *= 1 / np.max(X)\n",
    "    print(X.shape)\n",
    "    plt.imshow(X)\n",
    "    \n",
    "def pretty_bounds(bounds):\n",
    "    return [[bounds[1], bounds[0]], [bounds[1], bounds[2]], [bounds[3], bounds[2]], [bounds[3], bounds[0]], [bounds[1], bounds[0]]]"
   ]
  },
  {
   "cell_type": "code",
   "execution_count": 23,
   "metadata": {},
   "outputs": [],
   "source": [
    "## testing variables\n",
    "num_tiles_dropped = 0\n",
    "\n",
    "save_index, counter = 0, 0\n",
    "\n",
    "tile_bounds = np.zeros([examples_per_save_file, 4])\n",
    "examples = np.zeros([examples_per_save_file, len(all_bands), tile_height, tile_length])\n",
    "labels = np.zeros([examples_per_save_file, 1])"
   ]
  },
  {
   "cell_type": "code",
   "execution_count": 33,
   "metadata": {
    "scrolled": true
   },
   "outputs": [
    {
     "name": "stdout",
     "output_type": "stream",
     "text": [
      "Offset (0, 0) Num tiles with kilns: 11\n",
      "Tiling dataset...\n",
      "Saving file ../data/tiles_testing/examples_27.hdf5\n",
      "Saving file ../data/tiles_testing/examples_28.hdf5\n",
      "Saving file ../data/tiles_testing/examples_29.hdf5\n",
      "Saving file ../data/tiles_testing/examples_30.hdf5\n",
      "Saving file ../data/tiles_testing/examples_31.hdf5\n",
      "Offset (20, 0) Num tiles with kilns: 10\n",
      "Tiling dataset...\n",
      "Saving file ../data/tiles_testing/examples_32.hdf5\n",
      "Saving file ../data/tiles_testing/examples_33.hdf5\n",
      "Saving file ../data/tiles_testing/examples_34.hdf5\n",
      "Saving file ../data/tiles_testing/examples_35.hdf5\n",
      "Saving file ../data/tiles_testing/examples_36.hdf5\n",
      "Offset (0, 20) Num tiles with kilns: 10\n",
      "Tiling dataset...\n",
      "Saving file ../data/tiles_testing/examples_37.hdf5\n",
      "Saving file ../data/tiles_testing/examples_38.hdf5\n",
      "Saving file ../data/tiles_testing/examples_39.hdf5\n",
      "Saving file ../data/tiles_testing/examples_40.hdf5\n",
      "Offset (20, 20) Num tiles with kilns: 9\n",
      "Tiling dataset...\n",
      "Saving file ../data/tiles_testing/examples_41.hdf5\n",
      "Saving file ../data/tiles_testing/examples_42.hdf5\n",
      "Saving file ../data/tiles_testing/examples_43.hdf5\n",
      "Saving file ../data/tiles_testing/examples_44.hdf5\n",
      "Saving file ../data/tiles_testing/examples_45.hdf5\n",
      "Saving file ../data/tiles_testing/examples_46.hdf5\n",
      "Total tiles dropped (outside country): 39166\n",
      "Total tiles kept: 3270\n",
      "Finished file in 8.719044208526611 \n",
      "\n",
      "Finished 1 files in: 8.719706058502197\n"
     ]
    }
   ],
   "source": [
    "# file_list = file_list[:1] # testing purposes\n",
    "# test_index1 = (75, 75)\n",
    "# test_examples1 = []\n",
    "# test_index2 = (99, 72)\n",
    "# test_examples2 = []\n",
    "\n",
    "total_start_time = time.time()\n",
    "for index, file in enumerate(file_list):\n",
    "    file_start_time = time.time()\n",
    "    bands, ds_bounds = get_bands_and_bounds_from_file(file)\n",
    "    _, ds_height, ds_length = bands.shape\n",
    "\n",
    "    bounds = {\n",
    "        \"bottom\": ds_bounds.bottom,\n",
    "        \"top\": ds_bounds.top,\n",
    "        \"left\": ds_bounds.left,\n",
    "        \"right\": ds_bounds.right\n",
    "    }\n",
    "    \n",
    "    # calculate excess row and col pixels\n",
    "    col_px_excess = ds_length % tile_length\n",
    "    bounds[\"right\"] -= col_px_excess / ds_length * (ds_bounds.right - ds_bounds.left)\n",
    "    row_px_excess = ds_height % tile_height\n",
    "    bounds[\"bottom\"] += row_px_excess / ds_height * (ds_bounds.top - ds_bounds.bottom)\n",
    "\n",
    "    for offset_config in offset_configs:\n",
    "        num_rows = int((ds_height - offset_config[0]) / tile_height)\n",
    "        num_cols = int((ds_length - offset_config[1]) / tile_length)\n",
    "        \n",
    "        kiln_tiles, drop_tiles = get_kilns_and_drop_tiles(bounds, num_rows, num_cols, offset_config, ds_height, ds_length)\n",
    "        print(\"Offset\", offset_config, \"Num tiles with kilns:\", len(kiln_tiles))\n",
    "#         print(kiln_tiles)\n",
    "\n",
    "        print(\"Tiling dataset...\")\n",
    "        for tile_idx_row in range(0, num_rows):\n",
    "            px_row = tile_idx_row * tile_height + offset_config[0]\n",
    "            for tile_idx_col in range(0, num_cols):\n",
    "                px_col = tile_idx_col * tile_length + offset_config[1]\n",
    "                drop_tile = (tile_idx_row, tile_idx_col) in drop_tiles\n",
    "                if not drop_tile:\n",
    "                    tile_has_kiln = (tile_idx_row, tile_idx_col) in kiln_tiles\n",
    "                    data, data_bounds = get_data_and_bounds_given_pixels(ds_bounds, bands, px_row, px_col, tile_has_kiln)\n",
    "                    if data is not None:\n",
    "                        save_index, counter = add_example(data, data_bounds, save_index, counter, tile_has_kiln)\n",
    "                        if (tile_idx_row, tile_idx_col) == test_index1:\n",
    "                            test_examples1 += [data]\n",
    "                        elif (tile_idx_row, tile_idx_col) == test_index2:\n",
    "                            test_examples2 += [data]\n",
    "\n",
    "    # handle leftovers in a final file\n",
    "    if index == len(file_list) - 1:\n",
    "        save_current_file(save_index, counter)\n",
    "\n",
    "    print(\"Total tiles dropped (outside country):\", num_tiles_dropped)\n",
    "    print(\"Total tiles kept:\", str(num_rows * num_cols * len(offset_configs) - num_tiles_dropped))\n",
    "    num_tiles_dropped = 0\n",
    "    print(\"Finished file in\", time.time() - file_start_time, \"\\n\")\n",
    "print(\"Finished \" + str(len(file_list)) + \" files in: \" + str(time.time() - total_start_time))"
   ]
  },
  {
   "cell_type": "markdown",
   "metadata": {},
   "source": [
    "## Test hdf5 file data format & visualizations"
   ]
  },
  {
   "cell_type": "code",
   "execution_count": 51,
   "metadata": {},
   "outputs": [
    {
     "name": "stdout",
     "output_type": "stream",
     "text": [
      "(64, 64, 3)\n"
     ]
    },
    {
     "data": {
      "image/png": "[encoded data removed]",
      "text/plain": [
       "<Figure size 432x288 with 1 Axes>"
      ]
     },
     "metadata": {
      "needs_background": "light"
     },
     "output_type": "display_data"
    }
   ],
   "source": [
    "# visualize_tile(pos_examples[10])\n",
    "# visualize_tile(examples[1])\n",
    "# visualize_tile(test_examples1[3])"
   ]
  },
  {
   "cell_type": "code",
   "execution_count": 53,
   "metadata": {},
   "outputs": [
    {
     "name": "stdout",
     "output_type": "stream",
     "text": [
      "(64, 64, 3)\n"
     ]
    },
    {
     "data": {
      "image/png": "[encoded data removed]",
      "text/plain": [
       "<Figure size 432x288 with 1 Axes>"
      ]
     },
     "metadata": {
      "needs_background": "light"
     },
     "output_type": "display_data"
    }
   ],
   "source": [
    "# visualize_tile(test_examples1[1])"
   ]
  },
  {
   "cell_type": "code",
   "execution_count": 304,
   "metadata": {},
   "outputs": [],
   "source": [
    "# WANTED_BANDS = [3, 2, 1]\n",
    "\n",
    "# for i in range(5):\n",
    "#     with h5py.File(save_path + \"examples_\" + str(i) + \".hdf5\", \"r\") as f:\n",
    "#         if i == 0:\n",
    "#             X = np.array(f[\"images\"][()])\\\n",
    "#                 .reshape((-1, len(all_bands), 64, 64))\n",
    "#             X = np.moveaxis(X, 1, -1)[:, :, :, WANTED_BANDS]\n",
    "#             y = np.array(f[\"labels\"][()])\n",
    "#         else:\n",
    "#             x_i = np.array(f[\"images\"][()])\\\n",
    "#                 .reshape((-1, len(all_bands), 64, 64))\n",
    "#             x_i = np.moveaxis(x_i, 1, -1)[:, :, :, WANTED_BANDS]\n",
    "#             X = np.concatenate((X, x_i))\n",
    "#             y_i = np.array(f[\"labels\"][()])\n",
    "#             y = np.concatenate((y, y_i))"
   ]
  },
  {
   "cell_type": "code",
   "execution_count": 27,
   "metadata": {},
   "outputs": [
    {
     "name": "stdout",
     "output_type": "stream",
     "text": [
      "Examples w/ kilns: [40 41 42]\n"
     ]
    }
   ],
   "source": [
    "# print(\"Examples w/ kilns:\", np.where(labels==1.0)[0])\n",
    "# index = 4321\n",
    "# print(\"label:\", y[index])\n",
    "# vis_X = X[index]\n",
    "# vis_X *= 1 / np.max(vis_X)\n",
    "# print(vis_X.shape)\n",
    "# plt.imshow(vis_X)"
   ]
  }
 ],
 "metadata": {
  "kernelspec": {
   "display_name": "Python 3",
   "language": "python",
   "name": "python3"
  },
  "language_info": {
   "codemirror_mode": {
    "name": "ipython",
    "version": 3
   },
   "file_extension": ".py",
   "mimetype": "text/x-python",
   "name": "python",
   "nbconvert_exporter": "python",
   "pygments_lexer": "ipython3",
   "version": "3.8.5"
  }
 },
 "nbformat": 4,
 "nbformat_minor": 4
}
