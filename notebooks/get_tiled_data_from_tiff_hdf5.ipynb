{
 "cells": [
  {
   "cell_type": "code",
   "execution_count": 203,
   "metadata": {},
   "outputs": [
    {
     "name": "stdout",
     "output_type": "stream",
     "text": [
      "Collecting geopy\n",
      "  Downloading geopy-2.1.0-py3-none-any.whl (112 kB)\n",
      "\u001b[K     |████████████████████████████████| 112 kB 5.5 MB/s eta 0:00:01\n",
      "\u001b[?25hCollecting geographiclib<2,>=1.49\n",
      "  Downloading geographiclib-1.50-py3-none-any.whl (38 kB)\n",
      "Installing collected packages: geographiclib, geopy\n",
      "Successfully installed geographiclib-1.50 geopy-2.1.0\n"
     ]
    }
   ],
   "source": [
    "!pip install geopy"
   ]
  },
  {
   "cell_type": "code",
   "execution_count": 248,
   "metadata": {},
   "outputs": [],
   "source": [
    "import os\n",
    "import json\n",
    "import time\n",
    "import pandas as pd\n",
    "import datetime\n",
    "import rasterio\n",
    "from matplotlib import pyplot as plt\n",
    "import numpy as np\n",
    "from shapely.geometry import Point\n",
    "from shapely.geometry.polygon import Polygon\n",
    "from os import path\n",
    "import h5py\n",
    "import geopy.distance"
   ]
  },
  {
   "cell_type": "code",
   "execution_count": 2,
   "metadata": {},
   "outputs": [],
   "source": [
    "from pydrive.auth import GoogleAuth\n",
    "from pydrive.drive import GoogleDrive\n",
    "\n",
    "gauth = GoogleAuth()\n",
    "# Try to load saved client credentials\n",
    "gauth.LoadCredentialsFile(\"mycreds.txt\")\n",
    "if gauth.credentials is None:\n",
    "    # Authenticate if they're not there\n",
    "    gauth.LocalWebserverAuth()\n",
    "elif gauth.access_token_expired:\n",
    "    # Refresh them if expired\n",
    "    gauth.Refresh()\n",
    "else:\n",
    "    # Initialize the saved creds\n",
    "    gauth.Authorize()\n",
    "# Save the current credentials to a file\n",
    "gauth.SaveCredentialsFile(\"mycreds.txt\")\n",
    "\n",
    "drive = GoogleDrive(gauth)"
   ]
  },
  {
   "cell_type": "code",
   "execution_count": 247,
   "metadata": {},
   "outputs": [
    {
     "name": "stdout",
     "output_type": "stream",
     "text": [
      "   index        lat        lon     x    y      prob prediction   shape\n",
      "0      0  23.796287  90.316715  1043  518  0.564438     zigzag  zigzag\n",
      "1      1  23.940202  90.043026    78  149  0.692853     zigzag  zigzag\n",
      "2      2  25.021253  89.309124   636  327  0.499505        fck     fck\n",
      "3      3  25.308184  89.550603    97   85  0.342437        fck  zigzag\n",
      "4      4  22.561670  92.007151   145  175  0.922128     zigzag  zigzag\n"
     ]
    }
   ],
   "source": [
    "# set params\n",
    "tile_height, tile_length = (64, 64)\n",
    "examples_per_save_file = 1000\n",
    "composite_file_name = 'bangladesh_all_bands_final'\n",
    "download_all_first = False\n",
    "\n",
    "save_path = '/atlas/u/mhelabd/data/kiln-scaling/tiles/'\n",
    "composite_save_path = '/atlas/u/mhelabd/data/kiln-scaling/composites/'\n",
    "\n",
    "# save_path = '../data/tiles_hdf5/'\n",
    "# composite_save_path = '../data/composites/'\n",
    "\n",
    "# resources\n",
    "kilns = pd.read_csv(\"../data/bangladesh_kilns.csv\")\n",
    "all_bands = ['B1', 'B2', 'B3', 'B4', 'B5', 'B6', 'B7', 'B8A', 'B8', 'B9', 'B10', 'B11', 'B12']\n",
    "\n",
    "print(kilns.head())"
   ]
  },
  {
   "cell_type": "code",
   "execution_count": 5,
   "metadata": {},
   "outputs": [
    {
     "name": "stdout",
     "output_type": "stream",
     "text": [
      "Found 80 files\n",
      "title: bangladesh_all_bands_final-0000000000-0000000000.tif, id: 1ZHtyKejLTVvFo5s1Ui--sA_RqKBtfZlZ\n",
      "title: bangladesh_all_bands_final-0000000000-0000006656.tif, id: 1GlKU0_kZEaisJ8sBWGsl7VNg9pwsPD8Z\n",
      "title: bangladesh_all_bands_final-0000000000-0000013312.tif, id: 1Wm1kJeH2zQ42bNEuqDbSLcR_vP-KEu6_\n",
      "title: bangladesh_all_bands_final-0000000000-0000019968.tif, id: 1RkLg2pzmr9QkVg8NmfPhKVbPGAtxkfKH\n",
      "title: bangladesh_all_bands_final-0000000000-0000026624.tif, id: 1YCQxQ6WzZQTwpEKY7IeW1lWbCBYcUN2l\n"
     ]
    }
   ],
   "source": [
    "file_list = drive.ListFile({'q': \"title contains '\" + composite_file_name + \"'\"}).GetList()\n",
    "print(\"Found \" + str(len(file_list)) + \" files\")\n",
    "file_list = sorted(file_list, key=lambda file: file['title'])\n",
    "for file in file_list[:5]:\n",
    "  print('title: %s, id: %s' % (file['title'], file['id']))"
   ]
  },
  {
   "cell_type": "code",
   "execution_count": 6,
   "metadata": {},
   "outputs": [
    {
     "name": "stdout",
     "output_type": "stream",
     "text": [
      "Number of image grid columns: 8\n",
      "Number of image grid rows: 10\n"
     ]
    }
   ],
   "source": [
    "# calculate image grid\n",
    "first_x_coord = file_list[0]['title'].split(\".\")[0].split(\"-\")[1]\n",
    "first_y_coord = file_list[0]['title'].split(\".\")[0].split(\"-\")[2]\n",
    "num_image_cols = len([x for x in file_list if x['title'].split(\".\")[0].split(\"-\")[1] == first_x_coord])\n",
    "num_image_rows = len([x for x in file_list if x['title'].split(\".\")[0].split(\"-\")[2] == first_y_coord])\n",
    "print(\"Number of image grid columns:\", num_image_cols)\n",
    "print(\"Number of image grid rows:\", num_image_rows)"
   ]
  },
  {
   "cell_type": "code",
   "execution_count": 92,
   "metadata": {},
   "outputs": [],
   "source": [
    "coords = []\n",
    "with open(\"../data/countries.geojson\", \"r\") as countries_geojson:\n",
    "    country_dict = json.load(countries_geojson)[\"features\"]\n",
    "for obj in country_dict:\n",
    "    name = obj['properties']['ADMIN']\n",
    "    if name == \"Bangladesh\":\n",
    "        coords = obj['geometry'][\"coordinates\"]\n",
    "flat_coords = []\n",
    "for sublist in coords:\n",
    "    for coord in sublist:\n",
    "        for c in coord:\n",
    "            flat_coords.append(c)\n",
    "            \n",
    "flat_coords += [flat_coords[0]]\n",
    "bangladesh_geo = Polygon(flat_coords)"
   ]
  },
  {
   "cell_type": "code",
   "execution_count": 93,
   "metadata": {},
   "outputs": [],
   "source": [
    "# optional pre-download all files\n",
    "if download_all_first:\n",
    "    for file in file_list:\n",
    "        start_time = time.time()\n",
    "        composite_file_path = composite_save_path + file['title']\n",
    "        if path.exists(composite_file_path):\n",
    "            print(\"File already downloaded.\")\n",
    "        else:\n",
    "            print(\"Downloading file...\")\n",
    "            # download the file\n",
    "            download_file = drive.CreateFile({'id': file['id']})\n",
    "            file.GetContentFile(composite_file_path)\n",
    "            print(\"Finished file in \" + str(time.time() - start_time))\n",
    "    print(\"Done downloading all files.\")"
   ]
  },
  {
   "cell_type": "code",
   "execution_count": 228,
   "metadata": {},
   "outputs": [],
   "source": [
    "def get_bands_and_bounds_from_file(file):\n",
    "    print(\"Starting file \" + file['title'])\n",
    "    composite_file_path = composite_save_path + file['title']\n",
    "    if path.exists(composite_file_path):\n",
    "        print(\"File already downloaded.\")\n",
    "    else:\n",
    "        print(\"Downloading file...\")\n",
    "        # download the file\n",
    "        download_file = drive.CreateFile({'id': file['id']})\n",
    "        file.GetContentFile(composite_file_path)\n",
    "    \n",
    "    # open file with rasterio\n",
    "    print(\"Reading file...\")\n",
    "    dataset = rasterio.open(composite_file_path)\n",
    "    bands = dataset.read()\n",
    "    print(\"Done processing file\")\n",
    "    return bands, dataset.bounds\n",
    "\n",
    "def get_data_and_bounds_given_pixels(ds_bounds, bands, start_row, start_col, contains_kiln):\n",
    "    global num_tiles_dropped\n",
    "    \n",
    "    num_bands, ds_height, ds_length = bands.shape\n",
    "    tile_top = ds_bounds.top - (start_row / ds_height) * (ds_bounds.top - ds_bounds.bottom)\n",
    "    tile_bottom = ds_bounds.top - ((start_row + tile_height) / ds_height) * (ds_bounds.top - ds_bounds.bottom)\n",
    "    tile_left = ds_bounds.left + (start_col / ds_length) * (ds_bounds.right - ds_bounds.left)\n",
    "    tile_right = ds_bounds.left + ((start_col + tile_length) / ds_length) * (ds_bounds.right - ds_bounds.left)\n",
    "    bounds = np.array([tile_bottom, tile_left, tile_top, tile_right])\n",
    "    tile_geo = Polygon([[tile_left, tile_top], [tile_right, tile_top], [tile_right, tile_bottom], [tile_left, tile_bottom], [tile_left, tile_top]])\n",
    "    if not contains_kiln and not bangladesh_geo.intersects(tile_geo):\n",
    "        num_tiles_dropped += 1\n",
    "        return None, None\n",
    "    return bands[:, start_row : start_row + tile_height, start_col : start_col + tile_length], bounds\n",
    "\n",
    "def save_current_file(save_index, counter):\n",
    "    filename = save_path + \"examples_\" + str(save_index) + \".hdf5\"\n",
    "    print(\"Saving file\", filename)\n",
    "    f = h5py.File(filename, 'w')\n",
    "    bounds_dset = f.create_dataset(\"bounds\", data=tile_bounds[:counter])\n",
    "    examples_dset = f.create_dataset(\"images\", data=examples[:counter])\n",
    "    labels_dset = f.create_dataset(\"labels\", data=labels[:counter])\n",
    "    f.close()\n",
    "    return save_index + 1, 0\n",
    "\n",
    "def add_example(ex_data, ex_bounds, save_index, counter, is_positive):\n",
    "    tile_bounds[counter] = ex_bounds\n",
    "    examples[counter] = ex_data\n",
    "    labels[counter] = 1 if is_positive else 0\n",
    "    new_counter = counter + 1\n",
    "    \n",
    "    if new_counter == examples_per_save_file:\n",
    "        return save_current_file(save_index, counter)\n",
    "    return save_index, new_counter\n",
    "\n",
    "def get_kiln_tiles_approx_coords(bounds, num_rows, num_cols):\n",
    "    kilns_in_image = kilns.loc[(kilns['lat'] >= bounds['bottom']) & (kilns['lat'] <= bounds['top']) \n",
    "        & (kilns['lon'] >= bounds['left']) & (kilns['lon'] <= bounds['right'])]\n",
    "    \n",
    "    tiles = set()\n",
    "    for index, kiln in kilns_in_image.iterrows():\n",
    "        kiln_pos = (kiln['lat'], kiln['lon'])\n",
    "        kiln_to_top = geopy.distance.geodesic(kiln_pos, (bounds['top'], kiln_pos[1])).km\n",
    "        kiln_to_bottom = geopy.distance.geodesic(kiln_pos, (bounds['bottom'], kiln_pos[1])).km\n",
    "        row_index = int(kiln_to_top / (kiln_to_top + kiln_to_bottom) * num_rows)\n",
    "        \n",
    "        kiln_to_left = geopy.distance.geodesic(kiln_pos, (kiln_pos[0], bounds['left'])).km\n",
    "        kiln_to_right = geopy.distance.geodesic(kiln_pos, (kiln_pos[0], bounds['right'])).km\n",
    "        col_index = int(kiln_to_left / (kiln_to_left + kiln_to_right) * num_cols)\n",
    "        tiles.add((row_index, col_index))\n",
    "    \n",
    "    return tiles"
   ]
  },
  {
   "cell_type": "code",
   "execution_count": 126,
   "metadata": {},
   "outputs": [
    {
     "data": {
      "text/plain": [
       "<Figure size 432x288 with 0 Axes>"
      ]
     },
     "metadata": {},
     "output_type": "display_data"
    }
   ],
   "source": [
    "# image is a single example of shape (13, 64, 64)\n",
    "def visualize_tile(image, indices=[3, 2, 1]):\n",
    "    row_idx = np.array(indices)\n",
    "    X = np.transpose(image[row_idx], (1, 2, 0))\n",
    "    X *= 1 / np.max(X)\n",
    "    print(X.shape)\n",
    "    plt.imshow(X)\n",
    "    \n",
    "def pretty_bounds(bounds):\n",
    "    return [[bounds[1], bounds[0]], [bounds[1], bounds[2]], [bounds[3], bounds[2]], [bounds[3], bounds[0]], [bounds[1], bounds[0]]]"
   ]
  },
  {
   "cell_type": "code",
   "execution_count": 245,
   "metadata": {},
   "outputs": [],
   "source": [
    "# testing variables\n",
    "num_tiles_dropped = 0\n",
    "# num_pos_examples_found = 0\n",
    "# found_pos_image = False\n",
    "pos_examples = []\n",
    "\n",
    "save_index, counter = 0, 0\n",
    "\n",
    "tile_bounds = np.zeros([examples_per_save_file, 4])\n",
    "examples = np.zeros([examples_per_save_file, len(all_bands), tile_height, tile_length])\n",
    "labels = np.zeros([examples_per_save_file, 1])"
   ]
  },
  {
   "cell_type": "code",
   "execution_count": 233,
   "metadata": {
    "scrolled": true
   },
   "outputs": [
    {
     "name": "stdout",
     "output_type": "stream",
     "text": [
      "Starting file bangladesh_all_bands_final-0000000000-0000000000.tif\n",
      "File already downloaded.\n",
      "Reading file...\n",
      "Done processing file\n",
      "Num tiles with kilns: 11\n",
      "{(95, 75), (98, 76), (71, 91), (67, 58), (71, 90), (98, 78), (91, 45), (99, 73), (78, 60), (99, 72), (97, 76)}\n",
      "Tiling dataset...\n",
      "Saving file ../data/tiles_hdf5/examples_0.hdf5\n",
      "index (67, 58)\n",
      "bounds [[88.35523707403013, 26.232602926858267], [88.35523707403013, 26.238352144676632], [88.36098629184849, 26.238352144676632], [88.36098629184849, 26.232602926858267], [88.35523707403013, 26.232602926858267]]\n",
      "Saving file ../data/tiles_hdf5/examples_1.hdf5\n",
      "index (71, 90)\n",
      "bounds [[88.5392120442178, 26.209606055584807], [88.5392120442178, 26.215355273403173], [88.54496126203617, 26.215355273403173], [88.54496126203617, 26.209606055584807], [88.5392120442178, 26.209606055584807]]\n",
      "index (71, 91)\n",
      "bounds [[88.54496126203617, 26.209606055584807], [88.54496126203617, 26.215355273403173], [88.55071047985454, 26.215355273403173], [88.55071047985454, 26.209606055584807], [88.54496126203617, 26.209606055584807]]\n",
      "index (78, 60)\n",
      "bounds [[88.36673550966687, 26.169361530856253], [88.36673550966687, 26.17511074867462], [88.37248472748523, 26.17511074867462], [88.37248472748523, 26.169361530856253], [88.36673550966687, 26.169361530856253]]\n",
      "Saving file ../data/tiles_hdf5/examples_2.hdf5\n",
      "index (91, 45)\n",
      "bounds [[88.28049724239139, 26.09462169921751], [88.28049724239139, 26.100370917035875], [88.28624646020975, 26.100370917035875], [88.28624646020975, 26.09462169921751], [88.28049724239139, 26.09462169921751]]\n",
      "index (95, 75)\n",
      "bounds [[88.45297377694233, 26.07162482794405], [88.45297377694233, 26.077374045762415], [88.4587229947607, 26.077374045762415], [88.4587229947607, 26.07162482794405], [88.45297377694233, 26.07162482794405]]\n",
      "Saving file ../data/tiles_hdf5/examples_3.hdf5\n",
      "index (97, 76)\n",
      "bounds [[88.4587229947607, 26.06012639230732], [88.4587229947607, 26.065875610125683], [88.46447221257907, 26.065875610125683], [88.46447221257907, 26.06012639230732], [88.4587229947607, 26.06012639230732]]\n",
      "index (98, 76)\n",
      "bounds [[88.4587229947607, 26.054377174488955], [88.4587229947607, 26.06012639230732], [88.46447221257907, 26.06012639230732], [88.46447221257907, 26.054377174488955], [88.4587229947607, 26.054377174488955]]\n",
      "index (98, 78)\n",
      "bounds [[88.47022143039743, 26.054377174488955], [88.47022143039743, 26.06012639230732], [88.47597064821579, 26.06012639230732], [88.47597064821579, 26.054377174488955], [88.47022143039743, 26.054377174488955]]\n",
      "index (99, 72)\n",
      "bounds [[88.43572612348724, 26.04862795667059], [88.43572612348724, 26.054377174488955], [88.4414753413056, 26.054377174488955], [88.4414753413056, 26.04862795667059], [88.43572612348724, 26.04862795667059]]\n",
      "index (99, 73)\n",
      "bounds [[88.4414753413056, 26.04862795667059], [88.4414753413056, 26.054377174488955], [88.44722455912397, 26.054377174488955], [88.44722455912397, 26.04862795667059], [88.4414753413056, 26.04862795667059]]\n",
      "Saving file ../data/tiles_hdf5/examples_4.hdf5\n",
      "Total tiles dropped (outside country): 6138\n",
      "Total tiles kept: 4678\n",
      "Finished file in 26.548222064971924 \n",
      "\n",
      "Finished 1 files in: 26.550153017044067\n"
     ]
    }
   ],
   "source": [
    "file_list = file_list[:1] # testing purposes\n",
    "\n",
    "total_start_time = time.time()\n",
    "for index, file in enumerate(file_list):\n",
    "    file_start_time = time.time()\n",
    "    bands, ds_bounds = get_bands_and_bounds_from_file(file)\n",
    "    \n",
    "    num_bands, ds_height, ds_length = bands.shape\n",
    "    num_rows = ds_height // tile_height\n",
    "    num_cols = ds_length // tile_length\n",
    "\n",
    "    bounds = {\n",
    "        \"bottom\": ds_bounds.bottom,\n",
    "        \"top\": ds_bounds.top,\n",
    "        \"left\": ds_bounds.left,\n",
    "        \"right\": ds_bounds.right\n",
    "    }\n",
    "\n",
    "    row_px_excess, col_px_excess = None, None\n",
    "    percent_row_excess, percent_col_excess = None, None\n",
    "\n",
    "    if index % num_image_cols == num_image_cols - 1: # rightmost column\n",
    "        # calculate excess col pixels\n",
    "        col_px_excess = ds_length % tile_length\n",
    "        bounds[\"right\"] -= col_px_excess / ds_length * (ds_bounds.right - ds_bounds.left)\n",
    "\n",
    "    if index // num_image_cols == num_image_rows - 1: # last row\n",
    "        # calculate excess row pixels\n",
    "        row_px_excess = ds_height % tile_height\n",
    "        bounds[\"bottom\"] += row_px_excess / ds_height * (ds_bounds.top - ds_bounds.bottom)\n",
    "\n",
    "#     kiln_tiles = get_kiln_tiles(bounds, num_rows, num_cols)\n",
    "    kiln_tiles = get_kiln_tiles_approx_coords(bounds, num_rows, num_cols)\n",
    "    print(\"Num tiles with kilns:\", len(kiln_tiles))\n",
    "    print(kiln_tiles)\n",
    "\n",
    "    print(\"Tiling dataset...\")\n",
    "    for tile_idx_row in range(0, num_rows):\n",
    "        px_row = tile_idx_row * tile_height\n",
    "        for tile_idx_col in range(0, num_cols):\n",
    "            px_col = tile_idx_col * tile_length\n",
    "            tile_has_kiln = (tile_idx_row, tile_idx_col) in kiln_tiles\n",
    "            data, data_bounds = get_data_and_bounds_given_pixels(ds_bounds, bands, px_row, px_col, tile_has_kiln)\n",
    "            if data is not None:\n",
    "                save_index, counter = add_example(data, data_bounds, save_index, counter, tile_has_kiln)\n",
    "                if tile_has_kiln:\n",
    "                    print(\"index\", (tile_idx_row, tile_idx_col))\n",
    "                    print(\"bounds\", pretty_bounds(data_bounds))\n",
    "                    pos_examples += [data]\n",
    "\n",
    "    # TODO: handle leftovers\n",
    "    if index == len(file_list) - 1:\n",
    "        save_current_file(save_index, counter)\n",
    "\n",
    "    print(\"Total tiles dropped (outside country):\", num_tiles_dropped)\n",
    "    print(\"Total tiles kept:\", str(num_rows * num_cols - num_tiles_dropped))\n",
    "    num_tiles_dropped = 0\n",
    "    print(\"Finished file in\", time.time() - file_start_time, \"\\n\")\n",
    "print(\"Finished \" + str(len(file_list)) + \" files in: \" + str(time.time() - total_start_time))"
   ]
  },
  {
   "cell_type": "code",
   "execution_count": null,
   "metadata": {},
   "outputs": [],
   "source": [
    "# f = h5py.File('../data/tiles_hdf5/examples_0.hdf5','r')\n",
    "# print(\"all keys\", f.keys())\n",
    "# print(f['images'].shape)\n",
    "# print(f['bounds'].shape)\n",
    "# print(f['labels'].shape)"
   ]
  },
  {
   "cell_type": "code",
   "execution_count": 236,
   "metadata": {},
   "outputs": [],
   "source": [
    "# lats = pixel_lats[0]\n",
    "# longs = pixel_longs[:, 0]\n",
    "# \n",
    "# print(lats)\n",
    "# print(pos_examples[0])"
   ]
  },
  {
   "cell_type": "code",
   "execution_count": 219,
   "metadata": {},
   "outputs": [
    {
     "name": "stdout",
     "output_type": "stream",
     "text": [
      "[26.07162483 88.48746908 26.07737405 88.4932183 ]\n",
      "[26.07162483 88.4932183  26.07737405 88.49896752]\n",
      "[26.07162483 88.49896752 26.07737405 88.50471674]\n"
     ]
    }
   ],
   "source": [
    "# print(examples[0][0].shape)\n",
    "print(tile_bounds[0])\n",
    "print(tile_bounds[1])\n",
    "print(tile_bounds[2])"
   ]
  },
  {
   "cell_type": "code",
   "execution_count": 244,
   "metadata": {},
   "outputs": [
    {
     "name": "stdout",
     "output_type": "stream",
     "text": [
      "(64, 64, 3)\n"
     ]
    },
    {
     "data": {
      "image/png": "[encoded data removed]",
      "text/plain": [
       "<Figure size 432x288 with 1 Axes>"
      ]
     },
     "metadata": {
      "needs_background": "light"
     },
     "output_type": "display_data"
    }
   ],
   "source": [
    "visualize_tile(pos_examples[10])\n",
    "# visualize_tile(examples[1])\n",
    "# visualize_tile(examples[2])"
   ]
  },
  {
   "cell_type": "code",
   "execution_count": 114,
   "metadata": {},
   "outputs": [
    {
     "name": "stdout",
     "output_type": "stream",
     "text": [
      "True\n"
     ]
    }
   ],
   "source": [
    "print(bangladesh_geo.intersects(Polygon([\n",
    "            [\n",
    "              88.38398316,\n",
    "              26.6120513\n",
    "            ],\n",
    "            [\n",
    "              88.38973238,\n",
    "              26.6120513\n",
    "            ],\n",
    "            [\n",
    "              88.38973238,\n",
    "              26.61780052\n",
    "            ],\n",
    "            [\n",
    "              88.38398316,\n",
    "              26.61780052\n",
    "            ],\n",
    "            [\n",
    "              88.38398316,\n",
    "              26.6120513\n",
    "            ]\n",
    "          ])))"
   ]
  },
  {
   "cell_type": "code",
   "execution_count": 106,
   "metadata": {},
   "outputs": [
    {
     "name": "stdout",
     "output_type": "stream",
     "text": [
      "13.698944042796395\n",
      "3.305353060838212e-05\n"
     ]
    }
   ],
   "source": [
    "print(bangladesh_geo.area)\n",
    "print(Polygon([\n",
    "            [\n",
    "              88.38398316,\n",
    "              26.6120513\n",
    "            ],\n",
    "            [\n",
    "              88.38973238,\n",
    "              26.6120513\n",
    "            ],\n",
    "            [\n",
    "              88.38973238,\n",
    "              26.61780052\n",
    "            ],\n",
    "            [\n",
    "              88.38398316,\n",
    "              26.61780052\n",
    "            ],\n",
    "            [\n",
    "              88.38398316,\n",
    "              26.6120513\n",
    "            ]\n",
    "          ]).area)"
   ]
  },
  {
   "cell_type": "markdown",
   "metadata": {},
   "source": [
    "## Next Steps\n",
    "* check tile labeling\n",
    "  * print out tile row/col indices\n",
    "  * check order that tiles are iterating\n",
    "* print multiple images in one cell"
   ]
  }
 ],
 "metadata": {
  "kernelspec": {
   "display_name": "Python 3",
   "language": "python",
   "name": "python3"
  },
  "language_info": {
   "codemirror_mode": {
    "name": "ipython",
    "version": 3
   },
   "file_extension": ".py",
   "mimetype": "text/x-python",
   "name": "python",
   "nbconvert_exporter": "python",
   "pygments_lexer": "ipython3",
   "version": "3.8.5"
  }
 },
 "nbformat": 4,
 "nbformat_minor": 4
}
