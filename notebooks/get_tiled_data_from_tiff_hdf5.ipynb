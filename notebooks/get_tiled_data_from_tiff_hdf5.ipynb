{
 "cells": [
  {
   "cell_type": "code",
   "execution_count": 4,
   "metadata": {},
   "outputs": [],
   "source": [
    "# !pip install pandas\n",
    "# jupyter nbconvert --to script get_tiled_data_from_tiff_hdf5.ipynb"
   ]
  },
  {
   "cell_type": "code",
   "execution_count": 1,
   "metadata": {},
   "outputs": [
    {
     "ename": "ModuleNotFoundError",
     "evalue": "No module named 'pandas'",
     "output_type": "error",
     "traceback": [
      "\u001b[0;31m---------------------------------------------------------------------------\u001b[0m",
      "\u001b[0;31mModuleNotFoundError\u001b[0m                       Traceback (most recent call last)",
      "\u001b[0;32m<ipython-input-1-a0cfee8b4164>\u001b[0m in \u001b[0;36m<module>\u001b[0;34m\u001b[0m\n\u001b[1;32m      2\u001b[0m \u001b[0;32mimport\u001b[0m \u001b[0mjson\u001b[0m\u001b[0;34m\u001b[0m\u001b[0;34m\u001b[0m\u001b[0m\n\u001b[1;32m      3\u001b[0m \u001b[0;32mimport\u001b[0m \u001b[0mtime\u001b[0m\u001b[0;34m\u001b[0m\u001b[0;34m\u001b[0m\u001b[0m\n\u001b[0;32m----> 4\u001b[0;31m \u001b[0;32mimport\u001b[0m \u001b[0mpandas\u001b[0m \u001b[0;32mas\u001b[0m \u001b[0mpd\u001b[0m\u001b[0;34m\u001b[0m\u001b[0;34m\u001b[0m\u001b[0m\n\u001b[0m\u001b[1;32m      5\u001b[0m \u001b[0;32mimport\u001b[0m \u001b[0mdatetime\u001b[0m\u001b[0;34m\u001b[0m\u001b[0;34m\u001b[0m\u001b[0m\n\u001b[1;32m      6\u001b[0m \u001b[0;32mimport\u001b[0m \u001b[0mrasterio\u001b[0m\u001b[0;34m\u001b[0m\u001b[0;34m\u001b[0m\u001b[0m\n",
      "\u001b[0;31mModuleNotFoundError\u001b[0m: No module named 'pandas'"
     ]
    }
   ],
   "source": [
    "import os\n",
    "import json\n",
    "import time\n",
    "import pandas as pd\n",
    "import datetime\n",
    "import rasterio\n",
    "from matplotlib import pyplot as plt\n",
    "import numpy as np\n",
    "from shapely.geometry import Point\n",
    "from shapely.geometry.polygon import Polygon\n",
    "from os import path\n",
    "import h5py\n",
    "import geopy.distance\n",
    "from rasterio.windows import Window, bounds as r_bounds"
   ]
  },
  {
   "cell_type": "code",
   "execution_count": 2,
   "metadata": {},
   "outputs": [],
   "source": [
    "from pydrive.auth import GoogleAuth\n",
    "from pydrive.drive import GoogleDrive\n",
    "\n",
    "gauth = GoogleAuth()\n",
    "# Try to load saved client credentials\n",
    "gauth.LoadCredentialsFile(\"mycreds.txt\")\n",
    "if gauth.credentials is None:\n",
    "    # Authenticate if they're not there\n",
    "    gauth.LocalWebserverAuth()\n",
    "elif gauth.access_token_expired:\n",
    "    # Refresh them if expired\n",
    "    gauth.Refresh()\n",
    "else:\n",
    "    # Initialize the saved creds\n",
    "    gauth.Authorize()\n",
    "# Save the current credentials to a file\n",
    "gauth.SaveCredentialsFile(\"mycreds.txt\")\n",
    "\n",
    "drive = GoogleDrive(gauth)"
   ]
  },
  {
   "cell_type": "code",
   "execution_count": 3,
   "metadata": {},
   "outputs": [
    {
     "name": "stdout",
     "output_type": "stream",
     "text": [
      "   index        lat        lon     x    y      prob prediction   shape\n",
      "0      0  23.796287  90.316715  1043  518  0.564438     zigzag  zigzag\n",
      "1      1  23.940202  90.043026    78  149  0.692853     zigzag  zigzag\n",
      "2      2  25.021253  89.309124   636  327  0.499505        fck     fck\n",
      "3      3  25.308184  89.550603    97   85  0.342437        fck  zigzag\n",
      "4      4  22.561670  92.007151   145  175  0.922128     zigzag  zigzag\n"
     ]
    }
   ],
   "source": [
    "local_testing_mode = True\n",
    "\n",
    "# set params\n",
    "tile_height, tile_length = (64, 64)\n",
    "examples_per_save_file = 1000\n",
    "composite_file_name = 'bangladesh_all_bands_final'\n",
    "download_all_first = not local_testing_mode\n",
    "offset_px = 20\n",
    "offset_configs = [(0, 0), (offset_px, 0), (0, offset_px), (offset_px, offset_px)]\n",
    "\n",
    "save_path = '/atlas/u/mliu356/data/kiln-scaling/final_tiles_indices/'\n",
    "composite_save_path = '/atlas/u/mliu356/data/kiln-scaling/composites/'\n",
    "\n",
    "if local_testing_mode:\n",
    "    save_path = '../data/tiles_testing1/'\n",
    "    composite_save_path = '../data/composites/'\n",
    "\n",
    "# resources\n",
    "kilns = pd.read_csv(\"../data/bangladesh_kilns.csv\")\n",
    "all_bands = ['B1', 'B2', 'B3', 'B4', 'B5', 'B6', 'B7', 'B8A', 'B8', 'B9', 'B10', 'B11', 'B12']\n",
    "\n",
    "print(kilns.head())"
   ]
  },
  {
   "cell_type": "code",
   "execution_count": 4,
   "metadata": {},
   "outputs": [],
   "source": [
    "def mkdirs(names):\n",
    "    for name in names:\n",
    "        if not os.path.exists(name):\n",
    "            os.makedirs(name)\n",
    "mkdirs([save_path, composite_save_path])"
   ]
  },
  {
   "cell_type": "code",
   "execution_count": 5,
   "metadata": {},
   "outputs": [
    {
     "name": "stdout",
     "output_type": "stream",
     "text": [
      "Found 80 files\n",
      "title: bangladesh_all_bands_final-0000000000-0000000000.tif, id: 1ZHtyKejLTVvFo5s1Ui--sA_RqKBtfZlZ\n",
      "title: bangladesh_all_bands_final-0000000000-0000006656.tif, id: 1GlKU0_kZEaisJ8sBWGsl7VNg9pwsPD8Z\n",
      "title: bangladesh_all_bands_final-0000000000-0000013312.tif, id: 1Wm1kJeH2zQ42bNEuqDbSLcR_vP-KEu6_\n",
      "title: bangladesh_all_bands_final-0000000000-0000019968.tif, id: 1RkLg2pzmr9QkVg8NmfPhKVbPGAtxkfKH\n",
      "title: bangladesh_all_bands_final-0000000000-0000026624.tif, id: 1YCQxQ6WzZQTwpEKY7IeW1lWbCBYcUN2l\n"
     ]
    }
   ],
   "source": [
    "file_list = drive.ListFile({'q': \"title contains '\" + composite_file_name + \"'\"}).GetList()\n",
    "print(\"Found \" + str(len(file_list)) + \" files\")\n",
    "file_list = sorted(file_list, key=lambda file: file['title'])\n",
    "for file in file_list[:5]:\n",
    "  print('title: %s, id: %s' % (file['title'], file['id']))"
   ]
  },
  {
   "cell_type": "code",
   "execution_count": 6,
   "metadata": {},
   "outputs": [
    {
     "name": "stdout",
     "output_type": "stream",
     "text": [
      "Number of image grid columns: 8\n",
      "Number of image grid rows: 10\n"
     ]
    }
   ],
   "source": [
    "# calculate image grid\n",
    "first_x_coord = file_list[0]['title'].split(\".\")[0].split(\"-\")[1]\n",
    "first_y_coord = file_list[0]['title'].split(\".\")[0].split(\"-\")[2]\n",
    "num_image_cols = len([x for x in file_list if x['title'].split(\".\")[0].split(\"-\")[1] == first_x_coord])\n",
    "num_image_rows = len([x for x in file_list if x['title'].split(\".\")[0].split(\"-\")[2] == first_y_coord])\n",
    "print(\"Number of image grid columns:\", num_image_cols)\n",
    "print(\"Number of image grid rows:\", num_image_rows)"
   ]
  },
  {
   "cell_type": "code",
   "execution_count": 7,
   "metadata": {},
   "outputs": [],
   "source": [
    "coords = []\n",
    "with open(\"../data/countries.geojson\", \"r\") as countries_geojson:\n",
    "    country_dict = json.load(countries_geojson)[\"features\"]\n",
    "for obj in country_dict:\n",
    "    name = obj['properties']['ADMIN']\n",
    "    if name == \"Bangladesh\":\n",
    "        coords = obj['geometry'][\"coordinates\"]\n",
    "flat_coords = []\n",
    "for sublist in coords:\n",
    "    for coord in sublist:\n",
    "        for c in coord:\n",
    "            flat_coords.append(c)\n",
    "            \n",
    "flat_coords += [flat_coords[0]]\n",
    "bangladesh_geo = Polygon(flat_coords)"
   ]
  },
  {
   "cell_type": "code",
   "execution_count": 8,
   "metadata": {},
   "outputs": [],
   "source": [
    "# optional pre-download all files\n",
    "if download_all_first:\n",
    "    for file in file_list:\n",
    "        start_time = time.time()\n",
    "        composite_file_path = composite_save_path + file['title']\n",
    "        if path.exists(composite_file_path):\n",
    "            print(\"File already downloaded.\", composite_file_path)\n",
    "        else:\n",
    "            print(\"Downloading file...\")\n",
    "            # download the file\n",
    "            download_file = drive.CreateFile({'id': file['id']})\n",
    "            file.GetContentFile(composite_file_path)\n",
    "            print(\"Finished file in \" + str(time.time() - start_time))\n",
    "    print(\"Done downloading all files.\")"
   ]
  },
  {
   "cell_type": "code",
   "execution_count": 9,
   "metadata": {},
   "outputs": [],
   "source": [
    "def get_tile_info_from_px(dataset, px_row, px_col, has_kiln):\n",
    "    global num_tiles_dropped\n",
    "    global pos_examples_data, pos_examples_bounds\n",
    "    global test_ex_data, test_ex_bounds\n",
    "    \n",
    "    window = Window(px_col, px_row, tile_length, tile_height)\n",
    "    bands = dataset.read(window=window)\n",
    "    bounds = list(r_bounds(window, dataset.transform))\n",
    "    tile_geo = Polygon([[bounds[0], bounds[2]], [bounds[0], bounds[3]], [bounds[1], bounds[3]], [bounds[1], bounds[2]], [bounds[0], bounds[2]]])\n",
    "    \n",
    "    if has_kiln or bangladesh_geo.intersects(tile_geo):\n",
    "        return bands, bounds\n",
    "    else:\n",
    "        return None, None\n",
    "    \n",
    "def get_tile_has_kiln(dataset, px_row, px_col):\n",
    "    window = Window(px_col, px_row, tile_length, tile_height)\n",
    "    bounds = list(r_bounds(window, dataset.transform))\n",
    "    kilns_in_image = kilns.loc[(kilns['lat'] >= bounds[1]) & (kilns['lat'] <= bounds[3]) \n",
    "        & (kilns['lon'] >= bounds[0]) & (kilns['lon'] <= bounds[2])]\n",
    "\n",
    "    return len(kilns_in_image) >= 1"
   ]
  },
  {
   "cell_type": "code",
   "execution_count": 10,
   "metadata": {},
   "outputs": [],
   "source": [
    "def save_current_file(save_index, counter):\n",
    "    filename = save_path + \"examples_\" + str(save_index) + \".hdf5\"\n",
    "    print(\"Saving file\", filename)\n",
    "    f = h5py.File(filename, 'w')\n",
    "    bounds_dset = f.create_dataset(\"bounds\", data=tile_bounds[:counter])\n",
    "    examples_dset = f.create_dataset(\"images\", data=examples[:counter])\n",
    "    labels_dset = f.create_dataset(\"labels\", data=labels[:counter])\n",
    "    indices_dset = f.create_dataset(\"indices\", data=tile_indices[:counter])\n",
    "    f.close()\n",
    "    return save_index + 1, 0\n",
    "\n",
    "def add_example(ex_data, ex_bounds, t_global_indices, save_index, counter, is_positive):\n",
    "    tile_bounds[counter] = ex_bounds\n",
    "    examples[counter] = ex_data\n",
    "    labels[counter] = 1 if is_positive else 0\n",
    "    tile_indices[counter] = t_global_indices\n",
    "    new_counter = counter + 1\n",
    "    \n",
    "    if new_counter == examples_per_save_file:\n",
    "        return save_current_file(save_index, counter)\n",
    "    return save_index, new_counter"
   ]
  },
  {
   "cell_type": "code",
   "execution_count": 11,
   "metadata": {},
   "outputs": [],
   "source": [
    "## testing & visualization methods\n",
    "\n",
    "# image is a single example of shape (13, 64, 64)\n",
    "def visualize_tile(image, indices=[3, 2, 1]):\n",
    "    row_idx = np.array(indices)\n",
    "    X = np.transpose(image[row_idx], (1, 2, 0))\n",
    "    X *= 1 / np.max(X)\n",
    "    print(X.shape)\n",
    "    plt.imshow(X)\n",
    "    \n",
    "def pretty_bounds(bounds):\n",
    "    return [[bounds[0], bounds[1]], [bounds[2], bounds[1]], [bounds[2], bounds[3]], [bounds[0], bounds[3]], [bounds[0], bounds[1]]]"
   ]
  },
  {
   "cell_type": "code",
   "execution_count": 12,
   "metadata": {},
   "outputs": [],
   "source": [
    "## testing variables\n",
    "num_tiles_dropped = 0\n",
    "pos_examples_data = []\n",
    "pos_examples_bounds = []\n",
    "test_ex_data = []\n",
    "test_ex_bounds = []\n",
    "\n",
    "save_index, counter = 0, 0\n",
    "\n",
    "tile_bounds = np.zeros([examples_per_save_file, 4]) # [left, bottom, right, top]\n",
    "examples = np.zeros([examples_per_save_file, len(all_bands), tile_height, tile_length])\n",
    "labels = np.zeros([examples_per_save_file, 1])\n",
    "tile_indices = np.zeros([examples_per_save_file, 3]) # [row, col, offset_index]"
   ]
  },
  {
   "cell_type": "code",
   "execution_count": 15,
   "metadata": {
    "scrolled": true
   },
   "outputs": [
    {
     "name": "stdout",
     "output_type": "stream",
     "text": [
      "Starting file bangladesh_all_bands_final-0000000000-0000000000.tif\n",
      "Kiln tiles: [(67, 58), (71, 90), (71, 91), (78, 60), (91, 45), (95, 75), (97, 76), (98, 76), (98, 78), (99, 72), (99, 73)]\n",
      "Drop tiles: [(66, 57), (67, 57), (68, 57), (66, 58), (68, 58), (66, 59), (67, 59), (68, 59), (70, 89), (71, 89), (72, 89), (70, 90), (72, 90), (70, 91), (72, 91), (70, 90), (72, 90), (70, 91), (72, 91), (70, 92), (71, 92), (72, 92), (77, 59), (78, 59), (79, 59), (77, 60), (79, 60), (77, 61), (78, 61), (79, 61), (90, 44), (91, 44), (92, 44), (90, 45), (92, 45), (90, 46), (91, 46), (92, 46), (94, 74), (95, 74), (96, 74), (94, 75), (96, 75), (94, 76), (95, 76), (96, 76), (96, 75), (97, 75), (98, 75), (96, 76), (96, 77), (97, 77), (98, 77), (97, 75), (98, 75), (99, 75), (99, 76), (97, 77), (98, 77), (99, 77), (97, 77), (98, 77), (99, 77), (97, 78), (99, 78), (97, 79), (98, 79), (99, 79), (98, 71), (99, 71), (100, 71), (98, 72), (100, 72), (98, 73), (100, 73), (98, 72), (100, 72), (98, 73), (100, 73), (98, 74), (99, 74), (100, 74)]\n",
      "Saving file ../data/tiles_testing1/examples_6.hdf5\n",
      "Saving file ../data/tiles_testing1/examples_7.hdf5\n",
      "Saving file ../data/tiles_testing1/examples_8.hdf5\n",
      "Tile is drop tile, shouldn't save\n",
      "Tile is drop tile, shouldn't save\n",
      "Tile is drop tile, shouldn't save\n",
      "Saving file ../data/tiles_testing1/examples_9.hdf5\n",
      "Tile is drop tile, shouldn't save\n",
      "Saving kiln tile\n",
      "Tile is drop tile, shouldn't save\n",
      "Tile is drop tile, shouldn't save\n",
      "Tile is drop tile, shouldn't save\n",
      "Tile is drop tile, shouldn't save\n",
      "Tile is drop tile, shouldn't save\n",
      "Tile is drop tile, shouldn't save\n",
      "Tile is drop tile, shouldn't save\n",
      "Tile is drop tile, shouldn't save\n",
      "Tile is drop tile, shouldn't save\n",
      "Saving kiln tile\n",
      "Saving kiln tile\n",
      "Tile is drop tile, shouldn't save\n",
      "Tile is drop tile, shouldn't save\n",
      "Tile is drop tile, shouldn't save\n",
      "Tile is drop tile, shouldn't save\n",
      "Tile is drop tile, shouldn't save\n",
      "Tile is drop tile, shouldn't save\n",
      "Tile is drop tile, shouldn't save\n",
      "Tile is drop tile, shouldn't save\n",
      "Tile is drop tile, shouldn't save\n",
      "Saving kiln tile\n",
      "Tile is drop tile, shouldn't save\n",
      "Tile is drop tile, shouldn't save\n",
      "Tile is drop tile, shouldn't save\n",
      "Tile is drop tile, shouldn't save\n",
      "Saving file ../data/tiles_testing1/examples_10.hdf5\n",
      "Tile is drop tile, shouldn't save\n",
      "Tile is drop tile, shouldn't save\n",
      "Tile is drop tile, shouldn't save\n",
      "Tile is drop tile, shouldn't save\n",
      "Saving kiln tile\n",
      "Tile is drop tile, shouldn't save\n",
      "Tile is drop tile, shouldn't save\n",
      "Tile is drop tile, shouldn't save\n",
      "Tile is drop tile, shouldn't save\n",
      "Tile is drop tile, shouldn't save\n",
      "Tile is drop tile, shouldn't save\n",
      "Tile is drop tile, shouldn't save\n",
      "Tile is drop tile, shouldn't save\n",
      "Saving kiln tile\n",
      "Tile is drop tile, shouldn't save\n",
      "Saving file ../data/tiles_testing1/examples_11.hdf5\n",
      "Tile is drop tile, shouldn't save\n",
      "Tile is drop tile, shouldn't save\n",
      "Tile is drop tile, shouldn't save\n",
      "Tile is drop tile, shouldn't save\n",
      "Tile is drop tile, shouldn't save\n",
      "Saving kiln tile\n",
      "Tile is drop tile, shouldn't save\n",
      "Tile is drop tile, shouldn't save\n",
      "Tile is drop tile, shouldn't save\n",
      "Tile is drop tile, shouldn't save\n",
      "Tile is drop tile, shouldn't save\n",
      "Tile is drop tile, shouldn't save\n",
      "Tile is drop tile, shouldn't save\n",
      "Tile is drop tile, shouldn't save\n",
      "Saving kiln tile\n",
      "Tile is drop tile, shouldn't save\n",
      "Saving kiln tile\n",
      "Tile is drop tile, shouldn't save\n",
      "Tile is drop tile, shouldn't save\n",
      "Saving kiln tile\n",
      "Saving kiln tile\n",
      "Tile is drop tile, shouldn't save\n",
      "Tile is drop tile, shouldn't save\n",
      "Tile is drop tile, shouldn't save\n",
      "Tile is drop tile, shouldn't save\n",
      "Tile is drop tile, shouldn't save\n",
      "Tile is drop tile, shouldn't save\n",
      "Tile is drop tile, shouldn't save\n",
      "Tile is drop tile, shouldn't save\n",
      "Tile is drop tile, shouldn't save\n",
      "Tile is drop tile, shouldn't save\n"
     ]
    },
    {
     "ename": "KeyboardInterrupt",
     "evalue": "",
     "output_type": "error",
     "traceback": [
      "\u001b[0;31m---------------------------------------------------------------------------\u001b[0m",
      "\u001b[0;31mKeyboardInterrupt\u001b[0m                         Traceback (most recent call last)",
      "\u001b[0;32m<ipython-input-15-eaedf1dbc0d1>\u001b[0m in \u001b[0;36m<module>\u001b[0;34m\u001b[0m\n\u001b[1;32m     25\u001b[0m             \u001b[0;32mfor\u001b[0m \u001b[0mtile_idx_col\u001b[0m \u001b[0;32min\u001b[0m \u001b[0mrange\u001b[0m\u001b[0;34m(\u001b[0m\u001b[0;36m0\u001b[0m\u001b[0;34m,\u001b[0m \u001b[0mnum_cols\u001b[0m\u001b[0;34m)\u001b[0m\u001b[0;34m:\u001b[0m\u001b[0;34m\u001b[0m\u001b[0;34m\u001b[0m\u001b[0m\n\u001b[1;32m     26\u001b[0m                 \u001b[0mpx_col\u001b[0m \u001b[0;34m=\u001b[0m \u001b[0mtile_idx_col\u001b[0m \u001b[0;34m*\u001b[0m \u001b[0mtile_length\u001b[0m \u001b[0;34m+\u001b[0m \u001b[0moffset_config\u001b[0m\u001b[0;34m[\u001b[0m\u001b[0;36m1\u001b[0m\u001b[0;34m]\u001b[0m\u001b[0;34m\u001b[0m\u001b[0;34m\u001b[0m\u001b[0m\n\u001b[0;32m---> 27\u001b[0;31m                 \u001b[0;32mif\u001b[0m \u001b[0mget_tile_has_kiln\u001b[0m\u001b[0;34m(\u001b[0m\u001b[0mdataset\u001b[0m\u001b[0;34m,\u001b[0m \u001b[0mpx_row\u001b[0m\u001b[0;34m,\u001b[0m \u001b[0mpx_col\u001b[0m\u001b[0;34m)\u001b[0m\u001b[0;34m:\u001b[0m\u001b[0;34m\u001b[0m\u001b[0;34m\u001b[0m\u001b[0m\n\u001b[0m\u001b[1;32m     28\u001b[0m                     \u001b[0mkiln_tiles\u001b[0m \u001b[0;34m+=\u001b[0m \u001b[0;34m[\u001b[0m\u001b[0;34m(\u001b[0m\u001b[0mtile_idx_row\u001b[0m\u001b[0;34m,\u001b[0m \u001b[0mtile_idx_col\u001b[0m\u001b[0;34m)\u001b[0m\u001b[0;34m]\u001b[0m\u001b[0;34m\u001b[0m\u001b[0;34m\u001b[0m\u001b[0m\n\u001b[1;32m     29\u001b[0m \u001b[0;34m\u001b[0m\u001b[0m\n",
      "\u001b[0;32m<ipython-input-9-30835dbfd5c2>\u001b[0m in \u001b[0;36mget_tile_has_kiln\u001b[0;34m(dataset, px_row, px_col)\u001b[0m\n\u001b[1;32m     18\u001b[0m     \u001b[0mbounds\u001b[0m \u001b[0;34m=\u001b[0m \u001b[0mlist\u001b[0m\u001b[0;34m(\u001b[0m\u001b[0mr_bounds\u001b[0m\u001b[0;34m(\u001b[0m\u001b[0mwindow\u001b[0m\u001b[0;34m,\u001b[0m \u001b[0mdataset\u001b[0m\u001b[0;34m.\u001b[0m\u001b[0mtransform\u001b[0m\u001b[0;34m)\u001b[0m\u001b[0;34m)\u001b[0m\u001b[0;34m\u001b[0m\u001b[0;34m\u001b[0m\u001b[0m\n\u001b[1;32m     19\u001b[0m     kilns_in_image = kilns.loc[(kilns['lat'] >= bounds[1]) & (kilns['lat'] <= bounds[3]) \n\u001b[0;32m---> 20\u001b[0;31m         & (kilns['lon'] >= bounds[0]) & (kilns['lon'] <= bounds[2])]\n\u001b[0m\u001b[1;32m     21\u001b[0m \u001b[0;34m\u001b[0m\u001b[0m\n\u001b[1;32m     22\u001b[0m     \u001b[0;32mreturn\u001b[0m \u001b[0mlen\u001b[0m\u001b[0;34m(\u001b[0m\u001b[0mkilns_in_image\u001b[0m\u001b[0;34m)\u001b[0m \u001b[0;34m>=\u001b[0m \u001b[0;36m1\u001b[0m\u001b[0;34m\u001b[0m\u001b[0;34m\u001b[0m\u001b[0m\n",
      "\u001b[0;32m~/anaconda3/lib/python3.8/site-packages/pandas/core/ops/common.py\u001b[0m in \u001b[0;36mnew_method\u001b[0;34m(self, other)\u001b[0m\n\u001b[1;32m     63\u001b[0m         \u001b[0mother\u001b[0m \u001b[0;34m=\u001b[0m \u001b[0mitem_from_zerodim\u001b[0m\u001b[0;34m(\u001b[0m\u001b[0mother\u001b[0m\u001b[0;34m)\u001b[0m\u001b[0;34m\u001b[0m\u001b[0;34m\u001b[0m\u001b[0m\n\u001b[1;32m     64\u001b[0m \u001b[0;34m\u001b[0m\u001b[0m\n\u001b[0;32m---> 65\u001b[0;31m         \u001b[0;32mreturn\u001b[0m \u001b[0mmethod\u001b[0m\u001b[0;34m(\u001b[0m\u001b[0mself\u001b[0m\u001b[0;34m,\u001b[0m \u001b[0mother\u001b[0m\u001b[0;34m)\u001b[0m\u001b[0;34m\u001b[0m\u001b[0;34m\u001b[0m\u001b[0m\n\u001b[0m\u001b[1;32m     66\u001b[0m \u001b[0;34m\u001b[0m\u001b[0m\n\u001b[1;32m     67\u001b[0m     \u001b[0;32mreturn\u001b[0m \u001b[0mnew_method\u001b[0m\u001b[0;34m\u001b[0m\u001b[0;34m\u001b[0m\u001b[0m\n",
      "\u001b[0;32m~/anaconda3/lib/python3.8/site-packages/pandas/core/ops/__init__.py\u001b[0m in \u001b[0;36mwrapper\u001b[0;34m(self, other)\u001b[0m\n\u001b[1;32m    368\u001b[0m         \u001b[0mrvalues\u001b[0m \u001b[0;34m=\u001b[0m \u001b[0mextract_array\u001b[0m\u001b[0;34m(\u001b[0m\u001b[0mother\u001b[0m\u001b[0;34m,\u001b[0m \u001b[0mextract_numpy\u001b[0m\u001b[0;34m=\u001b[0m\u001b[0;32mTrue\u001b[0m\u001b[0;34m)\u001b[0m\u001b[0;34m\u001b[0m\u001b[0;34m\u001b[0m\u001b[0m\n\u001b[1;32m    369\u001b[0m \u001b[0;34m\u001b[0m\u001b[0m\n\u001b[0;32m--> 370\u001b[0;31m         \u001b[0mres_values\u001b[0m \u001b[0;34m=\u001b[0m \u001b[0mcomparison_op\u001b[0m\u001b[0;34m(\u001b[0m\u001b[0mlvalues\u001b[0m\u001b[0;34m,\u001b[0m \u001b[0mrvalues\u001b[0m\u001b[0;34m,\u001b[0m \u001b[0mop\u001b[0m\u001b[0;34m)\u001b[0m\u001b[0;34m\u001b[0m\u001b[0;34m\u001b[0m\u001b[0m\n\u001b[0m\u001b[1;32m    371\u001b[0m \u001b[0;34m\u001b[0m\u001b[0m\n\u001b[1;32m    372\u001b[0m         \u001b[0;32mreturn\u001b[0m \u001b[0mself\u001b[0m\u001b[0;34m.\u001b[0m\u001b[0m_construct_result\u001b[0m\u001b[0;34m(\u001b[0m\u001b[0mres_values\u001b[0m\u001b[0;34m,\u001b[0m \u001b[0mname\u001b[0m\u001b[0;34m=\u001b[0m\u001b[0mres_name\u001b[0m\u001b[0;34m)\u001b[0m\u001b[0;34m\u001b[0m\u001b[0;34m\u001b[0m\u001b[0m\n",
      "\u001b[0;32m~/anaconda3/lib/python3.8/site-packages/pandas/core/ops/array_ops.py\u001b[0m in \u001b[0;36mcomparison_op\u001b[0;34m(left, right, op)\u001b[0m\n\u001b[1;32m    245\u001b[0m \u001b[0;34m\u001b[0m\u001b[0m\n\u001b[1;32m    246\u001b[0m     \u001b[0;32melse\u001b[0m\u001b[0;34m:\u001b[0m\u001b[0;34m\u001b[0m\u001b[0;34m\u001b[0m\u001b[0m\n\u001b[0;32m--> 247\u001b[0;31m         \u001b[0;32mwith\u001b[0m \u001b[0mwarnings\u001b[0m\u001b[0;34m.\u001b[0m\u001b[0mcatch_warnings\u001b[0m\u001b[0;34m(\u001b[0m\u001b[0;34m)\u001b[0m\u001b[0;34m:\u001b[0m\u001b[0;34m\u001b[0m\u001b[0;34m\u001b[0m\u001b[0m\n\u001b[0m\u001b[1;32m    248\u001b[0m             \u001b[0;31m# suppress warnings from numpy about element-wise comparison\u001b[0m\u001b[0;34m\u001b[0m\u001b[0;34m\u001b[0m\u001b[0;34m\u001b[0m\u001b[0m\n\u001b[1;32m    249\u001b[0m             \u001b[0mwarnings\u001b[0m\u001b[0;34m.\u001b[0m\u001b[0msimplefilter\u001b[0m\u001b[0;34m(\u001b[0m\u001b[0;34m\"ignore\"\u001b[0m\u001b[0;34m,\u001b[0m \u001b[0mDeprecationWarning\u001b[0m\u001b[0;34m)\u001b[0m\u001b[0;34m\u001b[0m\u001b[0;34m\u001b[0m\u001b[0m\n",
      "\u001b[0;32m~/anaconda3/lib/python3.8/warnings.py\u001b[0m in \u001b[0;36m__enter__\u001b[0;34m(self)\u001b[0m\n\u001b[1;32m    464\u001b[0m         \u001b[0mself\u001b[0m\u001b[0;34m.\u001b[0m\u001b[0m_module\u001b[0m\u001b[0;34m.\u001b[0m\u001b[0m_filters_mutated\u001b[0m\u001b[0;34m(\u001b[0m\u001b[0;34m)\u001b[0m\u001b[0;34m\u001b[0m\u001b[0;34m\u001b[0m\u001b[0m\n\u001b[1;32m    465\u001b[0m         \u001b[0mself\u001b[0m\u001b[0;34m.\u001b[0m\u001b[0m_showwarning\u001b[0m \u001b[0;34m=\u001b[0m \u001b[0mself\u001b[0m\u001b[0;34m.\u001b[0m\u001b[0m_module\u001b[0m\u001b[0;34m.\u001b[0m\u001b[0mshowwarning\u001b[0m\u001b[0;34m\u001b[0m\u001b[0;34m\u001b[0m\u001b[0m\n\u001b[0;32m--> 466\u001b[0;31m         \u001b[0mself\u001b[0m\u001b[0;34m.\u001b[0m\u001b[0m_showwarnmsg_impl\u001b[0m \u001b[0;34m=\u001b[0m \u001b[0mself\u001b[0m\u001b[0;34m.\u001b[0m\u001b[0m_module\u001b[0m\u001b[0;34m.\u001b[0m\u001b[0m_showwarnmsg_impl\u001b[0m\u001b[0;34m\u001b[0m\u001b[0;34m\u001b[0m\u001b[0m\n\u001b[0m\u001b[1;32m    467\u001b[0m         \u001b[0;32mif\u001b[0m \u001b[0mself\u001b[0m\u001b[0;34m.\u001b[0m\u001b[0m_record\u001b[0m\u001b[0;34m:\u001b[0m\u001b[0;34m\u001b[0m\u001b[0;34m\u001b[0m\u001b[0m\n\u001b[1;32m    468\u001b[0m             \u001b[0mlog\u001b[0m \u001b[0;34m=\u001b[0m \u001b[0;34m[\u001b[0m\u001b[0;34m]\u001b[0m\u001b[0;34m\u001b[0m\u001b[0;34m\u001b[0m\u001b[0m\n",
      "\u001b[0;31mKeyboardInterrupt\u001b[0m: "
     ]
    }
   ],
   "source": [
    "if local_testing_mode:\n",
    "    file_list = file_list[:1]\n",
    "\n",
    "std_tile_rows, std_tile_cols = None, None\n",
    "    \n",
    "total_start_time = time.time()\n",
    "for index, file in enumerate(file_list):\n",
    "    file_start_time = time.time()\n",
    "    print(\"Starting file \" + file['title'])\n",
    "    \n",
    "    # get composite image indices\n",
    "    c_row = int(index / num_image_rows)\n",
    "    c_col = index % num_image_rows\n",
    "    \n",
    "    composite_file_path = composite_save_path + file['title']\n",
    "    if not path.exists(composite_file_path):\n",
    "        print(\"Downloading file...\")\n",
    "        # download the file\n",
    "        download_file = drive.CreateFile({'id': file['id']})\n",
    "        file.GetContentFile(composite_file_path)\n",
    "    dataset = rasterio.open(composite_file_path)\n",
    "    \n",
    "    for offset_index, offset_config in enumerate(offset_configs):\n",
    "        num_rows = int((dataset.height - offset_config[0]) / tile_height)\n",
    "        num_cols = int((dataset.width - offset_config[1]) / tile_length)\n",
    "        \n",
    "        if std_tile_rows is None:\n",
    "            std_tile_rows = num_rows\n",
    "            std_tile_cols = num_cols\n",
    "        \n",
    "        # first pass to calculate kiln_tiles\n",
    "        kiln_tiles = []\n",
    "        for tile_idx_row in range(0, num_rows):\n",
    "            px_row = tile_idx_row * tile_height + offset_config[0]\n",
    "            for tile_idx_col in range(0, num_cols):\n",
    "                px_col = tile_idx_col * tile_length + offset_config[1]\n",
    "                if get_tile_has_kiln(dataset, px_row, px_col):\n",
    "                    kiln_tiles += [(tile_idx_row, tile_idx_col)]\n",
    "        \n",
    "        # only calculate drop_tiles for first offset \n",
    "        # (for all other offsets, no negative examples are saved anyways)\n",
    "        drop_tiles = []\n",
    "        if offset_index == 0:\n",
    "            for row_index, col_index in kiln_tiles:\n",
    "                neighbors = [(row_index - 1, col_index - 1), (row_index, col_index - 1), (row_index + 1, col_index - 1), \n",
    "                             (row_index - 1, col_index), (row_index + 1, col_index), \n",
    "                             (row_index - 1, col_index + 1), (row_index, col_index + 1), (row_index + 1, col_index + 1)]\n",
    "                for n in neighbors:\n",
    "                    if n not in kiln_tiles and n[0] >= 0 and n[0] < num_rows and n[1] >= 0 and n[1] < num_cols:\n",
    "                        drop_tiles += [n]\n",
    "        \n",
    "        # second pass to calculate and save data\n",
    "        for tile_idx_row in range(0, num_rows):\n",
    "            px_row = tile_idx_row * tile_height + offset_config[0]\n",
    "            for tile_idx_col in range(0, num_cols):\n",
    "                px_col = tile_idx_col * tile_length + offset_config[1]\n",
    "                tile_has_kiln = (tile_idx_row, tile_idx_col) in kiln_tiles\n",
    "                t_data, t_bounds = None, None\n",
    "                if tile_has_kiln or offset_index == 0:\n",
    "                    t_data, t_bounds = get_tile_info_from_px(dataset, px_row, px_col, tile_has_kiln)\n",
    "                \n",
    "                # save data only if:\n",
    "                # (1) tile is a kiln OR\n",
    "                # (2a) t_data is not None (first offset and tile in country)\n",
    "                # (2b) tile is not a neighbor of a kiln\n",
    "                tile_is_drop = (tile_idx_row, tile_idx_col) in drop_tiles\n",
    "                if tile_has_kiln or (t_data is not None and not tile_is_drop):\n",
    "                    t_global_row = c_row * std_tile_rows + tile_idx_row\n",
    "                    t_global_col = c_col * std_tile_cols + tile_idx_col\n",
    "                    t_global_indices = [t_global_row, t_global_col, offset_index]\n",
    "                    \n",
    "                    save_index, counter = add_example(t_data, t_bounds, t_global_indices, save_index, counter, tile_has_kiln)\n",
    "                    \n",
    "    # handle leftovers in a final file\n",
    "    if index == len(file_list) - 1:\n",
    "        save_current_file(save_index, counter)\n",
    "\n",
    "    print(\"Total tiles dropped (outside country):\", num_tiles_dropped)\n",
    "    print(\"Total tiles kept:\", str(num_rows * num_cols * len(offset_configs) - num_tiles_dropped))\n",
    "    num_tiles_dropped = 0\n",
    "    print(\"Finished file in\", time.time() - file_start_time, \"\\n\")\n",
    "print(\"Finished \" + str(len(file_list)) + \" files in: \" + str(time.time() - total_start_time))"
   ]
  },
  {
   "cell_type": "markdown",
   "metadata": {},
   "source": [
    "## Test hdf5 file data format & visualizations"
   ]
  },
  {
   "cell_type": "code",
   "execution_count": 83,
   "metadata": {},
   "outputs": [
    {
     "data": {
      "text/plain": [
       "[[88.02178244056496, 26.02563108539713],\n",
       " [88.61970109367492, 26.02563108539713],\n",
       " [88.61970109367492, 26.623549738507084],\n",
       " [88.02178244056496, 26.623549738507084],\n",
       " [88.02178244056496, 26.02563108539713]]"
      ]
     },
     "execution_count": 83,
     "metadata": {},
     "output_type": "execute_result"
    }
   ],
   "source": [
    "print(pretty_bounds([dataset.bounds.left, dataset.bounds.bottom, dataset.bounds.right, dataset.bounds.top]))"
   ]
  },
  {
   "cell_type": "code",
   "execution_count": 119,
   "metadata": {},
   "outputs": [
    {
     "name": "stdout",
     "output_type": "stream",
     "text": [
      "4\n",
      "(64, 64, 3)\n"
     ]
    },
    {
     "data": {
      "text/plain": [
       "[[88.54496126203617, 26.209606055584807],\n",
       " [88.55071047985453, 26.209606055584807],\n",
       " [88.55071047985453, 26.215355273403173],\n",
       " [88.54496126203617, 26.215355273403173],\n",
       " [88.54496126203617, 26.209606055584807]]"
      ]
     },
     "execution_count": 119,
     "metadata": {},
     "output_type": "execute_result"
    },
    {
     "data": {
      "image/png": "[encoded data removed]",
      "text/plain": [
       "<Figure size 432x288 with 1 Axes>"
      ]
     },
     "metadata": {
      "needs_background": "light"
     },
     "output_type": "display_data"
    }
   ],
   "source": [
    "# print(len(pos_examples_bounds))\n",
    "# vis_index = 2\n",
    "\n",
    "# visualize_tile(pos_examples_data[vis_index])\n",
    "# pretty_bounds(pos_examples_bounds[vis_index])"
   ]
  },
  {
   "cell_type": "code",
   "execution_count": 27,
   "metadata": {},
   "outputs": [
    {
     "name": "stdout",
     "output_type": "stream",
     "text": [
      "Examples w/ kilns: [40 41 42]\n"
     ]
    }
   ],
   "source": [
    "# print(\"Examples w/ kilns:\", np.where(labels==1.0)[0])\n",
    "# index = 4321\n",
    "# print(\"label:\", y[index])\n",
    "# vis_X = X[index]\n",
    "# vis_X *= 1 / np.max(vis_X)\n",
    "# print(vis_X.shape)\n",
    "# plt.imshow(vis_X)"
   ]
  }
 ],
 "metadata": {
  "kernelspec": {
   "display_name": "Python 3",
   "language": "python",
   "name": "python3"
  },
  "language_info": {
   "codemirror_mode": {
    "name": "ipython",
    "version": 3
   },
   "file_extension": ".py",
   "mimetype": "text/x-python",
   "name": "python",
   "nbconvert_exporter": "python",
   "pygments_lexer": "ipython3",
   "version": "3.8.5"
  }
 },
 "nbformat": 4,
 "nbformat_minor": 4
}
