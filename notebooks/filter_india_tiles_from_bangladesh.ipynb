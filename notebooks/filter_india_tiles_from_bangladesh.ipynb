{
 "cells": [
  {
   "cell_type": "code",
   "execution_count": 1,
   "id": "thick-advice",
   "metadata": {},
   "outputs": [],
   "source": [
    "import os\n",
    "import json\n",
    "import requests\n",
    "import time\n",
    "import pandas as pd\n",
    "import datetime\n",
    "from matplotlib import pyplot as plt\n",
    "import numpy as np\n",
    "from shapely.geometry import Point\n",
    "from shapely.geometry.polygon import Polygon\n",
    "from os import listdir, path\n",
    "from os.path import isfile, join\n",
    "import h5py"
   ]
  },
  {
   "cell_type": "code",
   "execution_count": 2,
   "id": "included-charm",
   "metadata": {},
   "outputs": [],
   "source": [
    "coords = []\n",
    "with open(\"../data/countries.geojson\", \"r\") as countries_geojson:\n",
    "    country_dict = json.load(countries_geojson)[\"features\"]\n",
    "for obj in country_dict:\n",
    "    name = obj['properties']['ADMIN']\n",
    "    if name == \"Bangladesh\":\n",
    "        coords = obj['geometry'][\"coordinates\"]\n",
    "flat_coords = []\n",
    "for sublist in coords:\n",
    "    for coord in sublist:\n",
    "        for c in coord:\n",
    "            flat_coords.append(c)\n",
    "            \n",
    "flat_coords += [flat_coords[0]]\n",
    "bangladesh_geo = Polygon(flat_coords)\n",
    "# print(bangladesh_geo)"
   ]
  },
  {
   "cell_type": "code",
   "execution_count": 14,
   "id": "relevant-louis",
   "metadata": {},
   "outputs": [],
   "source": [
    "# directory containing all hdf files to process\n",
    "IN_DIR_PATH = '/atlas/u/jihyeonlee/handlabeling/delta+1/jihyeon'\n",
    "OUT_DIR_PATH = IN_DIR_PATH + 'filtered_out/'\n",
    "CACHE_DIR_PATH = '/atlas/u/jihyeonlee/handlabeling/cache/'\n",
    "\n",
    "if not os.path.exists(OUT_DIR_PATH):\n",
    "    os.makedirs(OUT_DIR_PATH)\n",
    "    \n",
    "if not os.path.exists(CACHE_DIR_PATH):\n",
    "    os.makedirs(CACHE_DIR_PATH)"
   ]
  },
  {
   "cell_type": "code",
   "execution_count": 12,
   "id": "beginning-roots",
   "metadata": {},
   "outputs": [
    {
     "data": {
      "text/plain": [
       "['/atlas/u/jihyeonlee/handlabeling/positives/examples_0.hdf5',\n",
       " '/atlas/u/jihyeonlee/handlabeling/positives/examples_1.hdf5',\n",
       " '/atlas/u/jihyeonlee/handlabeling/positives/examples_2.hdf5',\n",
       " '/atlas/u/jihyeonlee/handlabeling/positives/examples_3.hdf5',\n",
       " '/atlas/u/jihyeonlee/handlabeling/positives/examples_4.hdf5',\n",
       " '/atlas/u/jihyeonlee/handlabeling/positives/examples_5.hdf5',\n",
       " '/atlas/u/jihyeonlee/handlabeling/positives/examples_6.hdf5',\n",
       " '/atlas/u/jihyeonlee/handlabeling/positives/examples_7.hdf5',\n",
       " '/atlas/u/jihyeonlee/handlabeling/positives/examples_9.hdf5']"
      ]
     },
     "execution_count": 12,
     "metadata": {},
     "output_type": "execute_result"
    }
   ],
   "source": [
    "# delete any existing examples{N}_new.hdf5 and collect paths to all examples_{N}.hdf5\n",
    "\n",
    "filepaths = []\n",
    "for dir_path, subdirs, files in os.walk(IN_DIR_PATH):\n",
    "#     print(dir_path, subdirs, files)\n",
    "    if len(files) != 0:\n",
    "        for file in files:\n",
    "            full_path = dir_path + file\n",
    "            if file[-9:] == \"_new.hdf5\":\n",
    "                os.remove(full_path)\n",
    "            elif file[:9] == 'examples_':\n",
    "                filepaths += [full_path]\n",
    "        \n",
    "filepaths.sort() \n",
    "filepaths"
   ]
  },
  {
   "cell_type": "code",
   "execution_count": 13,
   "id": "recovered-produce",
   "metadata": {},
   "outputs": [
    {
     "name": "stdout",
     "output_type": "stream",
     "text": [
      "Starting file #1: /atlas/u/jihyeonlee/handlabeling/positives/examples_0.hdf5\n",
      "# incorrect tiles found: 189\n",
      "# examples in new file: 810\n",
      "Starting file #2: /atlas/u/jihyeonlee/handlabeling/positives/examples_1.hdf5\n",
      "# incorrect tiles found: 281\n",
      "# examples in new file: 718\n",
      "Starting file #3: /atlas/u/jihyeonlee/handlabeling/positives/examples_2.hdf5\n",
      "# incorrect tiles found: 256\n",
      "# examples in new file: 743\n",
      "Starting file #4: /atlas/u/jihyeonlee/handlabeling/positives/examples_3.hdf5\n",
      "# incorrect tiles found: 208\n",
      "# examples in new file: 791\n",
      "Starting file #5: /atlas/u/jihyeonlee/handlabeling/positives/examples_4.hdf5\n",
      "# incorrect tiles found: 279\n",
      "# examples in new file: 720\n",
      "Starting file #6: /atlas/u/jihyeonlee/handlabeling/positives/examples_5.hdf5\n",
      "# incorrect tiles found: 172\n",
      "# examples in new file: 827\n",
      "Starting file #7: /atlas/u/jihyeonlee/handlabeling/positives/examples_6.hdf5\n",
      "# incorrect tiles found: 171\n",
      "# examples in new file: 828\n",
      "Starting file #8: /atlas/u/jihyeonlee/handlabeling/positives/examples_7.hdf5\n",
      "# incorrect tiles found: 220\n",
      "# examples in new file: 779\n",
      "Starting file #9: /atlas/u/jihyeonlee/handlabeling/positives/examples_9.hdf5\n",
      "# incorrect tiles found: 80\n",
      "# examples in new file: 352\n"
     ]
    }
   ],
   "source": [
    "for file_index, filepath in enumerate(filepaths):\n",
    "    print(\"Starting file #{}: {}\".format(file_index + 1, filepath))\n",
    "    new_filepath = filepath[:-5] + \"_new.hdf5\"\n",
    "    \n",
    "    if os.path.exists(new_filepath):\n",
    "        print(\"Skip, already done!\")\n",
    "    else:\n",
    "        with h5py.File(filepath, 'r') as file:\n",
    "            bad_idxs = []\n",
    "            all_tile_bounds = file['bounds']\n",
    "            for tile_idx in range(all_tile_bounds.shape[0]):\n",
    "                bounds = all_tile_bounds[tile_idx]\n",
    "                corners = [[bounds[0], bounds[1]], [bounds[0], bounds[3]], [bounds[2], bounds[3]], [bounds[2], bounds[1]]]\n",
    "                tile_in_country = False\n",
    "                for point in corners:\n",
    "                    if bangladesh_geo.contains(Point(point)):\n",
    "                        tile_in_country = True\n",
    "                if not tile_in_country:\n",
    "                    bad_idxs += [tile_idx]\n",
    "            print(\"# incorrect tiles found: {}\".format(len(bad_idxs)))\n",
    "            \n",
    "            # write filtered out tiles to their own file\n",
    "            with h5py.File(OUT_DIR_PATH + 'india_tiles' + str(file_index) + '.hdf5', 'w') as out_file:\n",
    "                for key in file.keys():\n",
    "                    out_file.create_dataset(key, data=[file[key][idx] for idx in bad_idxs])\n",
    "            \n",
    "            # write saved tiles to their own file\n",
    "            new_file = h5py.File(new_filepath, 'w')\n",
    "            for key in file.keys():\n",
    "                dataset = np.delete(np.array(file[key]), bad_idxs, 0)\n",
    "                new_file.create_dataset(key, data=dataset)\n",
    "            print(\"# examples in new file:\", np.array(new_file[\"bounds\"]).shape[0])            \n",
    "            new_file.close()"
   ]
  },
  {
   "cell_type": "code",
   "execution_count": 17,
   "id": "smaller-potato",
   "metadata": {},
   "outputs": [
    {
     "name": "stdout",
     "output_type": "stream",
     "text": [
      "positives-examples_0.hdf5\n",
      "positives-examples_1.hdf5\n",
      "positives-examples_2.hdf5\n",
      "positives-examples_3.hdf5\n",
      "positives-examples_4.hdf5\n",
      "positives-examples_5.hdf5\n",
      "positives-examples_6.hdf5\n",
      "positives-examples_7.hdf5\n",
      "positives-examples_9.hdf5\n"
     ]
    }
   ],
   "source": [
    "for filepath in filepaths:\n",
    "    cache_filename = \"-\".join(filepath[:-5].split(\"/\")[5:]) + \".hdf5\"\n",
    "    # move the old files into cache & rename\n",
    "    os.rename(filepath, CACHE_DIR_PATH + cache_filename)\n",
    "    print(cache_filename)"
   ]
  },
  {
   "cell_type": "code",
   "execution_count": 80,
   "id": "developmental-network",
   "metadata": {},
   "outputs": [],
   "source": [
    "# if need to revert last step\n",
    "# for filepath in filepaths:\n",
    "#     cache_filename = \"-\".join(filepath[:-5].split(\"/\")[5:]) + \".hdf5\"\n",
    "#     # move the old files into cache & rename\n",
    "#     os.rename(CACHE_DIR_PATH + '/' + cache_filename, filepath)"
   ]
  },
  {
   "cell_type": "code",
   "execution_count": 19,
   "id": "french-ambassador",
   "metadata": {},
   "outputs": [
    {
     "name": "stdout",
     "output_type": "stream",
     "text": [
      "<KeysViewHDF5 ['bounds', 'images', 'indices', 'labels', 'pred_labels']>\n",
      "[[0.]\n",
      " [0.]\n",
      " [0.]\n",
      " [0.]\n",
      " [0.]\n",
      " [1.]\n",
      " [0.]\n",
      " [0.]\n",
      " [1.]\n",
      " [1.]\n",
      " [1.]\n",
      " [1.]\n",
      " [1.]\n",
      " [1.]\n",
      " [1.]\n",
      " [0.]\n",
      " [0.]\n",
      " [0.]\n",
      " [0.]\n",
      " [0.]]\n",
      "<KeysViewHDF5 ['bounds', 'images', 'indices', 'labels', 'pred_labels']>\n",
      "[[0.]\n",
      " [0.]\n",
      " [0.]\n",
      " [0.]\n",
      " [0.]\n",
      " [1.]\n",
      " [0.]\n",
      " [0.]\n",
      " [1.]\n",
      " [1.]\n",
      " [1.]\n",
      " [1.]\n",
      " [1.]\n",
      " [1.]\n",
      " [1.]\n",
      " [0.]\n",
      " [0.]\n",
      " [0.]\n",
      " [0.]\n",
      " [0.]]\n"
     ]
    }
   ],
   "source": [
    "# test to make sure everything worked properly\n",
    "with h5py.File('/atlas/u/jihyeonlee/handlabeling/cache/positives-examples_0.hdf5', 'r') as f:\n",
    "    print(f.keys())\n",
    "    print(f['labels'][:20])\n",
    "    \n",
    "with h5py.File('/atlas/u/jihyeonlee/handlabeling/positives/examples_0_new.hdf5', 'r') as f:\n",
    "    print(f.keys())\n",
    "    print(f['labels'][:20])"
   ]
  }
 ],
 "metadata": {
  "kernelspec": {
   "display_name": "Python 3",
   "language": "python",
   "name": "python3"
  },
  "language_info": {
   "codemirror_mode": {
    "name": "ipython",
    "version": 3
   },
   "file_extension": ".py",
   "mimetype": "text/x-python",
   "name": "python",
   "nbconvert_exporter": "python",
   "pygments_lexer": "ipython3",
   "version": "3.9.1"
  }
 },
 "nbformat": 4,
 "nbformat_minor": 5
}
