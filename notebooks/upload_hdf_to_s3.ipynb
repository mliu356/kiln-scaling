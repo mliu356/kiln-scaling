{
 "cells": [
  {
   "cell_type": "code",
   "execution_count": 37,
   "metadata": {},
   "outputs": [
    {
     "name": "stdout",
     "output_type": "stream",
     "text": [
      "Collecting boto3\n",
      "  Downloading boto3-1.17.78-py2.py3-none-any.whl (131 kB)\n",
      "\u001b[K     |████████████████████████████████| 131 kB 6.1 MB/s eta 0:00:01\n",
      "\u001b[?25hCollecting botocore<1.21.0,>=1.20.78\n",
      "  Downloading botocore-1.20.78-py2.py3-none-any.whl (7.5 MB)\n",
      "\u001b[K     |████████████████████████████████| 7.5 MB 12.5 MB/s eta 0:00:01\n",
      "\u001b[?25hCollecting jmespath<1.0.0,>=0.7.1\n",
      "  Using cached jmespath-0.10.0-py2.py3-none-any.whl (24 kB)\n",
      "Collecting s3transfer<0.5.0,>=0.4.0\n",
      "  Using cached s3transfer-0.4.2-py2.py3-none-any.whl (79 kB)\n",
      "Requirement already satisfied: python-dateutil<3.0.0,>=2.1 in /Users/michelleliu/anaconda3/lib/python3.8/site-packages (from botocore<1.21.0,>=1.20.78->boto3) (2.8.1)\n",
      "Requirement already satisfied: urllib3<1.27,>=1.25.4 in /Users/michelleliu/anaconda3/lib/python3.8/site-packages (from botocore<1.21.0,>=1.20.78->boto3) (1.25.11)\n",
      "Requirement already satisfied: six>=1.5 in /Users/michelleliu/anaconda3/lib/python3.8/site-packages (from python-dateutil<3.0.0,>=2.1->botocore<1.21.0,>=1.20.78->boto3) (1.15.0)\n",
      "Installing collected packages: jmespath, botocore, s3transfer, boto3\n",
      "Successfully installed boto3-1.17.78 botocore-1.20.78 jmespath-0.10.0 s3transfer-0.4.2\n"
     ]
    }
   ],
   "source": [
    "!pip install boto3"
   ]
  },
  {
   "cell_type": "code",
   "execution_count": 78,
   "metadata": {},
   "outputs": [],
   "source": [
    "import os\n",
    "import h5py\n",
    "import time\n",
    "import argparse\n",
    "import copy\n",
    "\n",
    "import numpy as np\n",
    "from tqdm import tqdm\n",
    "import logging\n",
    "import boto3\n",
    "from botocore.exceptions import ClientError\n",
    "import matplotlib.pyplot as plt\n",
    "from PIL import Image\n",
    "import csv\n",
    "from tqdm import tqdm"
   ]
  },
  {
   "cell_type": "code",
   "execution_count": 75,
   "metadata": {},
   "outputs": [
    {
     "name": "stdout",
     "output_type": "stream",
     "text": [
      "dict_keys(['AWSAccessKeyId', 'AWSSecretKey'])\n"
     ]
    }
   ],
   "source": [
    "creds = {}\n",
    "with open('../data/rootkey.csv', newline='') as rootkey:\n",
    "    reader = csv.reader(rootkey, delimiter=' ')\n",
    "    for row in reader:\n",
    "        key, value = row[0].split(\"=\")\n",
    "        creds[key] = value\n",
    "print(creds.keys())\n",
    "\n",
    "BUCKET_NAME = 'kiln-labeling'"
   ]
  },
  {
   "cell_type": "code",
   "execution_count": 85,
   "metadata": {},
   "outputs": [
    {
     "name": "stdout",
     "output_type": "stream",
     "text": [
      "directory: b'../data/mturk_test_hdfs'\n",
      "all files (5): [b'examples_1.hdf5', b'examples_2', b'.ipynb_checkpoints', b'examples_2.hdf5', b'examples_1']\n"
     ]
    }
   ],
   "source": [
    "DATA_PATH = '../data/mturk_test_hdfs' if local_mode else '/atlas/u/mhelabd/data/kiln-scaling/labelled_bangladesh_2019_2020/negative_sample/'\n",
    "directory = os.fsencode(DATA_PATH)\n",
    "all_files = os.listdir(directory)\n",
    "\n",
    "print(\"directory: {}\".format(directory))\n",
    "print(\"all files ({}): {}\".format(len(all_files), all_files))"
   ]
  },
  {
   "cell_type": "code",
   "execution_count": 2,
   "metadata": {},
   "outputs": [],
   "source": [
    "local_mode = True"
   ]
  },
  {
   "cell_type": "code",
   "execution_count": 66,
   "metadata": {},
   "outputs": [],
   "source": [
    "fig_index = 0\n",
    "\n",
    "def visualize_tile(image, indices=[3, 2, 1]):\n",
    "    global fig_index\n",
    "    plt.figure(fig_index)\n",
    "    fig_index += 1\n",
    "    row_idx = np.array(indices)\n",
    "    X = np.transpose(image[row_idx], (1, 2, 0))\n",
    "    X *= 1 / np.max(X)\n",
    "    plt.imshow(X)\n",
    "    \n",
    "def save_tile_as_image(data, img_filename, indices=[3, 2, 1]):\n",
    "    X = np.transpose(data, (1, 2, 0))\n",
    "    X *= 1 / np.max(X) # * 255\n",
    "    img = Image.fromarray((X * 255).astype(np.uint8))\n",
    "    img.save(img_filename, \"JPEG\")"
   ]
  },
  {
   "cell_type": "code",
   "execution_count": 76,
   "metadata": {},
   "outputs": [
    {
     "name": "stdout",
     "output_type": "stream",
     "text": [
      "Existing buckets:\n",
      "  kiln-labeling\n"
     ]
    }
   ],
   "source": [
    "# Retrieve the list of existing buckets\n",
    "s3 = boto3.client(\n",
    "    's3',\n",
    "    aws_access_key_id=creds['AWSAccessKeyId'],\n",
    "    aws_secret_access_key=creds['AWSSecretKey'],\n",
    ")\n",
    "response = s3.list_buckets()\n",
    "\n",
    "# Output the bucket names\n",
    "print('Existing buckets:')\n",
    "for bucket in response['Buckets']:\n",
    "    print(f'  {bucket[\"Name\"]}')\n",
    "    \n",
    "def upload_file(file_path, bucket_name, obj_name):\n",
    "    global s3\n",
    "    try:\n",
    "        response = s3.upload_file(\n",
    "            file_path, \n",
    "            bucket_name, \n",
    "            obj_name,\n",
    "            ExtraArgs={'ACL': 'public-read', 'ContentType': 'image/jpeg'}\n",
    "        )\n",
    "    except ClientError as e:\n",
    "        logging.error(e)\n",
    "        return False\n",
    "    return True"
   ]
  },
  {
   "cell_type": "code",
   "execution_count": 86,
   "metadata": {},
   "outputs": [
    {
     "name": "stdout",
     "output_type": "stream",
     "text": [
      "Starting file: examples_1.hdf5\n"
     ]
    },
    {
     "name": "stderr",
     "output_type": "stream",
     "text": [
      "100%|██████████| 999/999 [01:47<00:00,  9.26it/s]\n"
     ]
    },
    {
     "name": "stdout",
     "output_type": "stream",
     "text": [
      "Starting file: examples_2.hdf5\n"
     ]
    },
    {
     "name": "stderr",
     "output_type": "stream",
     "text": [
      "100%|██████████| 999/999 [02:41<00:00,  6.20it/s]\n"
     ]
    }
   ],
   "source": [
    "for file_index, file in enumerate(all_files):\n",
    "    FILENAME = os.fsdecode(file)\n",
    "    if FILENAME[-5:] == '.hdf5':\n",
    "        print(\"Starting file: \" + FILENAME)\n",
    "        with h5py.File(f\"{DATA_PATH}/{FILENAME}\", 'r') as f:\n",
    "            folder_name = FILENAME[:-5]\n",
    "            if not os.path.exists(DATA_PATH + \"/\" + folder_name):\n",
    "                os.makedirs(DATA_PATH + \"/\" + folder_name)\n",
    "\n",
    "            images = np.array(f['images'])\n",
    "            for index in tqdm(range(images.shape[0])):\n",
    "                # visualize_tile(images[index])\n",
    "                rgb_image = images[index][[3, 2, 1], :, :]\n",
    "                # check images are not nan\n",
    "                if not np.isnan(rgb_image).any():\n",
    "                    local_filename = DATA_PATH + \"/\" + folder_name + \"/\" + str(index) + \".jpeg\"\n",
    "                    # save local file if it doesn't exist already\n",
    "                    if not os.path.exists(local_filename):\n",
    "                        save_tile_as_image(rgb_image, local_filename)\n",
    "                    # upload to s3\n",
    "                    s3_filename = folder_name + \"/\" + str(index) + \".jpeg\"\n",
    "                    upload_file(local_filename, BUCKET_NAME, s3_filename)"
   ]
  }
 ],
 "metadata": {
  "kernelspec": {
   "display_name": "Python 3",
   "language": "python",
   "name": "python3"
  },
  "language_info": {
   "codemirror_mode": {
    "name": "ipython",
    "version": 3
   },
   "file_extension": ".py",
   "mimetype": "text/x-python",
   "name": "python",
   "nbconvert_exporter": "python",
   "pygments_lexer": "ipython3",
   "version": "3.8.5"
  }
 },
 "nbformat": 4,
 "nbformat_minor": 4
}
