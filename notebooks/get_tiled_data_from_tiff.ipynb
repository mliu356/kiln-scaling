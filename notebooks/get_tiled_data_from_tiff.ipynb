{
 "cells": [
  {
   "cell_type": "markdown",
   "metadata": {},
   "source": [
    "## To-Do\n",
    "* read composite images directly from drive\n",
    "\n",
    "## To-Done\n",
    "* only get negative examples completely in bangladesh\n",
    "* only need to snip the cols in the last row and the rows in the last col\n",
    "* create github\n",
    "* save data to .data\n",
    "* don't upload .data to github"
   ]
  },
  {
   "cell_type": "code",
   "execution_count": 1,
   "metadata": {
    "scrolled": true
   },
   "outputs": [
    {
     "name": "stdout",
     "output_type": "stream",
     "text": [
      "Collecting PyDrive\n",
      "\u001b[?25l  Downloading https://files.pythonhosted.org/packages/52/e0/0e64788e5dd58ce2d6934549676243dc69d982f198524be9b99e9c2a4fd5/PyDrive-1.3.1.tar.gz (987kB)\n",
      "\u001b[K    100% |████████████████████████████████| 993kB 3.7MB/s eta 0:00:01\n",
      "\u001b[?25hCollecting google-api-python-client>=1.2 (from PyDrive)\n",
      "\u001b[?25l  Downloading https://files.pythonhosted.org/packages/83/fc/98045b8c5e0ba12929d423e9ff6b742951bb846707539b18f19b27c6ddc3/google_api_python_client-1.12.8-py2.py3-none-any.whl (61kB)\n",
      "\u001b[K    100% |████████████████████████████████| 71kB 5.2MB/s eta 0:00:01\n",
      "\u001b[?25hCollecting oauth2client>=4.0.0 (from PyDrive)\n",
      "\u001b[?25l  Downloading https://files.pythonhosted.org/packages/95/a9/4f25a14d23f0786b64875b91784607c2277eff25d48f915e39ff0cff505a/oauth2client-4.1.3-py2.py3-none-any.whl (98kB)\n",
      "\u001b[K    100% |████████████████████████████████| 102kB 7.5MB/s ta 0:00:01\n",
      "\u001b[?25hRequirement already satisfied: PyYAML>=3.0 in /atlas/u/mhelabd/anaconda3/lib/python3.7/site-packages (from PyDrive) (3.13)\n",
      "Collecting httplib2<1dev,>=0.15.0 (from google-api-python-client>=1.2->PyDrive)\n",
      "\u001b[?25l  Downloading https://files.pythonhosted.org/packages/b3/ad/d9d9331850ea5bd4f5cb8c650c0bfa119a4abd6b0ad7c45b6506bc979fc0/httplib2-0.18.1-py3-none-any.whl (95kB)\n",
      "\u001b[K    100% |████████████████████████████████| 102kB 7.3MB/s ta 0:00:01\n",
      "\u001b[?25hCollecting google-auth>=1.16.0 (from google-api-python-client>=1.2->PyDrive)\n",
      "\u001b[?25l  Downloading https://files.pythonhosted.org/packages/7f/90/58d541b95c501063dc3cee96e2ae87660e264f97e8cbb0887cffb627211b/google_auth-1.25.0-py2.py3-none-any.whl (116kB)\n",
      "\u001b[K    100% |████████████████████████████████| 122kB 7.7MB/s eta 0:00:01\n",
      "\u001b[?25hCollecting six<2dev,>=1.13.0 (from google-api-python-client>=1.2->PyDrive)\n",
      "  Downloading https://files.pythonhosted.org/packages/ee/ff/48bde5c0f013094d729fe4b0316ba2a24774b3ff1c52d924a8a4cb04078a/six-1.15.0-py2.py3-none-any.whl\n",
      "Collecting google-auth-httplib2>=0.0.3 (from google-api-python-client>=1.2->PyDrive)\n",
      "  Downloading https://files.pythonhosted.org/packages/bd/4e/992849016f8b0c27fb604aafd0a7a724db16128906197bd1245c6f18e6a1/google_auth_httplib2-0.0.4-py2.py3-none-any.whl\n",
      "Collecting uritemplate<4dev,>=3.0.0 (from google-api-python-client>=1.2->PyDrive)\n",
      "  Downloading https://files.pythonhosted.org/packages/bf/0c/60d82c077998feb631608dca3cc1fe19ac074e772bf0c24cf409b977b815/uritemplate-3.0.1-py2.py3-none-any.whl\n",
      "Collecting google-api-core<2dev,>=1.21.0 (from google-api-python-client>=1.2->PyDrive)\n",
      "\u001b[?25l  Downloading https://files.pythonhosted.org/packages/2c/fb/2ec182926a23b2e13d07680ba667599939059abf62a16fa2689d22de47f8/google_api_core-1.25.1-py2.py3-none-any.whl (92kB)\n",
      "\u001b[K    100% |████████████████████████████████| 102kB 8.0MB/s ta 0:00:01\n",
      "\u001b[?25hCollecting pyasn1-modules>=0.0.5 (from oauth2client>=4.0.0->PyDrive)\n",
      "\u001b[?25l  Downloading https://files.pythonhosted.org/packages/95/de/214830a981892a3e286c3794f41ae67a4495df1108c3da8a9f62159b9a9d/pyasn1_modules-0.2.8-py2.py3-none-any.whl (155kB)\n",
      "\u001b[K    100% |████████████████████████████████| 163kB 5.0MB/s ta 0:00:01\n",
      "\u001b[?25hCollecting pyasn1>=0.1.7 (from oauth2client>=4.0.0->PyDrive)\n",
      "\u001b[?25l  Downloading https://files.pythonhosted.org/packages/62/1e/a94a8d635fa3ce4cfc7f506003548d0a2447ae76fd5ca53932970fe3053f/pyasn1-0.4.8-py2.py3-none-any.whl (77kB)\n",
      "\u001b[K    100% |████████████████████████████████| 81kB 6.2MB/s eta 0:00:01\n",
      "\u001b[?25hCollecting rsa>=3.1.4 (from oauth2client>=4.0.0->PyDrive)\n",
      "  Downloading https://files.pythonhosted.org/packages/bf/87/dc7a6ebf0afbc602548627fa48e9c1147fa187233bf71d4c51c76a2cfb27/rsa-4.7-py3-none-any.whl\n",
      "Collecting cachetools<5.0,>=2.0.0 (from google-auth>=1.16.0->google-api-python-client>=1.2->PyDrive)\n",
      "  Downloading https://files.pythonhosted.org/packages/bb/72/8df2e0dc991f1a1d2c6869404e7622e8ee50d80bff357dbb57c3df70305b/cachetools-4.2.1-py3-none-any.whl\n",
      "Requirement already satisfied: setuptools>=40.3.0 in /atlas/u/mhelabd/anaconda3/lib/python3.7/site-packages (from google-auth>=1.16.0->google-api-python-client>=1.2->PyDrive) (40.6.3)\n",
      "Requirement already satisfied: requests<3.0.0dev,>=2.18.0 in /atlas/u/mhelabd/anaconda3/lib/python3.7/site-packages (from google-api-core<2dev,>=1.21.0->google-api-python-client>=1.2->PyDrive) (2.21.0)\n",
      "Requirement already satisfied: pytz in /atlas/u/mhelabd/anaconda3/lib/python3.7/site-packages (from google-api-core<2dev,>=1.21.0->google-api-python-client>=1.2->PyDrive) (2018.7)\n",
      "Collecting googleapis-common-protos<2.0dev,>=1.6.0 (from google-api-core<2dev,>=1.21.0->google-api-python-client>=1.2->PyDrive)\n",
      "\u001b[?25l  Downloading https://files.pythonhosted.org/packages/03/74/3956721ea1eb4bcf7502a311fdaa60b85bd751de4e57d1943afe9b334141/googleapis_common_protos-1.52.0-py2.py3-none-any.whl (100kB)\n",
      "\u001b[K    100% |████████████████████████████████| 102kB 3.9MB/s a 0:00:011\n",
      "\u001b[?25hCollecting protobuf>=3.12.0 (from google-api-core<2dev,>=1.21.0->google-api-python-client>=1.2->PyDrive)\n",
      "\u001b[?25l  Downloading https://files.pythonhosted.org/packages/e0/dd/5c5d156ee1c4dba470d76dac5ae57084829b4e17547f28e9f636ce3fa54b/protobuf-3.14.0-cp37-cp37m-manylinux1_x86_64.whl (1.0MB)\n",
      "\u001b[K    100% |████████████████████████████████| 1.0MB 2.3MB/s ta 0:00:01\n",
      "\u001b[?25hRequirement already satisfied: urllib3<1.25,>=1.21.1 in /atlas/u/mhelabd/anaconda3/lib/python3.7/site-packages (from requests<3.0.0dev,>=2.18.0->google-api-core<2dev,>=1.21.0->google-api-python-client>=1.2->PyDrive) (1.24.1)\n",
      "Requirement already satisfied: chardet<3.1.0,>=3.0.2 in /atlas/u/mhelabd/anaconda3/lib/python3.7/site-packages (from requests<3.0.0dev,>=2.18.0->google-api-core<2dev,>=1.21.0->google-api-python-client>=1.2->PyDrive) (3.0.4)\n",
      "Requirement already satisfied: idna<2.9,>=2.5 in /atlas/u/mhelabd/anaconda3/lib/python3.7/site-packages (from requests<3.0.0dev,>=2.18.0->google-api-core<2dev,>=1.21.0->google-api-python-client>=1.2->PyDrive) (2.8)\n",
      "Requirement already satisfied: certifi>=2017.4.17 in /atlas/u/mhelabd/anaconda3/lib/python3.7/site-packages (from requests<3.0.0dev,>=2.18.0->google-api-core<2dev,>=1.21.0->google-api-python-client>=1.2->PyDrive) (2018.11.29)\n",
      "Building wheels for collected packages: PyDrive\n",
      "  Running setup.py bdist_wheel for PyDrive ... \u001b[?25ldone\n",
      "\u001b[?25h  Stored in directory: /sailhome/mhelabd/.cache/pip/wheels/fa/d2/9a/d3b6b506c2da98289e5d417215ce34b696db856643bad779f4\n",
      "Successfully built PyDrive\n",
      "Installing collected packages: httplib2, pyasn1, pyasn1-modules, cachetools, rsa, six, google-auth, google-auth-httplib2, uritemplate, protobuf, googleapis-common-protos, google-api-core, google-api-python-client, oauth2client, PyDrive\n",
      "  Found existing installation: six 1.12.0\n",
      "    Uninstalling six-1.12.0:\n",
      "      Successfully uninstalled six-1.12.0\n",
      "Successfully installed PyDrive-1.3.1 cachetools-4.2.1 google-api-core-1.25.1 google-api-python-client-1.12.8 google-auth-1.25.0 google-auth-httplib2-0.0.4 googleapis-common-protos-1.52.0 httplib2-0.18.1 oauth2client-4.1.3 protobuf-3.14.0 pyasn1-0.4.8 pyasn1-modules-0.2.8 rsa-4.7 six-1.15.0 uritemplate-3.0.1\n",
      "Requirement already satisfied: pandas in /atlas/u/mhelabd/anaconda3/lib/python3.7/site-packages (0.23.4)\n",
      "Requirement already satisfied: python-dateutil>=2.5.0 in /atlas/u/mhelabd/anaconda3/lib/python3.7/site-packages (from pandas) (2.7.5)\n",
      "Requirement already satisfied: pytz>=2011k in /atlas/u/mhelabd/anaconda3/lib/python3.7/site-packages (from pandas) (2018.7)\n",
      "Requirement already satisfied: numpy>=1.9.0 in /atlas/u/mhelabd/anaconda3/lib/python3.7/site-packages (from pandas) (1.15.4)\n",
      "Requirement already satisfied: six>=1.5 in /atlas/u/mhelabd/anaconda3/lib/python3.7/site-packages (from python-dateutil>=2.5.0->pandas) (1.15.0)\n",
      "Collecting rasterio\n",
      "\u001b[?25l  Downloading https://files.pythonhosted.org/packages/cb/ed/aa7cc593dbcb974f80ca0a15967d44abc820dbeb063e01478c95adcca156/rasterio-1.2.0-cp37-cp37m-manylinux1_x86_64.whl (19.1MB)\n",
      "\u001b[K    100% |████████████████████████████████| 19.1MB 453kB/s eta 0:00:01\n",
      "\u001b[?25hCollecting cligj>=0.5 (from rasterio)\n",
      "  Downloading https://files.pythonhosted.org/packages/42/1e/947eadf10d6804bf276eb8a038bd5307996dceaaa41cfd21b7a15ec62f5d/cligj-0.7.1-py3-none-any.whl\n",
      "Collecting click-plugins (from rasterio)\n",
      "  Downloading https://files.pythonhosted.org/packages/e9/da/824b92d9942f4e472702488857914bdd50f73021efea15b4cad9aca8ecef/click_plugins-1.1.1-py2.py3-none-any.whl\n"
     ]
    },
    {
     "name": "stdout",
     "output_type": "stream",
     "text": [
      "Collecting snuggs>=1.4.1 (from rasterio)\n",
      "  Downloading https://files.pythonhosted.org/packages/cc/0e/d27d6e806d6c0d1a2cfdc5d1f088e42339a0a54a09c3343f7f81ec8947ea/snuggs-1.4.7-py3-none-any.whl\n",
      "Collecting affine (from rasterio)\n",
      "  Downloading https://files.pythonhosted.org/packages/ac/a6/1a39a1ede71210e3ddaf623982b06ecfc5c5c03741ae659073159184cd3e/affine-2.3.0-py2.py3-none-any.whl\n",
      "Requirement already satisfied: certifi in /atlas/u/mhelabd/anaconda3/lib/python3.7/site-packages (from rasterio) (2018.11.29)\n",
      "Requirement already satisfied: numpy in /atlas/u/mhelabd/anaconda3/lib/python3.7/site-packages (from rasterio) (1.15.4)\n",
      "Requirement already satisfied: click<8,>=4.0 in /atlas/u/mhelabd/anaconda3/lib/python3.7/site-packages (from rasterio) (7.0)\n",
      "Requirement already satisfied: attrs in /atlas/u/mhelabd/anaconda3/lib/python3.7/site-packages (from rasterio) (18.2.0)\n",
      "Requirement already satisfied: pyparsing>=2.1.6 in /atlas/u/mhelabd/anaconda3/lib/python3.7/site-packages (from snuggs>=1.4.1->rasterio) (2.3.0)\n",
      "Installing collected packages: cligj, click-plugins, snuggs, affine, rasterio\n",
      "Successfully installed affine-2.3.0 click-plugins-1.1.1 cligj-0.7.1 rasterio-1.2.0 snuggs-1.4.7\n",
      "Requirement already satisfied: matplotlib in /atlas/u/mhelabd/anaconda3/lib/python3.7/site-packages (3.0.2)\n",
      "Requirement already satisfied: numpy>=1.10.0 in /atlas/u/mhelabd/anaconda3/lib/python3.7/site-packages (from matplotlib) (1.15.4)\n",
      "Requirement already satisfied: cycler>=0.10 in /atlas/u/mhelabd/anaconda3/lib/python3.7/site-packages (from matplotlib) (0.10.0)\n",
      "Requirement already satisfied: kiwisolver>=1.0.1 in /atlas/u/mhelabd/anaconda3/lib/python3.7/site-packages (from matplotlib) (1.0.1)\n",
      "Requirement already satisfied: pyparsing!=2.0.4,!=2.1.2,!=2.1.6,>=2.0.1 in /atlas/u/mhelabd/anaconda3/lib/python3.7/site-packages (from matplotlib) (2.3.0)\n",
      "Requirement already satisfied: python-dateutil>=2.1 in /atlas/u/mhelabd/anaconda3/lib/python3.7/site-packages (from matplotlib) (2.7.5)\n",
      "Requirement already satisfied: six in /atlas/u/mhelabd/anaconda3/lib/python3.7/site-packages (from cycler>=0.10->matplotlib) (1.15.0)\n",
      "Requirement already satisfied: setuptools in /atlas/u/mhelabd/anaconda3/lib/python3.7/site-packages (from kiwisolver>=1.0.1->matplotlib) (40.6.3)\n",
      "Collecting shapely\n",
      "\u001b[?25l  Downloading https://files.pythonhosted.org/packages/98/f8/db4d3426a1aba9d5dfcc83ed5a3e2935d2b1deb73d350642931791a61c37/Shapely-1.7.1-cp37-cp37m-manylinux1_x86_64.whl (1.0MB)\n",
      "\u001b[K    100% |████████████████████████████████| 1.0MB 4.3MB/s eta 0:00:01\n",
      "\u001b[?25hInstalling collected packages: shapely\n",
      "Successfully installed shapely-1.7.1\n"
     ]
    }
   ],
   "source": [
    "!pip install PyDrive\n",
    "!pip install pandas\n",
    "!pip install rasterio\n",
    "!pip install matplotlib\n",
    "!pip install shapely"
   ]
  },
  {
   "cell_type": "code",
   "execution_count": 2,
   "metadata": {},
   "outputs": [],
   "source": [
    "import os\n",
    "import json\n",
    "import requests\n",
    "import time\n",
    "from requests.auth import HTTPBasicAuth\n",
    "import pandas as pd\n",
    "import datetime\n",
    "import rasterio\n",
    "from matplotlib import pyplot as plt\n",
    "import numpy as np\n",
    "from shapely.geometry import Point\n",
    "from shapely.geometry.polygon import Polygon\n",
    "from os import listdir, path\n",
    "from os.path import isfile, join"
   ]
  },
  {
   "cell_type": "code",
   "execution_count": 5,
   "metadata": {},
   "outputs": [
    {
     "ename": "InvalidConfigError",
     "evalue": "Invalid client secrets file ('Error opening file', 'client_secrets.json', 'No such file or directory', 2)",
     "output_type": "error",
     "traceback": [
      "\u001b[0;31m---------------------------------------------------------------------------\u001b[0m",
      "\u001b[0;31mFileNotFoundError\u001b[0m                         Traceback (most recent call last)",
      "\u001b[0;32m/atlas/u/mhelabd/anaconda3/lib/python3.7/site-packages/oauth2client/clientsecrets.py\u001b[0m in \u001b[0;36m_loadfile\u001b[0;34m(filename)\u001b[0m\n\u001b[1;32m    120\u001b[0m     \u001b[0;32mtry\u001b[0m\u001b[0;34m:\u001b[0m\u001b[0;34m\u001b[0m\u001b[0;34m\u001b[0m\u001b[0m\n\u001b[0;32m--> 121\u001b[0;31m         \u001b[0;32mwith\u001b[0m \u001b[0mopen\u001b[0m\u001b[0;34m(\u001b[0m\u001b[0mfilename\u001b[0m\u001b[0;34m,\u001b[0m \u001b[0;34m'r'\u001b[0m\u001b[0;34m)\u001b[0m \u001b[0;32mas\u001b[0m \u001b[0mfp\u001b[0m\u001b[0;34m:\u001b[0m\u001b[0;34m\u001b[0m\u001b[0;34m\u001b[0m\u001b[0m\n\u001b[0m\u001b[1;32m    122\u001b[0m             \u001b[0mobj\u001b[0m \u001b[0;34m=\u001b[0m \u001b[0mjson\u001b[0m\u001b[0;34m.\u001b[0m\u001b[0mload\u001b[0m\u001b[0;34m(\u001b[0m\u001b[0mfp\u001b[0m\u001b[0;34m)\u001b[0m\u001b[0;34m\u001b[0m\u001b[0;34m\u001b[0m\u001b[0m\n",
      "\u001b[0;31mFileNotFoundError\u001b[0m: [Errno 2] No such file or directory: 'client_secrets.json'",
      "\nDuring handling of the above exception, another exception occurred:\n",
      "\u001b[0;31mInvalidClientSecretsError\u001b[0m                 Traceback (most recent call last)",
      "\u001b[0;32m/atlas/u/mhelabd/anaconda3/lib/python3.7/site-packages/pydrive/auth.py\u001b[0m in \u001b[0;36mLoadClientConfigFile\u001b[0;34m(self, client_config_file)\u001b[0m\n\u001b[1;32m    385\u001b[0m     \u001b[0;32mtry\u001b[0m\u001b[0;34m:\u001b[0m\u001b[0;34m\u001b[0m\u001b[0;34m\u001b[0m\u001b[0m\n\u001b[0;32m--> 386\u001b[0;31m       \u001b[0mclient_type\u001b[0m\u001b[0;34m,\u001b[0m \u001b[0mclient_info\u001b[0m \u001b[0;34m=\u001b[0m \u001b[0mclientsecrets\u001b[0m\u001b[0;34m.\u001b[0m\u001b[0mloadfile\u001b[0m\u001b[0;34m(\u001b[0m\u001b[0mclient_config_file\u001b[0m\u001b[0;34m)\u001b[0m\u001b[0;34m\u001b[0m\u001b[0;34m\u001b[0m\u001b[0m\n\u001b[0m\u001b[1;32m    387\u001b[0m     \u001b[0;32mexcept\u001b[0m \u001b[0mclientsecrets\u001b[0m\u001b[0;34m.\u001b[0m\u001b[0mInvalidClientSecretsError\u001b[0m \u001b[0;32mas\u001b[0m \u001b[0merror\u001b[0m\u001b[0;34m:\u001b[0m\u001b[0;34m\u001b[0m\u001b[0;34m\u001b[0m\u001b[0m\n",
      "\u001b[0;32m/atlas/u/mhelabd/anaconda3/lib/python3.7/site-packages/oauth2client/clientsecrets.py\u001b[0m in \u001b[0;36mloadfile\u001b[0;34m(filename, cache)\u001b[0m\n\u001b[1;32m    164\u001b[0m     \u001b[0;32mif\u001b[0m \u001b[0;32mnot\u001b[0m \u001b[0mcache\u001b[0m\u001b[0;34m:\u001b[0m\u001b[0;34m\u001b[0m\u001b[0;34m\u001b[0m\u001b[0m\n\u001b[0;32m--> 165\u001b[0;31m         \u001b[0;32mreturn\u001b[0m \u001b[0m_loadfile\u001b[0m\u001b[0;34m(\u001b[0m\u001b[0mfilename\u001b[0m\u001b[0;34m)\u001b[0m\u001b[0;34m\u001b[0m\u001b[0;34m\u001b[0m\u001b[0m\n\u001b[0m\u001b[1;32m    166\u001b[0m \u001b[0;34m\u001b[0m\u001b[0m\n",
      "\u001b[0;32m/atlas/u/mhelabd/anaconda3/lib/python3.7/site-packages/oauth2client/clientsecrets.py\u001b[0m in \u001b[0;36m_loadfile\u001b[0;34m(filename)\u001b[0m\n\u001b[1;32m    124\u001b[0m         raise InvalidClientSecretsError('Error opening file', exc.filename,\n\u001b[0;32m--> 125\u001b[0;31m                                         exc.strerror, exc.errno)\n\u001b[0m\u001b[1;32m    126\u001b[0m     \u001b[0;32mreturn\u001b[0m \u001b[0m_validate_clientsecrets\u001b[0m\u001b[0;34m(\u001b[0m\u001b[0mobj\u001b[0m\u001b[0;34m)\u001b[0m\u001b[0;34m\u001b[0m\u001b[0;34m\u001b[0m\u001b[0m\n",
      "\u001b[0;31mInvalidClientSecretsError\u001b[0m: ('Error opening file', 'client_secrets.json', 'No such file or directory', 2)",
      "\nDuring handling of the above exception, another exception occurred:\n",
      "\u001b[0;31mInvalidConfigError\u001b[0m                        Traceback (most recent call last)",
      "\u001b[0;32m<ipython-input-5-ba89e2735b7d>\u001b[0m in \u001b[0;36m<module>\u001b[0;34m\u001b[0m\n\u001b[1;32m      7\u001b[0m \u001b[0;34m\u001b[0m\u001b[0m\n\u001b[1;32m      8\u001b[0m \u001b[0;31m# option 2\u001b[0m\u001b[0;34m\u001b[0m\u001b[0;34m\u001b[0m\u001b[0;34m\u001b[0m\u001b[0m\n\u001b[0;32m----> 9\u001b[0;31m \u001b[0mgauth\u001b[0m\u001b[0;34m.\u001b[0m\u001b[0mCommandLineAuth\u001b[0m\u001b[0;34m(\u001b[0m\u001b[0;34m)\u001b[0m\u001b[0;34m\u001b[0m\u001b[0;34m\u001b[0m\u001b[0m\n\u001b[0m\u001b[1;32m     10\u001b[0m \u001b[0mdrive\u001b[0m \u001b[0;34m=\u001b[0m \u001b[0mGoogleDrive\u001b[0m\u001b[0;34m(\u001b[0m\u001b[0mgauth\u001b[0m\u001b[0;34m)\u001b[0m\u001b[0;34m\u001b[0m\u001b[0;34m\u001b[0m\u001b[0m\n\u001b[1;32m     11\u001b[0m \u001b[0;34m\u001b[0m\u001b[0m\n",
      "\u001b[0;32m/atlas/u/mhelabd/anaconda3/lib/python3.7/site-packages/pydrive/auth.py\u001b[0m in \u001b[0;36m_decorated\u001b[0;34m(self, *args, **kwargs)\u001b[0m\n\u001b[1;32m    111\u001b[0m       \u001b[0mself\u001b[0m\u001b[0;34m.\u001b[0m\u001b[0mLoadCredentials\u001b[0m\u001b[0;34m(\u001b[0m\u001b[0;34m)\u001b[0m\u001b[0;34m\u001b[0m\u001b[0;34m\u001b[0m\u001b[0m\n\u001b[1;32m    112\u001b[0m     \u001b[0;32mif\u001b[0m \u001b[0mself\u001b[0m\u001b[0;34m.\u001b[0m\u001b[0mflow\u001b[0m \u001b[0;32mis\u001b[0m \u001b[0;32mNone\u001b[0m\u001b[0;34m:\u001b[0m\u001b[0;34m\u001b[0m\u001b[0;34m\u001b[0m\u001b[0m\n\u001b[0;32m--> 113\u001b[0;31m       \u001b[0mself\u001b[0m\u001b[0;34m.\u001b[0m\u001b[0mGetFlow\u001b[0m\u001b[0;34m(\u001b[0m\u001b[0;34m)\u001b[0m\u001b[0;34m\u001b[0m\u001b[0;34m\u001b[0m\u001b[0m\n\u001b[0m\u001b[1;32m    114\u001b[0m     \u001b[0;32mif\u001b[0m \u001b[0mself\u001b[0m\u001b[0;34m.\u001b[0m\u001b[0mcredentials\u001b[0m \u001b[0;32mis\u001b[0m \u001b[0;32mNone\u001b[0m\u001b[0;34m:\u001b[0m\u001b[0;34m\u001b[0m\u001b[0;34m\u001b[0m\u001b[0m\n\u001b[1;32m    115\u001b[0m       \u001b[0mcode\u001b[0m \u001b[0;34m=\u001b[0m \u001b[0mdecoratee\u001b[0m\u001b[0;34m(\u001b[0m\u001b[0mself\u001b[0m\u001b[0;34m,\u001b[0m \u001b[0;34m*\u001b[0m\u001b[0margs\u001b[0m\u001b[0;34m,\u001b[0m \u001b[0;34m**\u001b[0m\u001b[0mkwargs\u001b[0m\u001b[0;34m)\u001b[0m\u001b[0;34m\u001b[0m\u001b[0;34m\u001b[0m\u001b[0m\n",
      "\u001b[0;32m/atlas/u/mhelabd/anaconda3/lib/python3.7/site-packages/pydrive/auth.py\u001b[0m in \u001b[0;36mGetFlow\u001b[0;34m(self)\u001b[0m\n\u001b[1;32m    441\u001b[0m     if not all(config in self.client_config \\\n\u001b[1;32m    442\u001b[0m                for config in self.CLIENT_CONFIGS_LIST):\n\u001b[0;32m--> 443\u001b[0;31m       \u001b[0mself\u001b[0m\u001b[0;34m.\u001b[0m\u001b[0mLoadClientConfig\u001b[0m\u001b[0;34m(\u001b[0m\u001b[0;34m)\u001b[0m\u001b[0;34m\u001b[0m\u001b[0;34m\u001b[0m\u001b[0m\n\u001b[0m\u001b[1;32m    444\u001b[0m     constructor_kwargs = {\n\u001b[1;32m    445\u001b[0m         \u001b[0;34m'redirect_uri'\u001b[0m\u001b[0;34m:\u001b[0m \u001b[0mself\u001b[0m\u001b[0;34m.\u001b[0m\u001b[0mclient_config\u001b[0m\u001b[0;34m[\u001b[0m\u001b[0;34m'redirect_uri'\u001b[0m\u001b[0;34m]\u001b[0m\u001b[0;34m,\u001b[0m\u001b[0;34m\u001b[0m\u001b[0;34m\u001b[0m\u001b[0m\n",
      "\u001b[0;32m/atlas/u/mhelabd/anaconda3/lib/python3.7/site-packages/pydrive/auth.py\u001b[0m in \u001b[0;36mLoadClientConfig\u001b[0;34m(self, backend)\u001b[0m\n\u001b[1;32m    364\u001b[0m         \u001b[0;32mraise\u001b[0m \u001b[0mInvalidConfigError\u001b[0m\u001b[0;34m(\u001b[0m\u001b[0;34m'Please specify client config backend'\u001b[0m\u001b[0;34m)\u001b[0m\u001b[0;34m\u001b[0m\u001b[0;34m\u001b[0m\u001b[0m\n\u001b[1;32m    365\u001b[0m     \u001b[0;32mif\u001b[0m \u001b[0mbackend\u001b[0m \u001b[0;34m==\u001b[0m \u001b[0;34m'file'\u001b[0m\u001b[0;34m:\u001b[0m\u001b[0;34m\u001b[0m\u001b[0;34m\u001b[0m\u001b[0m\n\u001b[0;32m--> 366\u001b[0;31m       \u001b[0mself\u001b[0m\u001b[0;34m.\u001b[0m\u001b[0mLoadClientConfigFile\u001b[0m\u001b[0;34m(\u001b[0m\u001b[0;34m)\u001b[0m\u001b[0;34m\u001b[0m\u001b[0;34m\u001b[0m\u001b[0m\n\u001b[0m\u001b[1;32m    367\u001b[0m     \u001b[0;32melif\u001b[0m \u001b[0mbackend\u001b[0m \u001b[0;34m==\u001b[0m \u001b[0;34m'settings'\u001b[0m\u001b[0;34m:\u001b[0m\u001b[0;34m\u001b[0m\u001b[0;34m\u001b[0m\u001b[0m\n\u001b[1;32m    368\u001b[0m       \u001b[0mself\u001b[0m\u001b[0;34m.\u001b[0m\u001b[0mLoadClientConfigSettings\u001b[0m\u001b[0;34m(\u001b[0m\u001b[0;34m)\u001b[0m\u001b[0;34m\u001b[0m\u001b[0;34m\u001b[0m\u001b[0m\n",
      "\u001b[0;32m/atlas/u/mhelabd/anaconda3/lib/python3.7/site-packages/pydrive/auth.py\u001b[0m in \u001b[0;36mLoadClientConfigFile\u001b[0;34m(self, client_config_file)\u001b[0m\n\u001b[1;32m    386\u001b[0m       \u001b[0mclient_type\u001b[0m\u001b[0;34m,\u001b[0m \u001b[0mclient_info\u001b[0m \u001b[0;34m=\u001b[0m \u001b[0mclientsecrets\u001b[0m\u001b[0;34m.\u001b[0m\u001b[0mloadfile\u001b[0m\u001b[0;34m(\u001b[0m\u001b[0mclient_config_file\u001b[0m\u001b[0;34m)\u001b[0m\u001b[0;34m\u001b[0m\u001b[0;34m\u001b[0m\u001b[0m\n\u001b[1;32m    387\u001b[0m     \u001b[0;32mexcept\u001b[0m \u001b[0mclientsecrets\u001b[0m\u001b[0;34m.\u001b[0m\u001b[0mInvalidClientSecretsError\u001b[0m \u001b[0;32mas\u001b[0m \u001b[0merror\u001b[0m\u001b[0;34m:\u001b[0m\u001b[0;34m\u001b[0m\u001b[0;34m\u001b[0m\u001b[0m\n\u001b[0;32m--> 388\u001b[0;31m       \u001b[0;32mraise\u001b[0m \u001b[0mInvalidConfigError\u001b[0m\u001b[0;34m(\u001b[0m\u001b[0;34m'Invalid client secrets file %s'\u001b[0m \u001b[0;34m%\u001b[0m \u001b[0merror\u001b[0m\u001b[0;34m)\u001b[0m\u001b[0;34m\u001b[0m\u001b[0;34m\u001b[0m\u001b[0m\n\u001b[0m\u001b[1;32m    389\u001b[0m     if not client_type in (clientsecrets.TYPE_WEB,\n\u001b[1;32m    390\u001b[0m                            clientsecrets.TYPE_INSTALLED):\n",
      "\u001b[0;31mInvalidConfigError\u001b[0m: Invalid client secrets file ('Error opening file', 'client_secrets.json', 'No such file or directory', 2)"
     ]
    }
   ],
   "source": [
    "from pydrive.auth import GoogleAuth\n",
    "from pydrive.drive import GoogleDrive\n",
    "\n",
    "# gauth = GoogleAuth()\n",
    "# option 1\n",
    "# gauth.LocalWebserverAuth()\n",
    "\n",
    "# option 2\n",
    "# gauth.CommandLineAuth()\n",
    "# drive = GoogleDrive(gauth)\n",
    "\n",
    "# option 3\n",
    "gauth = GoogleAuth()\n",
    "auth_url = gauth.GetAuthUrl() # Create authentication url user needs to visit\n",
    "print(auth_url)"
   ]
  },
  {
   "cell_type": "code",
   "execution_count": 7,
   "metadata": {},
   "outputs": [
    {
     "name": "stdout",
     "output_type": "stream",
     "text": [
      "Type something to test this out: AS\n"
     ]
    },
    {
     "data": {
      "text/plain": [
       "'AS'"
      ]
     },
     "execution_count": 7,
     "metadata": {},
     "output_type": "execute_result"
    }
   ],
   "source": []
  },
  {
   "cell_type": "code",
   "execution_count": 22,
   "metadata": {},
   "outputs": [
    {
     "name": "stdout",
     "output_type": "stream",
     "text": [
      "Authentication successful.\n"
     ]
    }
   ],
   "source": [
    "code = input(\"Type google drive code: \")\n",
    "# code = \"4/1AY0e-g4WrCj-ofnl0l2LdbZbIZBL1H_Bw47ueqMkLHIIRJ-HYlChJs35avs\" \n",
    "gauth.Auth(code) # Authorize and build service from the code\n",
    "drive = GoogleDrive(gauth)"
   ]
  },
  {
   "cell_type": "code",
   "execution_count": 6,
   "metadata": {},
   "outputs": [
    {
     "ename": "FileNotFoundError",
     "evalue": "File b'../data/bangladesh_kilns.csv' does not exist",
     "output_type": "error",
     "traceback": [
      "\u001b[0;31m---------------------------------------------------------------------------\u001b[0m",
      "\u001b[0;31mFileNotFoundError\u001b[0m                         Traceback (most recent call last)",
      "\u001b[0;32m<ipython-input-6-38131f3b7a99>\u001b[0m in \u001b[0;36m<module>\u001b[0;34m\u001b[0m\n\u001b[1;32m      8\u001b[0m \u001b[0;34m\u001b[0m\u001b[0m\n\u001b[1;32m      9\u001b[0m \u001b[0;31m# resources\u001b[0m\u001b[0;34m\u001b[0m\u001b[0;34m\u001b[0m\u001b[0;34m\u001b[0m\u001b[0m\n\u001b[0;32m---> 10\u001b[0;31m \u001b[0mkilns\u001b[0m \u001b[0;34m=\u001b[0m \u001b[0mpd\u001b[0m\u001b[0;34m.\u001b[0m\u001b[0mread_csv\u001b[0m\u001b[0;34m(\u001b[0m\u001b[0;34m\"../data/bangladesh_kilns.csv\"\u001b[0m\u001b[0;34m)\u001b[0m\u001b[0;34m\u001b[0m\u001b[0;34m\u001b[0m\u001b[0m\n\u001b[0m\u001b[1;32m     11\u001b[0m \u001b[0mall_bands\u001b[0m \u001b[0;34m=\u001b[0m \u001b[0;34m[\u001b[0m\u001b[0;34m'B1'\u001b[0m\u001b[0;34m,\u001b[0m \u001b[0;34m'B2'\u001b[0m\u001b[0;34m,\u001b[0m \u001b[0;34m'B3'\u001b[0m\u001b[0;34m,\u001b[0m \u001b[0;34m'B4'\u001b[0m\u001b[0;34m,\u001b[0m \u001b[0;34m'B5'\u001b[0m\u001b[0;34m,\u001b[0m \u001b[0;34m'B6'\u001b[0m\u001b[0;34m,\u001b[0m \u001b[0;34m'B7'\u001b[0m\u001b[0;34m,\u001b[0m \u001b[0;34m'B8A'\u001b[0m\u001b[0;34m,\u001b[0m \u001b[0;34m'B8'\u001b[0m\u001b[0;34m,\u001b[0m \u001b[0;34m'B9'\u001b[0m\u001b[0;34m,\u001b[0m \u001b[0;34m'B10'\u001b[0m\u001b[0;34m,\u001b[0m \u001b[0;34m'B11'\u001b[0m\u001b[0;34m,\u001b[0m \u001b[0;34m'B12'\u001b[0m\u001b[0;34m]\u001b[0m\u001b[0;34m\u001b[0m\u001b[0;34m\u001b[0m\u001b[0m\n\u001b[1;32m     12\u001b[0m \u001b[0mband_dict\u001b[0m \u001b[0;34m=\u001b[0m \u001b[0mdict\u001b[0m\u001b[0;34m(\u001b[0m\u001b[0mzip\u001b[0m\u001b[0;34m(\u001b[0m\u001b[0mall_bands\u001b[0m\u001b[0;34m,\u001b[0m \u001b[0mrange\u001b[0m\u001b[0;34m(\u001b[0m\u001b[0;36m1\u001b[0m\u001b[0;34m,\u001b[0m \u001b[0mlen\u001b[0m\u001b[0;34m(\u001b[0m\u001b[0mall_bands\u001b[0m\u001b[0;34m)\u001b[0m \u001b[0;34m+\u001b[0m \u001b[0;36m1\u001b[0m\u001b[0;34m)\u001b[0m\u001b[0;34m)\u001b[0m\u001b[0;34m)\u001b[0m\u001b[0;34m\u001b[0m\u001b[0;34m\u001b[0m\u001b[0m\n",
      "\u001b[0;32m/atlas/u/mhelabd/anaconda3/lib/python3.7/site-packages/pandas/io/parsers.py\u001b[0m in \u001b[0;36mparser_f\u001b[0;34m(filepath_or_buffer, sep, delimiter, header, names, index_col, usecols, squeeze, prefix, mangle_dupe_cols, dtype, engine, converters, true_values, false_values, skipinitialspace, skiprows, nrows, na_values, keep_default_na, na_filter, verbose, skip_blank_lines, parse_dates, infer_datetime_format, keep_date_col, date_parser, dayfirst, iterator, chunksize, compression, thousands, decimal, lineterminator, quotechar, quoting, escapechar, comment, encoding, dialect, tupleize_cols, error_bad_lines, warn_bad_lines, skipfooter, doublequote, delim_whitespace, low_memory, memory_map, float_precision)\u001b[0m\n\u001b[1;32m    676\u001b[0m                     skip_blank_lines=skip_blank_lines)\n\u001b[1;32m    677\u001b[0m \u001b[0;34m\u001b[0m\u001b[0m\n\u001b[0;32m--> 678\u001b[0;31m         \u001b[0;32mreturn\u001b[0m \u001b[0m_read\u001b[0m\u001b[0;34m(\u001b[0m\u001b[0mfilepath_or_buffer\u001b[0m\u001b[0;34m,\u001b[0m \u001b[0mkwds\u001b[0m\u001b[0;34m)\u001b[0m\u001b[0;34m\u001b[0m\u001b[0;34m\u001b[0m\u001b[0m\n\u001b[0m\u001b[1;32m    679\u001b[0m \u001b[0;34m\u001b[0m\u001b[0m\n\u001b[1;32m    680\u001b[0m     \u001b[0mparser_f\u001b[0m\u001b[0;34m.\u001b[0m\u001b[0m__name__\u001b[0m \u001b[0;34m=\u001b[0m \u001b[0mname\u001b[0m\u001b[0;34m\u001b[0m\u001b[0;34m\u001b[0m\u001b[0m\n",
      "\u001b[0;32m/atlas/u/mhelabd/anaconda3/lib/python3.7/site-packages/pandas/io/parsers.py\u001b[0m in \u001b[0;36m_read\u001b[0;34m(filepath_or_buffer, kwds)\u001b[0m\n\u001b[1;32m    438\u001b[0m \u001b[0;34m\u001b[0m\u001b[0m\n\u001b[1;32m    439\u001b[0m     \u001b[0;31m# Create the parser.\u001b[0m\u001b[0;34m\u001b[0m\u001b[0;34m\u001b[0m\u001b[0;34m\u001b[0m\u001b[0m\n\u001b[0;32m--> 440\u001b[0;31m     \u001b[0mparser\u001b[0m \u001b[0;34m=\u001b[0m \u001b[0mTextFileReader\u001b[0m\u001b[0;34m(\u001b[0m\u001b[0mfilepath_or_buffer\u001b[0m\u001b[0;34m,\u001b[0m \u001b[0;34m**\u001b[0m\u001b[0mkwds\u001b[0m\u001b[0;34m)\u001b[0m\u001b[0;34m\u001b[0m\u001b[0;34m\u001b[0m\u001b[0m\n\u001b[0m\u001b[1;32m    441\u001b[0m \u001b[0;34m\u001b[0m\u001b[0m\n\u001b[1;32m    442\u001b[0m     \u001b[0;32mif\u001b[0m \u001b[0mchunksize\u001b[0m \u001b[0;32mor\u001b[0m \u001b[0miterator\u001b[0m\u001b[0;34m:\u001b[0m\u001b[0;34m\u001b[0m\u001b[0;34m\u001b[0m\u001b[0m\n",
      "\u001b[0;32m/atlas/u/mhelabd/anaconda3/lib/python3.7/site-packages/pandas/io/parsers.py\u001b[0m in \u001b[0;36m__init__\u001b[0;34m(self, f, engine, **kwds)\u001b[0m\n\u001b[1;32m    785\u001b[0m             \u001b[0mself\u001b[0m\u001b[0;34m.\u001b[0m\u001b[0moptions\u001b[0m\u001b[0;34m[\u001b[0m\u001b[0;34m'has_index_names'\u001b[0m\u001b[0;34m]\u001b[0m \u001b[0;34m=\u001b[0m \u001b[0mkwds\u001b[0m\u001b[0;34m[\u001b[0m\u001b[0;34m'has_index_names'\u001b[0m\u001b[0;34m]\u001b[0m\u001b[0;34m\u001b[0m\u001b[0;34m\u001b[0m\u001b[0m\n\u001b[1;32m    786\u001b[0m \u001b[0;34m\u001b[0m\u001b[0m\n\u001b[0;32m--> 787\u001b[0;31m         \u001b[0mself\u001b[0m\u001b[0;34m.\u001b[0m\u001b[0m_make_engine\u001b[0m\u001b[0;34m(\u001b[0m\u001b[0mself\u001b[0m\u001b[0;34m.\u001b[0m\u001b[0mengine\u001b[0m\u001b[0;34m)\u001b[0m\u001b[0;34m\u001b[0m\u001b[0;34m\u001b[0m\u001b[0m\n\u001b[0m\u001b[1;32m    788\u001b[0m \u001b[0;34m\u001b[0m\u001b[0m\n\u001b[1;32m    789\u001b[0m     \u001b[0;32mdef\u001b[0m \u001b[0mclose\u001b[0m\u001b[0;34m(\u001b[0m\u001b[0mself\u001b[0m\u001b[0;34m)\u001b[0m\u001b[0;34m:\u001b[0m\u001b[0;34m\u001b[0m\u001b[0;34m\u001b[0m\u001b[0m\n",
      "\u001b[0;32m/atlas/u/mhelabd/anaconda3/lib/python3.7/site-packages/pandas/io/parsers.py\u001b[0m in \u001b[0;36m_make_engine\u001b[0;34m(self, engine)\u001b[0m\n\u001b[1;32m   1012\u001b[0m     \u001b[0;32mdef\u001b[0m \u001b[0m_make_engine\u001b[0m\u001b[0;34m(\u001b[0m\u001b[0mself\u001b[0m\u001b[0;34m,\u001b[0m \u001b[0mengine\u001b[0m\u001b[0;34m=\u001b[0m\u001b[0;34m'c'\u001b[0m\u001b[0;34m)\u001b[0m\u001b[0;34m:\u001b[0m\u001b[0;34m\u001b[0m\u001b[0;34m\u001b[0m\u001b[0m\n\u001b[1;32m   1013\u001b[0m         \u001b[0;32mif\u001b[0m \u001b[0mengine\u001b[0m \u001b[0;34m==\u001b[0m \u001b[0;34m'c'\u001b[0m\u001b[0;34m:\u001b[0m\u001b[0;34m\u001b[0m\u001b[0;34m\u001b[0m\u001b[0m\n\u001b[0;32m-> 1014\u001b[0;31m             \u001b[0mself\u001b[0m\u001b[0;34m.\u001b[0m\u001b[0m_engine\u001b[0m \u001b[0;34m=\u001b[0m \u001b[0mCParserWrapper\u001b[0m\u001b[0;34m(\u001b[0m\u001b[0mself\u001b[0m\u001b[0;34m.\u001b[0m\u001b[0mf\u001b[0m\u001b[0;34m,\u001b[0m \u001b[0;34m**\u001b[0m\u001b[0mself\u001b[0m\u001b[0;34m.\u001b[0m\u001b[0moptions\u001b[0m\u001b[0;34m)\u001b[0m\u001b[0;34m\u001b[0m\u001b[0;34m\u001b[0m\u001b[0m\n\u001b[0m\u001b[1;32m   1015\u001b[0m         \u001b[0;32melse\u001b[0m\u001b[0;34m:\u001b[0m\u001b[0;34m\u001b[0m\u001b[0;34m\u001b[0m\u001b[0m\n\u001b[1;32m   1016\u001b[0m             \u001b[0;32mif\u001b[0m \u001b[0mengine\u001b[0m \u001b[0;34m==\u001b[0m \u001b[0;34m'python'\u001b[0m\u001b[0;34m:\u001b[0m\u001b[0;34m\u001b[0m\u001b[0;34m\u001b[0m\u001b[0m\n",
      "\u001b[0;32m/atlas/u/mhelabd/anaconda3/lib/python3.7/site-packages/pandas/io/parsers.py\u001b[0m in \u001b[0;36m__init__\u001b[0;34m(self, src, **kwds)\u001b[0m\n\u001b[1;32m   1706\u001b[0m         \u001b[0mkwds\u001b[0m\u001b[0;34m[\u001b[0m\u001b[0;34m'usecols'\u001b[0m\u001b[0;34m]\u001b[0m \u001b[0;34m=\u001b[0m \u001b[0mself\u001b[0m\u001b[0;34m.\u001b[0m\u001b[0musecols\u001b[0m\u001b[0;34m\u001b[0m\u001b[0;34m\u001b[0m\u001b[0m\n\u001b[1;32m   1707\u001b[0m \u001b[0;34m\u001b[0m\u001b[0m\n\u001b[0;32m-> 1708\u001b[0;31m         \u001b[0mself\u001b[0m\u001b[0;34m.\u001b[0m\u001b[0m_reader\u001b[0m \u001b[0;34m=\u001b[0m \u001b[0mparsers\u001b[0m\u001b[0;34m.\u001b[0m\u001b[0mTextReader\u001b[0m\u001b[0;34m(\u001b[0m\u001b[0msrc\u001b[0m\u001b[0;34m,\u001b[0m \u001b[0;34m**\u001b[0m\u001b[0mkwds\u001b[0m\u001b[0;34m)\u001b[0m\u001b[0;34m\u001b[0m\u001b[0;34m\u001b[0m\u001b[0m\n\u001b[0m\u001b[1;32m   1709\u001b[0m \u001b[0;34m\u001b[0m\u001b[0m\n\u001b[1;32m   1710\u001b[0m         \u001b[0mpassed_names\u001b[0m \u001b[0;34m=\u001b[0m \u001b[0mself\u001b[0m\u001b[0;34m.\u001b[0m\u001b[0mnames\u001b[0m \u001b[0;32mis\u001b[0m \u001b[0;32mNone\u001b[0m\u001b[0;34m\u001b[0m\u001b[0;34m\u001b[0m\u001b[0m\n",
      "\u001b[0;32mpandas/_libs/parsers.pyx\u001b[0m in \u001b[0;36mpandas._libs.parsers.TextReader.__cinit__\u001b[0;34m()\u001b[0m\n",
      "\u001b[0;32mpandas/_libs/parsers.pyx\u001b[0m in \u001b[0;36mpandas._libs.parsers.TextReader._setup_parser_source\u001b[0;34m()\u001b[0m\n",
      "\u001b[0;31mFileNotFoundError\u001b[0m: File b'../data/bangladesh_kilns.csv' does not exist"
     ]
    }
   ],
   "source": [
    "# set params\n",
    "tile_height, tile_length = (64, 64)\n",
    "bands_to_read = None # ['B4', 'B3', 'B2'] # set to None to read all bands\n",
    "examples_per_save_file = 1000\n",
    "save_path = '/atlas/u/mhelabd/data/kiln-scaling/tiles/'\n",
    "composite_file_name = 'bangladesh_all_bands_final'\n",
    "composite_save_path = '/atlas/u/mhelabd/data/kiln-scaling/composites/'\n",
    "\n",
    "# resources\n",
    "kilns = pd.read_csv(\"../data/bangladesh_kilns.csv\")\n",
    "all_bands = ['B1', 'B2', 'B3', 'B4', 'B5', 'B6', 'B7', 'B8A', 'B8', 'B9', 'B10', 'B11', 'B12']\n",
    "band_dict = dict(zip(all_bands, range(1, len(all_bands) + 1)))\n",
    "\n",
    "print(kilns.head())"
   ]
  },
  {
   "cell_type": "code",
   "execution_count": 23,
   "metadata": {},
   "outputs": [
    {
     "name": "stdout",
     "output_type": "stream",
     "text": [
      "Found 80 files\n",
      "title: bangladesh_all_bands_final-0000000000-0000000000.tif, id: 1ZHtyKejLTVvFo5s1Ui--sA_RqKBtfZlZ\n",
      "title: bangladesh_all_bands_final-0000000000-0000006656.tif, id: 1GlKU0_kZEaisJ8sBWGsl7VNg9pwsPD8Z\n",
      "title: bangladesh_all_bands_final-0000000000-0000013312.tif, id: 1Wm1kJeH2zQ42bNEuqDbSLcR_vP-KEu6_\n",
      "title: bangladesh_all_bands_final-0000000000-0000019968.tif, id: 1RkLg2pzmr9QkVg8NmfPhKVbPGAtxkfKH\n",
      "title: bangladesh_all_bands_final-0000000000-0000026624.tif, id: 1YCQxQ6WzZQTwpEKY7IeW1lWbCBYcUN2l\n"
     ]
    }
   ],
   "source": [
    "file_list = drive.ListFile({'q': \"title contains '\" + composite_file_name + \"'\"}).GetList()\n",
    "print(\"Found \" + str(len(file_list)) + \" files\")\n",
    "file_list = sorted(file_list, key=lambda file: file['title'])\n",
    "for file in file_list[:5]:\n",
    "  print('title: %s, id: %s' % (file['title'], file['id']))"
   ]
  },
  {
   "cell_type": "code",
   "execution_count": 24,
   "metadata": {},
   "outputs": [
    {
     "name": "stdout",
     "output_type": "stream",
     "text": [
      "Number of image grid columns: 8\n",
      "Number of image grid rows: 10\n"
     ]
    }
   ],
   "source": [
    "# calculate image grid\n",
    "first_x_coord = file_list[0]['title'].split(\".\")[0].split(\"-\")[1]\n",
    "first_y_coord = file_list[0]['title'].split(\".\")[0].split(\"-\")[2]\n",
    "num_image_cols = len([x for x in file_list if x['title'].split(\".\")[0].split(\"-\")[1] == first_x_coord])\n",
    "num_image_rows = len([x for x in file_list if x['title'].split(\".\")[0].split(\"-\")[2] == first_y_coord])\n",
    "print(\"Number of image grid columns:\", num_image_cols)\n",
    "print(\"Number of image grid rows:\", num_image_rows)"
   ]
  },
  {
   "cell_type": "code",
   "execution_count": 25,
   "metadata": {},
   "outputs": [],
   "source": [
    "coords = []\n",
    "with open(\"../data/countries.geojson\", \"r\") as countries_geojson:\n",
    "    country_dict = json.load(countries_geojson)[\"features\"]\n",
    "for obj in country_dict:\n",
    "    name = obj['properties']['ADMIN']\n",
    "    if name == \"Bangladesh\":\n",
    "        coords = obj['geometry'][\"coordinates\"]\n",
    "flat_coords = []\n",
    "for sublist in coords:\n",
    "    for coord in sublist:\n",
    "        for c in coord:\n",
    "            flat_coords.append(c)\n",
    "\n",
    "bangladesh_geo = Polygon(flat_coords)"
   ]
  },
  {
   "cell_type": "code",
   "execution_count": 43,
   "metadata": {},
   "outputs": [
    {
     "name": "stdout",
     "output_type": "stream",
     "text": [
      "<open DatasetReader name='data/b_composites/bangladesh_all_bands_final-0000000000-0000000000.tif' mode='r'>\n",
      "BoundingBox(left=88.02178244056496, bottom=26.02563108539713, right=88.61970109367492, top=26.623549738507084)\n"
     ]
    }
   ],
   "source": [
    "# print(datasets[0])\n",
    "# print(datasets[0].bounds)"
   ]
  },
  {
   "cell_type": "code",
   "execution_count": 26,
   "metadata": {},
   "outputs": [],
   "source": [
    "# testing variables\n",
    "num_tiles_dropped = 0"
   ]
  },
  {
   "cell_type": "code",
   "execution_count": 30,
   "metadata": {},
   "outputs": [],
   "source": [
    "def get_bands_and_bounds_from_file(file, band_names=None):\n",
    "    print(\"Starting file \" + file['title'])\n",
    "    composite_file_path = composite_save_path + file['title']\n",
    "    if path.exists(composite_file_path):\n",
    "        print(\"File already downloaded.\")\n",
    "    else:\n",
    "        print(\"Downloading file...\")\n",
    "        # download the file\n",
    "        download_file = drive.CreateFile({'id': file['id']})\n",
    "        file.GetContentFile(composite_file_path)\n",
    "    \n",
    "    # open file with rasterio\n",
    "    print(\"Reading file...\")\n",
    "    dataset = rasterio.open(composite_file_path)\n",
    "    if band_names is None: # get all bands\n",
    "        bands = dataset.read()\n",
    "    else:\n",
    "        # TODO refactor using np.index_select\n",
    "        bands = []\n",
    "        for idx, band_name in enumerate(band_names):\n",
    "            band_index = band_dict[band_name]\n",
    "            bands += [dataset.read(band_index)]\n",
    "        bands = np.array(bands)\n",
    "    print(\"Done processing file\")\n",
    "    return bands, dataset.bounds\n",
    "\n",
    "def get_data_given_pixels(ds_bounds, bands, start_row, start_col, contains_kiln):\n",
    "    global num_tiles_dropped\n",
    "    \n",
    "    num_bands, ds_height, ds_length = bands.shape\n",
    "    tile_top = ds_bounds.top - (start_row / ds_height) * (ds_bounds.top - ds_bounds.bottom)\n",
    "    tile_bottom = ds_bounds.top - ((start_row + tile_height) / ds_height) * (ds_bounds.top - ds_bounds.bottom)\n",
    "    tile_left = ds_bounds.left + (start_col / ds_length) * (ds_bounds.right - ds_bounds.left)\n",
    "    tile_right = ds_bounds.left + ((start_col + tile_length) / ds_length) * (ds_bounds.right - ds_bounds.left)\n",
    "    tile_coordinates = [[tile_left, tile_top], [tile_right, tile_top], [tile_right, tile_bottom], [tile_left, tile_bottom]]\n",
    "#     print(\"top\", tile_top, \"bottom\", tile_bottom, \"left\", tile_left, \"right\", tile_right)\n",
    "    if not contains_kiln:\n",
    "        for point in [Point([c[0], c[1]]) for c in tile_coordinates]:\n",
    "            if not bangladesh_geo.contains(point):\n",
    "                num_tiles_dropped += 1\n",
    "                return None\n",
    "    return bands[:, start_row : start_row + tile_height, start_col : start_col + tile_length]\n",
    "\n",
    "# def add_example(ex_data, save_index, list_to_add, is_positive):\n",
    "def add_example(ex_data, save_index, counter, examples, is_positive):\n",
    "    examples[counter] = ex_data\n",
    "    new_counter = counter + 1\n",
    "    # save files if needed\n",
    "    if new_counter == examples_per_save_file:\n",
    "        filename = save_path + (\"pos\" if is_positive else \"neg\") + \"_examples_\" + str(save_index) + \".csv\"\n",
    "        print(\"Saving file\", filename)\n",
    "        np.savetxt(filename, examples.flatten(), delimiter=\",\")\n",
    "        print(\"Finished saving file\")\n",
    "        save_index += 1\n",
    "        new_counter = 0\n",
    "    return new_counter, save_index\n",
    "\n",
    "def get_kiln_tiles(bounds, num_rows, num_cols):\n",
    "    kilns_in_image = kilns.loc[(kilns['lat'] >= bounds['bottom']) & (kilns['lat'] <= bounds['top']) \n",
    "        & (kilns['lon'] >= bounds['left']) & (kilns['lon'] <= bounds['right'])]\n",
    "    \n",
    "    tiles = set() # set of tuples of (tile_row, tile_col)\n",
    "    for index, kiln in kilns_in_image.iterrows():\n",
    "        lon_percent = 1 - (kiln['lon'] - bounds['left']) / (bounds['right'] - bounds['left'])\n",
    "        row_index = int(num_rows * lon_percent)\n",
    "        \n",
    "        lat_percent = 1 - (kiln['lat'] - bounds['bottom']) / (bounds['top'] - bounds['bottom'])\n",
    "        col_index = int(num_cols * lat_percent)\n",
    "        tiles.add((row_index, col_index))\n",
    "    return tiles\n",
    "        "
   ]
  },
  {
   "cell_type": "code",
   "execution_count": 13,
   "metadata": {},
   "outputs": [
    {
     "name": "stdout",
     "output_type": "stream",
     "text": [
      "Reading all bands from dataset data/b_composites/bangladesh_all_bands_final-0000000000-0000000000.tif\n",
      "time to read bands: 22.185380935668945\n",
      "Reading all bands from dataset data/b_composites/bangladesh_all_bands_final-0000000000-0000006656.tif\n",
      "time to read bands: 22.828599214553833\n",
      "Reading all bands from dataset data/b_composites/bangladesh_all_bands_final-0000006656-0000000000.tif\n",
      "time to read bands: 23.33644390106201\n",
      "Reading all bands from dataset data/b_composites/bangladesh_all_bands_final-0000006656-0000006656.tif\n",
      "time to read bands: 21.856069087982178\n",
      "Data shape: (13, 6656, 6656)\n"
     ]
    }
   ],
   "source": [
    "# data_pixels = []\n",
    "# for ds in datasets:\n",
    "#     data_pixels += [get_bands_from_dataset(ds, band_names=bands_to_read)]\n",
    "    \n",
    "# print(\"Data shape:\", data_pixels[0].shape)"
   ]
  },
  {
   "cell_type": "code",
   "execution_count": 28,
   "metadata": {},
   "outputs": [
    {
     "name": "stdout",
     "output_type": "stream",
     "text": [
      "Examples shape: (1000, 13, 64, 64)\n"
     ]
    }
   ],
   "source": [
    "pos_save_index, neg_save_index = 0, 0\n",
    "pos_counter, neg_counter = 0, 0\n",
    "\n",
    "pos_x_examples = np.zeros([examples_per_save_file, len(all_bands) if bands_to_read is None else len(bands_to_read), tile_height, tile_length])\n",
    "neg_x_examples = np.zeros([examples_per_save_file, len(all_bands) if bands_to_read is None else len(bands_to_read), tile_height, tile_length])\n",
    "print(\"Examples shape:\", pos_x_examples.shape)"
   ]
  },
  {
   "cell_type": "code",
   "execution_count": 1,
   "metadata": {
    "scrolled": true
   },
   "outputs": [
    {
     "ename": "NameError",
     "evalue": "name 'file_list' is not defined",
     "output_type": "error",
     "traceback": [
      "\u001b[0;31m---------------------------------------------------------------------------\u001b[0m",
      "\u001b[0;31mNameError\u001b[0m                                 Traceback (most recent call last)",
      "\u001b[0;32m<ipython-input-1-f2f71a4eb342>\u001b[0m in \u001b[0;36m<module>\u001b[0;34m\u001b[0m\n\u001b[0;32m----> 1\u001b[0;31m \u001b[0mfile_list\u001b[0m \u001b[0;34m=\u001b[0m \u001b[0mfile_list\u001b[0m\u001b[0;34m[\u001b[0m\u001b[0;34m:\u001b[0m\u001b[0;36m1\u001b[0m\u001b[0;34m]\u001b[0m \u001b[0;31m# testing purposes\u001b[0m\u001b[0;34m\u001b[0m\u001b[0;34m\u001b[0m\u001b[0m\n\u001b[0m\u001b[1;32m      2\u001b[0m \u001b[0;34m\u001b[0m\u001b[0m\n\u001b[1;32m      3\u001b[0m \u001b[0mtotal_start_time\u001b[0m \u001b[0;34m=\u001b[0m \u001b[0mtime\u001b[0m\u001b[0;34m.\u001b[0m\u001b[0mtime\u001b[0m\u001b[0;34m(\u001b[0m\u001b[0;34m)\u001b[0m\u001b[0;34m\u001b[0m\u001b[0;34m\u001b[0m\u001b[0m\n\u001b[1;32m      4\u001b[0m \u001b[0;32mfor\u001b[0m \u001b[0mindex\u001b[0m\u001b[0;34m,\u001b[0m \u001b[0mfile\u001b[0m \u001b[0;32min\u001b[0m \u001b[0menumerate\u001b[0m\u001b[0;34m(\u001b[0m\u001b[0mfile_list\u001b[0m\u001b[0;34m)\u001b[0m\u001b[0;34m:\u001b[0m\u001b[0;34m\u001b[0m\u001b[0;34m\u001b[0m\u001b[0m\n\u001b[1;32m      5\u001b[0m     \u001b[0mfile_start_time\u001b[0m \u001b[0;34m=\u001b[0m \u001b[0mtime\u001b[0m\u001b[0;34m.\u001b[0m\u001b[0mtime\u001b[0m\u001b[0;34m(\u001b[0m\u001b[0;34m)\u001b[0m\u001b[0;34m\u001b[0m\u001b[0;34m\u001b[0m\u001b[0m\n",
      "\u001b[0;31mNameError\u001b[0m: name 'file_list' is not defined"
     ]
    }
   ],
   "source": [
    "file_list = file_list[:1] # testing purposes\n",
    "\n",
    "total_start_time = time.time()\n",
    "for index, file in enumerate(file_list):\n",
    "    file_start_time = time.time()\n",
    "    bands, ds_bounds = get_bands_and_bounds_from_file(file, band_names=bands_to_read)\n",
    "    \n",
    "    file_in_country = False\n",
    "    file_coordinates = [[ds_bounds.left, ds_bounds.top], [ds_bounds.right, ds_bounds.top], [ds_bounds.right, ds_bounds.bottom], [ds_bounds.left, ds_bounds.bottom]]\n",
    "    for point in [Point([c[0], c[1]]) for c in tile_coordinates]:\n",
    "        if bangladesh_geo.contains(point):\n",
    "            file_in_country = True\n",
    "    \n",
    "    if file_in_country:\n",
    "        num_bands, ds_height, ds_length = bands.shape\n",
    "        num_rows = ds_height // tile_height\n",
    "        num_cols = ds_length // tile_length\n",
    "\n",
    "        bounds = {\n",
    "            \"bottom\": ds_bounds.bottom,\n",
    "            \"top\": ds_bounds.top,\n",
    "            \"left\": ds_bounds.left,\n",
    "            \"right\": ds_bounds.right\n",
    "        }\n",
    "\n",
    "        row_px_excess, col_px_excess = None, None\n",
    "        percent_row_excess, percent_col_excess = None, None\n",
    "\n",
    "        if index % num_image_cols == num_image_cols - 1: # rightmost column\n",
    "            # calculate excess col pixels\n",
    "            col_px_excess = ds_length % tile_length\n",
    "            bounds[\"right\"] -= col_px_excess / ds_length * (ds.bounds.right - ds.bounds.left)\n",
    "\n",
    "        if index // num_image_cols == num_image_rows - 1: # last row\n",
    "            # calculate excess row pixels\n",
    "            row_px_excess = ds_height % tile_height\n",
    "            bounds[\"bottom\"] += row_px_excess / ds_height * (ds.bounds.top - ds.bounds.bottom)\n",
    "\n",
    "        kiln_tiles = get_kiln_tiles(bounds, num_rows, num_cols)\n",
    "        print(\"Num tiles with kilns:\", len(kiln_tiles))\n",
    "        print(kiln_tiles)\n",
    "\n",
    "        print(\"Tiling dataset...\")\n",
    "        for tile_idx_row in range(0, num_rows):\n",
    "            px_row = tile_idx_row * tile_height\n",
    "            for tile_idx_col in range(0, num_cols):\n",
    "                px_col = tile_idx_col * tile_length\n",
    "                if (tile_idx_row, tile_idx_col) in kiln_tiles:\n",
    "                    data = get_data_given_pixels(ds_bounds, bands, px_row, px_col, True)\n",
    "                    pos_counter, pos_save_index = add_example(data, pos_save_index, pos_counter, pos_x_examples, True)\n",
    "                else:\n",
    "                    data = get_data_given_pixels(ds_bounds, bands, px_row, px_col, False)\n",
    "                    if data is not None:\n",
    "                        neg_counter, neg_save_index = add_example(data, neg_save_index, neg_counter, neg_x_examples, False)\n",
    "        print(\"Total tiles dropped (outside country):\", num_tiles_dropped)\n",
    "        print(\"Total tiles kept:\", str(num_rows * num_cols - num_tiles_dropped))\n",
    "        num_tiles_dropped = 0\n",
    "        print(\"Finished file in\", time.time() - file_start_time, \"\\n\")\n",
    "print(\"Finished \" + str(len(file_list)) + \" files in: \" + str(time.time() - total_start_time))"
   ]
  },
  {
   "cell_type": "code",
   "execution_count": null,
   "metadata": {},
   "outputs": [],
   "source": [
    "print(pos_x_examples[12])\n",
    "print(tile_idx_row, tile_idx_col)"
   ]
  },
  {
   "cell_type": "code",
   "execution_count": null,
   "metadata": {},
   "outputs": [],
   "source": []
  },
  {
   "cell_type": "code",
   "execution_count": null,
   "metadata": {},
   "outputs": [],
   "source": []
  }
 ],
 "metadata": {
  "kernelspec": {
   "display_name": "Python 3",
   "language": "python",
   "name": "python3"
  },
  "language_info": {
   "codemirror_mode": {
    "name": "ipython",
    "version": 3
   },
   "file_extension": ".py",
   "mimetype": "text/x-python",
   "name": "python",
   "nbconvert_exporter": "python",
   "pygments_lexer": "ipython3",
   "version": "3.7.1"
  }
 },
 "nbformat": 4,
 "nbformat_minor": 4
}
