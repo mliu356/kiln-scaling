{
 "cells": [
  {
   "cell_type": "markdown",
   "metadata": {},
   "source": [
    "## To-Do\n",
    "* read composite images directly from drive\n",
    "\n",
    "## To-Done\n",
    "* only get negative examples completely in bangladesh\n",
    "* only need to snip the cols in the last row and the rows in the last col\n",
    "* create github\n",
    "* save data to .data\n",
    "* don't upload .data to github"
   ]
  },
  {
   "cell_type": "code",
   "execution_count": 1,
   "metadata": {
    "scrolled": true
   },
   "outputs": [
    {
     "name": "stdout",
     "output_type": "stream",
     "text": [
      "Collecting PyDrive\n",
      "  Downloading PyDrive-1.3.1.tar.gz (987 kB)\n",
      "\u001b[K     |████████████████████████████████| 987 kB 5.2 MB/s eta 0:00:01\n",
      "\u001b[?25hRequirement already satisfied: google-api-python-client>=1.2 in /Users/michelleliu/anaconda3/lib/python3.8/site-packages (from PyDrive) (1.12.8)\n",
      "Requirement already satisfied: oauth2client>=4.0.0 in /Users/michelleliu/anaconda3/lib/python3.8/site-packages (from PyDrive) (4.1.3)\n",
      "Requirement already satisfied: PyYAML>=3.0 in /Users/michelleliu/anaconda3/lib/python3.8/site-packages (from PyDrive) (5.3.1)\n",
      "Requirement already satisfied: google-auth-httplib2>=0.0.3 in /Users/michelleliu/anaconda3/lib/python3.8/site-packages (from google-api-python-client>=1.2->PyDrive) (0.0.4)\n",
      "Requirement already satisfied: uritemplate<4dev,>=3.0.0 in /Users/michelleliu/anaconda3/lib/python3.8/site-packages (from google-api-python-client>=1.2->PyDrive) (3.0.1)\n",
      "Requirement already satisfied: google-api-core<2dev,>=1.21.0 in /Users/michelleliu/anaconda3/lib/python3.8/site-packages (from google-api-python-client>=1.2->PyDrive) (1.25.0)\n",
      "Requirement already satisfied: google-auth>=1.16.0 in /Users/michelleliu/anaconda3/lib/python3.8/site-packages (from google-api-python-client>=1.2->PyDrive) (1.24.0)\n",
      "Requirement already satisfied: six<2dev,>=1.13.0 in /Users/michelleliu/anaconda3/lib/python3.8/site-packages (from google-api-python-client>=1.2->PyDrive) (1.15.0)\n",
      "Requirement already satisfied: httplib2<1dev,>=0.15.0 in /Users/michelleliu/anaconda3/lib/python3.8/site-packages (from google-api-python-client>=1.2->PyDrive) (0.18.1)\n",
      "Requirement already satisfied: rsa>=3.1.4 in /Users/michelleliu/anaconda3/lib/python3.8/site-packages (from oauth2client>=4.0.0->PyDrive) (4.7)\n",
      "Requirement already satisfied: pyasn1>=0.1.7 in /Users/michelleliu/anaconda3/lib/python3.8/site-packages (from oauth2client>=4.0.0->PyDrive) (0.4.8)\n",
      "Requirement already satisfied: pyasn1-modules>=0.0.5 in /Users/michelleliu/anaconda3/lib/python3.8/site-packages (from oauth2client>=4.0.0->PyDrive) (0.2.8)\n",
      "Requirement already satisfied: requests<3.0.0dev,>=2.18.0 in /Users/michelleliu/anaconda3/lib/python3.8/site-packages (from google-api-core<2dev,>=1.21.0->google-api-python-client>=1.2->PyDrive) (2.24.0)\n",
      "Requirement already satisfied: pytz in /Users/michelleliu/anaconda3/lib/python3.8/site-packages (from google-api-core<2dev,>=1.21.0->google-api-python-client>=1.2->PyDrive) (2020.1)\n",
      "Requirement already satisfied: protobuf>=3.12.0 in /Users/michelleliu/anaconda3/lib/python3.8/site-packages (from google-api-core<2dev,>=1.21.0->google-api-python-client>=1.2->PyDrive) (3.14.0)\n",
      "Requirement already satisfied: setuptools>=40.3.0 in /Users/michelleliu/anaconda3/lib/python3.8/site-packages (from google-api-core<2dev,>=1.21.0->google-api-python-client>=1.2->PyDrive) (50.3.1.post20201107)\n",
      "Requirement already satisfied: googleapis-common-protos<2.0dev,>=1.6.0 in /Users/michelleliu/anaconda3/lib/python3.8/site-packages (from google-api-core<2dev,>=1.21.0->google-api-python-client>=1.2->PyDrive) (1.52.0)\n",
      "Requirement already satisfied: cachetools<5.0,>=2.0.0 in /Users/michelleliu/anaconda3/lib/python3.8/site-packages (from google-auth>=1.16.0->google-api-python-client>=1.2->PyDrive) (4.2.0)\n",
      "Requirement already satisfied: idna<3,>=2.5 in /Users/michelleliu/anaconda3/lib/python3.8/site-packages (from requests<3.0.0dev,>=2.18.0->google-api-core<2dev,>=1.21.0->google-api-python-client>=1.2->PyDrive) (2.10)\n",
      "Requirement already satisfied: urllib3!=1.25.0,!=1.25.1,<1.26,>=1.21.1 in /Users/michelleliu/anaconda3/lib/python3.8/site-packages (from requests<3.0.0dev,>=2.18.0->google-api-core<2dev,>=1.21.0->google-api-python-client>=1.2->PyDrive) (1.25.11)\n",
      "Requirement already satisfied: chardet<4,>=3.0.2 in /Users/michelleliu/anaconda3/lib/python3.8/site-packages (from requests<3.0.0dev,>=2.18.0->google-api-core<2dev,>=1.21.0->google-api-python-client>=1.2->PyDrive) (3.0.4)\n",
      "Requirement already satisfied: certifi>=2017.4.17 in /Users/michelleliu/anaconda3/lib/python3.8/site-packages (from requests<3.0.0dev,>=2.18.0->google-api-core<2dev,>=1.21.0->google-api-python-client>=1.2->PyDrive) (2020.6.20)\n",
      "Building wheels for collected packages: PyDrive\n",
      "  Building wheel for PyDrive (setup.py) ... \u001b[?25ldone\n",
      "\u001b[?25h  Created wheel for PyDrive: filename=PyDrive-1.3.1-py3-none-any.whl size=27437 sha256=543b556e9837949c4e99506e1190d8627c115a584b07ddeb75454f9ad0582bd5\n",
      "  Stored in directory: /Users/michelleliu/Library/Caches/pip/wheels/c6/14/12/ccdcc5d3b41661f360f9c7d9f7ea9d1879a5f85aa4ecc8cc6f\n",
      "Successfully built PyDrive\n",
      "Installing collected packages: PyDrive\n",
      "Successfully installed PyDrive-1.3.1\n"
     ]
    }
   ],
   "source": [
    "!pip install PyDrive"
   ]
  },
  {
   "cell_type": "code",
   "execution_count": 45,
   "metadata": {},
   "outputs": [],
   "source": [
    "import os\n",
    "import json\n",
    "import requests\n",
    "import time\n",
    "from requests.auth import HTTPBasicAuth\n",
    "import pandas as pd\n",
    "import datetime\n",
    "import rasterio\n",
    "from matplotlib import pyplot as plt\n",
    "import numpy as np\n",
    "from shapely.geometry import Point\n",
    "from shapely.geometry.polygon import Polygon\n",
    "from os import listdir, path\n",
    "from os.path import isfile, join"
   ]
  },
  {
   "cell_type": "code",
   "execution_count": null,
   "metadata": {},
   "outputs": [],
   "source": [
    "from pydrive.auth import GoogleAuth\n",
    "from pydrive.drive import GoogleDrive\n",
    "\n",
    "gauth = GoogleAuth()\n",
    "gauth.LocalWebserverAuth()\n",
    "drive = GoogleDrive(gauth)"
   ]
  },
  {
   "cell_type": "code",
   "execution_count": 28,
   "metadata": {},
   "outputs": [
    {
     "name": "stdout",
     "output_type": "stream",
     "text": [
      "   index        lat        lon     x    y      prob prediction   shape\n",
      "0      0  23.796287  90.316715  1043  518  0.564438     zigzag  zigzag\n",
      "1      1  23.940202  90.043026    78  149  0.692853     zigzag  zigzag\n",
      "2      2  25.021253  89.309124   636  327  0.499505        fck     fck\n",
      "3      3  25.308184  89.550603    97   85  0.342437        fck  zigzag\n",
      "4      4  22.561670  92.007151   145  175  0.922128     zigzag  zigzag\n"
     ]
    }
   ],
   "source": [
    "# set params\n",
    "tile_height, tile_length = (64, 64)\n",
    "bands_to_read = None # ['B4', 'B3', 'B2'] # set to None to read all bands\n",
    "examples_per_save_file = 1000\n",
    "save_path = '../data/tiles/'\n",
    "composite_file_name = 'bangladesh_all_bands_final'\n",
    "composite_save_path = '../data/composites/'\n",
    "\n",
    "# resources\n",
    "kilns = pd.read_csv(\"../data/bangladesh_kilns.csv\")\n",
    "all_bands = ['B1', 'B2', 'B3', 'B4', 'B5', 'B6', 'B7', 'B8A', 'B8', 'B9', 'B10', 'B11', 'B12']\n",
    "band_dict = dict(zip(all_bands, range(1, len(all_bands) + 1)))\n",
    "\n",
    "print(kilns.head())"
   ]
  },
  {
   "cell_type": "code",
   "execution_count": 23,
   "metadata": {},
   "outputs": [
    {
     "name": "stdout",
     "output_type": "stream",
     "text": [
      "Found 80 files\n",
      "title: bangladesh_all_bands_final-0000000000-0000000000.tif, id: 1ZHtyKejLTVvFo5s1Ui--sA_RqKBtfZlZ\n",
      "title: bangladesh_all_bands_final-0000000000-0000006656.tif, id: 1GlKU0_kZEaisJ8sBWGsl7VNg9pwsPD8Z\n",
      "title: bangladesh_all_bands_final-0000000000-0000013312.tif, id: 1Wm1kJeH2zQ42bNEuqDbSLcR_vP-KEu6_\n",
      "title: bangladesh_all_bands_final-0000000000-0000019968.tif, id: 1RkLg2pzmr9QkVg8NmfPhKVbPGAtxkfKH\n",
      "title: bangladesh_all_bands_final-0000000000-0000026624.tif, id: 1YCQxQ6WzZQTwpEKY7IeW1lWbCBYcUN2l\n"
     ]
    }
   ],
   "source": [
    "file_list = drive.ListFile({'q': \"title contains '\" + composite_file_name + \"'\"}).GetList()\n",
    "print(\"Found \" + str(len(file_list)) + \" files\")\n",
    "file_list = sorted(file_list, key=lambda file: file['title'])\n",
    "for file in file_list[:5]:\n",
    "  print('title: %s, id: %s' % (file['title'], file['id']))"
   ]
  },
  {
   "cell_type": "code",
   "execution_count": 24,
   "metadata": {},
   "outputs": [
    {
     "name": "stdout",
     "output_type": "stream",
     "text": [
      "Number of image grid columns: 8\n",
      "Number of image grid rows: 10\n"
     ]
    }
   ],
   "source": [
    "# calculate image grid\n",
    "first_x_coord = file_list[0]['title'].split(\".\")[0].split(\"-\")[1]\n",
    "first_y_coord = file_list[0]['title'].split(\".\")[0].split(\"-\")[2]\n",
    "num_image_cols = len([x for x in file_list if x['title'].split(\".\")[0].split(\"-\")[1] == first_x_coord])\n",
    "num_image_rows = len([x for x in file_list if x['title'].split(\".\")[0].split(\"-\")[2] == first_y_coord])\n",
    "print(\"Number of image grid columns:\", num_image_cols)\n",
    "print(\"Number of image grid rows:\", num_image_rows)"
   ]
  },
  {
   "cell_type": "code",
   "execution_count": 26,
   "metadata": {},
   "outputs": [],
   "source": [
    "coords = []\n",
    "with open(\"../data/countries.geojson\", \"r\") as countries_geojson:\n",
    "    country_dict = json.load(countries_geojson)[\"features\"]\n",
    "for obj in country_dict:\n",
    "    name = obj['properties']['ADMIN']\n",
    "    if name == \"Bangladesh\":\n",
    "        coords = obj['geometry'][\"coordinates\"]\n",
    "flat_coords = []\n",
    "for sublist in coords:\n",
    "    for coord in sublist:\n",
    "        for c in coord:\n",
    "            flat_coords.append(c)\n",
    "\n",
    "bangladesh_geo = Polygon(flat_coords)"
   ]
  },
  {
   "cell_type": "code",
   "execution_count": 43,
   "metadata": {},
   "outputs": [
    {
     "name": "stdout",
     "output_type": "stream",
     "text": [
      "<open DatasetReader name='data/b_composites/bangladesh_all_bands_final-0000000000-0000000000.tif' mode='r'>\n",
      "BoundingBox(left=88.02178244056496, bottom=26.02563108539713, right=88.61970109367492, top=26.623549738507084)\n"
     ]
    }
   ],
   "source": [
    "# print(datasets[0])\n",
    "# print(datasets[0].bounds)"
   ]
  },
  {
   "cell_type": "code",
   "execution_count": 85,
   "metadata": {},
   "outputs": [],
   "source": [
    "# testing variables\n",
    "num_tiles_dropped = 0\n",
    "num_pos_tiles = 0"
   ]
  },
  {
   "cell_type": "code",
   "execution_count": 86,
   "metadata": {},
   "outputs": [],
   "source": [
    "def get_bands_and_bounds_from_file(file, band_names=None):\n",
    "    print(\"Starting file \" + file['title'])\n",
    "    composite_file_path = composite_save_path + file['title']\n",
    "    download_finish_time = start_time\n",
    "    if path.exists(composite_file_path):\n",
    "        print(\"File already downloaded.\")\n",
    "    else:\n",
    "        print(\"Downloading file...\")\n",
    "        # download the file\n",
    "        download_file = drive.CreateFile({'id': file['id']})\n",
    "        file.GetContentFile(composite_file_path)\n",
    "    \n",
    "    # open file with rasterio\n",
    "    print(\"Reading file...\")\n",
    "    dataset = rasterio.open(composite_file_path)\n",
    "    if band_names is None: # get all bands\n",
    "        bands = dataset.read()\n",
    "    else:\n",
    "        # TODO refactor using np.index_select\n",
    "        bands = []\n",
    "        for idx, band_name in enumerate(band_names):\n",
    "            band_index = band_dict[band_name]\n",
    "            bands += [dataset.read(band_index)]\n",
    "        bands = np.array(bands)\n",
    "    print(\"Done processing file\")\n",
    "    return bands, dataset.bounds\n",
    "\n",
    "def get_data_given_pixels(ds_bounds, bands, start_row, start_col, contains_kiln):\n",
    "    global num_tiles_dropped\n",
    "    \n",
    "    num_bands, ds_height, ds_length = bands.shape\n",
    "    tile_top = ds_bounds.top - (start_row / ds_height) * (ds_bounds.top - ds_bounds.bottom)\n",
    "    tile_bottom = ds_bounds.top - ((start_row + tile_height) / ds_height) * (ds_bounds.top - ds_bounds.bottom)\n",
    "    tile_left = ds_bounds.left + (start_col / ds_length) * (ds_bounds.right - ds_bounds.left)\n",
    "    tile_right = ds_bounds.left + ((start_col + tile_length) / ds_length) * (ds_bounds.right - ds_bounds.left)\n",
    "    tile_coordinates = [[tile_left, tile_top], [tile_right, tile_top], [tile_right, tile_bottom], [tile_left, tile_bottom]]\n",
    "#     print(\"top\", tile_top, \"bottom\", tile_bottom, \"left\", tile_left, \"right\", tile_right)\n",
    "    if not contains_kiln:\n",
    "        for point in [Point([c[0], c[1]]) for c in tile_coordinates]:\n",
    "            if not bangladesh_geo.contains(point):\n",
    "                num_tiles_dropped += 1\n",
    "                return None\n",
    "    return bands[:, start_row : start_row + tile_height, start_col : start_col + tile_length]\n",
    "\n",
    "# def add_example(ex_data, save_index, list_to_add, is_positive):\n",
    "def add_example(ex_data, save_index, counter, examples, is_positive):\n",
    "    examples[counter] = ex_data\n",
    "    new_counter = counter + 1\n",
    "    # save files if needed\n",
    "    if new_counter == examples_per_save_file:\n",
    "        filename = save_path + (\"pos\" if is_positive else \"neg\") + \"_examples_\" + str(save_index) + \".csv\"\n",
    "        print(\"Saving file\", filename)\n",
    "        np.savetxt(filename, examples.flatten(), delimiter=\",\")\n",
    "        print(\"Finished saving file\")\n",
    "        save_index += 1\n",
    "        new_counter = 0\n",
    "    return new_counter, save_index\n",
    "\n",
    "def get_kiln_tiles(bounds, num_rows, num_cols):\n",
    "    kilns_in_image = kilns.loc[(kilns['lat'] >= bounds['bottom']) & (kilns['lat'] <= bounds['top']) \n",
    "        & (kilns['lon'] >= bounds['left']) & (kilns['lon'] <= bounds['right'])]\n",
    "    \n",
    "    tiles = set() # set of tuples of (tile_row, tile_col)\n",
    "    for index, kiln in kilns_in_image.iterrows():\n",
    "        lon_percent = 1 - (kiln['lon'] - bounds['left']) / (bounds['right'] - bounds['left'])\n",
    "        row_index = int(num_rows * lon_percent)\n",
    "        \n",
    "        lat_percent = 1 - (kiln['lat'] - bounds['bottom']) / (bounds['top'] - bounds['bottom'])\n",
    "        col_index = int(num_cols * lat_percent)\n",
    "        tiles.add((row_index, col_index))\n",
    "    return tiles\n",
    "        "
   ]
  },
  {
   "cell_type": "code",
   "execution_count": 13,
   "metadata": {},
   "outputs": [
    {
     "name": "stdout",
     "output_type": "stream",
     "text": [
      "Reading all bands from dataset data/b_composites/bangladesh_all_bands_final-0000000000-0000000000.tif\n",
      "time to read bands: 22.185380935668945\n",
      "Reading all bands from dataset data/b_composites/bangladesh_all_bands_final-0000000000-0000006656.tif\n",
      "time to read bands: 22.828599214553833\n",
      "Reading all bands from dataset data/b_composites/bangladesh_all_bands_final-0000006656-0000000000.tif\n",
      "time to read bands: 23.33644390106201\n",
      "Reading all bands from dataset data/b_composites/bangladesh_all_bands_final-0000006656-0000006656.tif\n",
      "time to read bands: 21.856069087982178\n",
      "Data shape: (13, 6656, 6656)\n"
     ]
    }
   ],
   "source": [
    "# data_pixels = []\n",
    "# for ds in datasets:\n",
    "#     data_pixels += [get_bands_from_dataset(ds, band_names=bands_to_read)]\n",
    "    \n",
    "# print(\"Data shape:\", data_pixels[0].shape)"
   ]
  },
  {
   "cell_type": "code",
   "execution_count": 87,
   "metadata": {},
   "outputs": [
    {
     "name": "stdout",
     "output_type": "stream",
     "text": [
      "Examples shape: (1000, 13, 64, 64)\n"
     ]
    }
   ],
   "source": [
    "pos_save_index, neg_save_index = 0, 0\n",
    "pos_counter, neg_counter = 0, 0\n",
    "\n",
    "pos_x_examples = np.zeros([examples_per_save_file, len(all_bands) if bands_to_read is None else len(bands_to_read), tile_height, tile_length])\n",
    "neg_x_examples = np.zeros([examples_per_save_file, len(all_bands) if bands_to_read is None else len(bands_to_read), tile_height, tile_length])\n",
    "print(\"Examples shape:\", pos_x_examples.shape)"
   ]
  },
  {
   "cell_type": "code",
   "execution_count": 88,
   "metadata": {
    "scrolled": true
   },
   "outputs": [
    {
     "name": "stdout",
     "output_type": "stream",
     "text": [
      "Starting file bangladesh_all_bands_final-0000000000-0000000000.tif\n",
      "File already downloaded.\n",
      "Reading file...\n",
      "Done processing file\n",
      "Num tiles with kilns: 11\n",
      "{(27, 98), (58, 91), (12, 71), (13, 71), (43, 78), (27, 97), (45, 67), (30, 99), (25, 98), (31, 99), (28, 95)}\n",
      "Tiling dataset...\n",
      "Saving file ../data/tiles/neg_examples_0.csv\n",
      "Finished saving file\n",
      "Saving file ../data/tiles/neg_examples_1.csv\n",
      "Finished saving file\n",
      "Saving file ../data/tiles/neg_examples_2.csv\n",
      "Finished saving file\n",
      "Saving file ../data/tiles/neg_examples_3.csv\n",
      "Finished saving file\n",
      "Total tiles dropped (outside country): 6510\n",
      "Finished file in 322.61342692375183 \n",
      "\n",
      "Starting file bangladesh_all_bands_final-0000000000-0000006656.tif\n",
      "Downloading file...\n",
      "Reading file...\n",
      "Done processing file\n",
      "Num tiles with kilns: 9\n",
      "{(93, 92), (9, 90), (9, 86), (89, 90), (96, 100), (89, 92), (98, 99), (33, 43), (70, 91)}\n",
      "Tiling dataset...\n",
      "Saving file ../data/tiles/neg_examples_4.csv\n",
      "Finished saving file\n",
      "Saving file ../data/tiles/neg_examples_5.csv\n",
      "Finished saving file\n",
      "Saving file ../data/tiles/neg_examples_6.csv\n",
      "Finished saving file\n",
      "Saving file ../data/tiles/neg_examples_7.csv\n",
      "Finished saving file\n",
      "Total tiles dropped (outside country): 13204\n",
      "Finished file in 366.0636522769928 \n",
      "\n",
      "Finished 2 files in: 688.7004289627075\n"
     ]
    }
   ],
   "source": [
    "file_list = file_list[:2] # testing purposes\n",
    "\n",
    "total_start_time = time.time()\n",
    "for index, file in enumerate(file_list):\n",
    "    file_start_time = time.time()\n",
    "    bands, ds_bounds = get_bands_and_bounds_from_file(file, band_names=bands_to_read)\n",
    "    num_bands, ds_height, ds_length = bands.shape\n",
    "#     print(\"Data shape\", num_bands, ds_height, ds_length)\n",
    "    num_rows = ds_height // tile_height\n",
    "    num_cols = ds_length // tile_length\n",
    "#     print(\"Total rows and cols\", num_rows, num_cols)\n",
    "    \n",
    "    bounds = {\n",
    "        \"bottom\": ds_bounds.bottom,\n",
    "        \"top\": ds_bounds.top,\n",
    "        \"left\": ds_bounds.left,\n",
    "        \"right\": ds_bounds.right\n",
    "    }\n",
    "    \n",
    "    row_px_excess, col_px_excess = None, None\n",
    "    percent_row_excess, percent_col_excess = None, None\n",
    "    \n",
    "    if index % num_image_cols == num_image_cols - 1: # rightmost column\n",
    "        # calculate excess col pixels\n",
    "        col_px_excess = ds_length % tile_length\n",
    "        bounds[\"right\"] -= col_px_excess / ds_length * (ds.bounds.right - ds.bounds.left)\n",
    "    \n",
    "    if index // num_image_cols == num_image_rows - 1: # last row\n",
    "        # calculate excess row pixels\n",
    "        row_px_excess = ds_height % tile_height\n",
    "        bounds[\"bottom\"] += row_px_excess / ds_height * (ds.bounds.top - ds.bounds.bottom)\n",
    "    \n",
    "    kiln_tiles = get_kiln_tiles(bounds, num_rows, num_cols)\n",
    "    print(\"Num tiles with kilns:\", len(kiln_tiles))\n",
    "    print(kiln_tiles)\n",
    "    \n",
    "    print(\"Tiling dataset...\")\n",
    "    for tile_idx_row in range(0, num_rows):\n",
    "        px_row = tile_idx_row * tile_height\n",
    "        for tile_idx_col in range(0, num_cols):\n",
    "            px_col = tile_idx_col * tile_length\n",
    "            if (tile_idx_row, tile_idx_col) in kiln_tiles:\n",
    "                data = get_data_given_pixels(ds_bounds, bands, px_row, px_col, True)\n",
    "                pos_counter, pos_save_index = add_example(data, pos_save_index, pos_counter, pos_x_examples, True)\n",
    "            else:\n",
    "                data = get_data_given_pixels(ds_bounds, bands, px_row, px_col, False)\n",
    "                if data is not None:\n",
    "                    neg_counter, neg_save_index = add_example(data, neg_save_index, neg_counter, neg_x_examples, False)\n",
    "    print(\"Total tiles dropped (outside country):\", num_tiles_dropped)\n",
    "    print(\"Total tiles kept:\", str(num_rows * num_cols - num_tiles_dropped))\n",
    "    num_tiles_dropped = 0\n",
    "    print(\"Finished file in\", time.time() - file_start_time, \"\\n\")\n",
    "print(\"Finished \" + str(len(file_list)) + \" files in: \" + str(time.time() - total_start_time))"
   ]
  },
  {
   "cell_type": "code",
   "execution_count": 81,
   "metadata": {},
   "outputs": [
    {
     "name": "stdout",
     "output_type": "stream",
     "text": [
      "[[[ 870.5  870.5  870.5 ... 1008.  1008.  1008. ]\n",
      "  [ 870.5  870.5  870.5 ... 1008.  1008.  1008. ]\n",
      "  [ 870.5  870.5  870.5 ... 1008.  1008.  1008. ]\n",
      "  ...\n",
      "  [ 752.5  752.5  752.5 ...  782.   782.   782. ]\n",
      "  [ 752.5  752.5  752.5 ...  782.   782.   782. ]\n",
      "  [ 752.5  752.5  752.5 ...  782.   782.   782. ]]\n",
      "\n",
      " [[1102.5 1102.5 1099.  ... 1155.  1138.  1152.5]\n",
      "  [1111.5 1111.5 1124.5 ... 1147.  1147.5 1154.5]\n",
      "  [1096.5 1096.5 1106.5 ... 1123.5 1119.5 1161. ]\n",
      "  ...\n",
      "  [ 723.5  905.5  911.  ...  932.5  875.5  798.5]\n",
      "  [ 723.5  938.5  987.5 ...  903.5  883.   800.5]\n",
      "  [ 725.5  912.   894.5 ...  866.   900.5  846.5]]\n",
      "\n",
      " [[1239.  1239.  1252.  ... 1309.  1294.  1295. ]\n",
      "  [1250.  1250.  1284.  ... 1306.  1294.  1288. ]\n",
      "  [1249.  1249.  1269.  ... 1288.  1303.  1298. ]\n",
      "  ...\n",
      "  [ 756.5 1007.5 1019.5 ... 1031.5 1014.5  980.5]\n",
      "  [ 756.5 1044.  1100.5 ...  996.   994.5  951. ]\n",
      "  [ 761.  1052.  1015.  ...  968.   989.5  963. ]]\n",
      "\n",
      " ...\n",
      "\n",
      " [[ 141.   141.   139.  ...  145.   146.   145. ]\n",
      "  [ 140.   140.   141.  ...  143.   144.5  145. ]\n",
      "  [ 140.5  140.5  140.5 ...  145.5  143.5  146. ]\n",
      "  ...\n",
      "  [  73.   103.   106.  ...  107.    90.5   77. ]\n",
      "  [  73.   105.5  121.5 ...  106.    99.5   78. ]\n",
      "  [  68.5  102.5  104.5 ...  103.   100.    84. ]]\n",
      "\n",
      " [[ 128.   128.   129.  ...  132.   132.   132.5]\n",
      "  [ 127.5  127.5  131.5 ...  132.   132.   131.5]\n",
      "  [ 126.   126.   130.  ...  131.   133.5  133.5]\n",
      "  ...\n",
      "  [  77.   103.5  104.5 ...  104.5  104.   100. ]\n",
      "  [  77.   106.5  112.5 ...  101.5  101.    97. ]\n",
      "  [  79.5  108.   102.5 ...   99.5  101.    99. ]]\n",
      "\n",
      " [[ 113.5  113.5  112.  ...  117.   115.   115. ]\n",
      "  [ 112.   112.   114.  ...  117.5  116.   118. ]\n",
      "  [ 111.   111.   112.5 ...  113.5  114.   119.5]\n",
      "  ...\n",
      "  [  75.    92.5   93.  ...   95.    88.5   82. ]\n",
      "  [  75.    94.5  101.  ...   92.    92.    82.5]\n",
      "  [  72.    94.5   92.  ...   90.    91.5   86.5]]]\n",
      "83 76\n"
     ]
    }
   ],
   "source": [
    "print(pos_x_examples[12])\n",
    "print(tile_idx_row, tile_idx_col)"
   ]
  },
  {
   "cell_type": "code",
   "execution_count": null,
   "metadata": {},
   "outputs": [],
   "source": []
  },
  {
   "cell_type": "code",
   "execution_count": null,
   "metadata": {},
   "outputs": [],
   "source": []
  }
 ],
 "metadata": {
  "kernelspec": {
   "display_name": "Python 3",
   "language": "python",
   "name": "python3"
  },
  "language_info": {
   "codemirror_mode": {
    "name": "ipython",
    "version": 3
   },
   "file_extension": ".py",
   "mimetype": "text/x-python",
   "name": "python",
   "nbconvert_exporter": "python",
   "pygments_lexer": "ipython3",
   "version": "3.8.5"
  }
 },
 "nbformat": 4,
 "nbformat_minor": 4
}
