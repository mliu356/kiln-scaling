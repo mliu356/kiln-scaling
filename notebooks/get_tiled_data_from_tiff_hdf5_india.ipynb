{
 "cells": [
  {
   "cell_type": "code",
   "execution_count": 2,
   "metadata": {},
   "outputs": [],
   "source": [
    "# !pip install pandas\n",
    "# jupyter nbconvert --to script get_tiled_data_from_tiff_hdf5_india.ipynb"
   ]
  },
  {
   "cell_type": "code",
   "execution_count": 3,
   "metadata": {},
   "outputs": [],
   "source": [
    "import os\n",
    "import json\n",
    "import time\n",
    "import pandas as pd\n",
    "import datetime\n",
    "import rasterio\n",
    "from matplotlib import pyplot as plt\n",
    "import numpy as np\n",
    "from shapely.geometry import Point\n",
    "from shapely.geometry.polygon import Polygon\n",
    "from os import path\n",
    "import h5py\n",
    "import geopy.distance\n",
    "from rasterio.windows import Window, bounds as r_bounds\n",
    "import random\n",
    "import fnmatch"
   ]
  },
  {
   "cell_type": "code",
   "execution_count": 4,
   "metadata": {},
   "outputs": [],
   "source": [
    "from pydrive.auth import GoogleAuth\n",
    "from pydrive.drive import GoogleDrive\n",
    "\n",
    "gauth = GoogleAuth()\n",
    "# Try to load saved client credentials\n",
    "gauth.LoadCredentialsFile(\"mycreds.txt\")\n",
    "if gauth.credentials is None:\n",
    "    # Authenticate if they're not there\n",
    "    gauth.LocalWebserverAuth()\n",
    "elif gauth.access_token_expired:\n",
    "    # Refresh them if expired\n",
    "    gauth.Refresh()\n",
    "else:\n",
    "    # Initialize the saved creds\n",
    "    gauth.Authorize()\n",
    "# Save the current credentials to a file\n",
    "gauth.SaveCredentialsFile(\"mycreds.txt\")\n",
    "\n",
    "drive = GoogleDrive(gauth)"
   ]
  },
  {
   "cell_type": "code",
   "execution_count": 17,
   "metadata": {},
   "outputs": [
    {
     "name": "stdout",
     "output_type": "stream",
     "text": [
      "   S. No.   Longitude   Latitude Kiln Technology  Unnamed: 4 Unnamed: 5  \\\n",
      "0        1  85.015751  25.639469             ZZK         NaN        ZZK   \n",
      "1        2  85.013481  25.639822             ZZK         NaN      FCBTK   \n",
      "2        3  85.013028  25.640291             ZZK         NaN        NaN   \n",
      "3        4  85.012540  25.640451             ZZK         NaN        NaN   \n",
      "4        5  85.009052  25.640096             ZZK         NaN        NaN   \n",
      "\n",
      "                        Unnamed: 6  \n",
      "0                      ZigZag Kiln  \n",
      "1  Fixed Chimney Bulls Trench Kiln  \n",
      "2                              NaN  \n",
      "3                              NaN  \n",
      "4                              NaN  \n"
     ]
    }
   ],
   "source": [
    "local_testing_mode = False\n",
    "\n",
    "# set params\n",
    "tile_height, tile_length = (64, 64)\n",
    "examples_per_save_file = 1000\n",
    "composite_file_name = 'India_all_bands_final'\n",
    "# download_all_first = not local_testing_mode\n",
    "download_all_first = False\n",
    "offset_px = 20\n",
    "offset_configs = [(0, 0)]\n",
    "percent_neg_to_keep = 0.005\n",
    "\n",
    "save_path = '/atlas/u/mliu356/data/kiln-scaling/india_tiles/'\n",
    "# composite_save_path = '/atlas/u/mliu356/data/kiln-scaling/composites/' # bangladesh, 2018-19\n",
    "composite_save_path = '/atlas/u/mliu356/data/kiln-scaling/india_composites/' # new bangladesh\n",
    "\n",
    "if local_testing_mode:\n",
    "    save_path = '../data/tiles_testing3/'\n",
    "    composite_save_path = '../data/india_composites/'\n",
    "\n",
    "# resources\n",
    "kilns = pd.read_csv(\"../data/india_bihar_kilns.csv\")\n",
    "all_bands = ['B1', 'B2', 'B3', 'B4', 'B5', 'B6', 'B7', 'B8A', 'B8', 'B9', 'B10', 'B11', 'B12']\n",
    "\n",
    "print(kilns.head())"
   ]
  },
  {
   "cell_type": "code",
   "execution_count": 19,
   "metadata": {},
   "outputs": [],
   "source": [
    "def mkdirs(names):\n",
    "    for name in names:\n",
    "        if not os.path.exists(name):\n",
    "            os.makedirs(name)\n",
    "mkdirs([save_path, composite_save_path])"
   ]
  },
  {
   "cell_type": "code",
   "execution_count": 7,
   "metadata": {},
   "outputs": [
    {
     "name": "stdout",
     "output_type": "stream",
     "text": [
      "Found 2401 files\n",
      "title: India_all_bands_final-0000000000-0000000000.tif, id: 1LFG2dc_dZ2YJVS1xdoEZ50qATUBvKqTC\n",
      "title: India_all_bands_final-0000000000-0000006656.tif, id: 1A45Aekf7BVXIQ4MN4Pzr8uLttsbLfXvo\n",
      "title: India_all_bands_final-0000000000-0000013312.tif, id: 1M2PT-jDIJTlP9v9WyKwKeLgjK0zth5dr\n",
      "title: India_all_bands_final-0000000000-0000019968.tif, id: 1Y8kATacUIwM1bXVCn1OXoxwZ71zKKfxJ\n",
      "title: India_all_bands_final-0000000000-0000026624.tif, id: 1Eb90WSv-Er3WLjYjCt4_dFCs0CcgYM8t\n"
     ]
    }
   ],
   "source": [
    "file_list = drive.ListFile({'q': \"title contains '\" + composite_file_name + \"'\"}).GetList()\n",
    "print(\"Found \" + str(len(file_list)) + \" files\")\n",
    "file_list = sorted(file_list, key=lambda file: file['title'])\n",
    "for file in file_list[:5]:\n",
    "  print('title: %s, id: %s' % (file['title'], file['id']))"
   ]
  },
  {
   "cell_type": "code",
   "execution_count": 8,
   "metadata": {},
   "outputs": [
    {
     "name": "stdout",
     "output_type": "stream",
     "text": [
      "India_all_bands_final-0000000000-0000000000\n",
      "Number of image grid columns: 49\n",
      "Number of image grid rows: 49\n"
     ]
    }
   ],
   "source": [
    "# calculate image grid\n",
    "print(file_list[0]['title'].split(\".\")[0])\n",
    "first_x_coord = file_list[0]['title'].split(\".\")[0].split(\"-\")[1]\n",
    "first_y_coord = file_list[0]['title'].split(\".\")[0].split(\"-\")[2]\n",
    "num_image_cols = len([x for x in file_list if x['title'].split(\".\")[0].split(\"-\")[1] == first_x_coord])\n",
    "num_image_rows = len([x for x in file_list if x['title'].split(\".\")[0].split(\"-\")[2] == first_y_coord])\n",
    "print(\"Number of image grid columns:\", num_image_cols)\n",
    "print(\"Number of image grid rows:\", num_image_rows)"
   ]
  },
  {
   "cell_type": "code",
   "execution_count": 9,
   "metadata": {},
   "outputs": [],
   "source": [
    "coords = []\n",
    "with open(\"../data/countries.geojson\", \"r\") as countries_geojson:\n",
    "    country_dict = json.load(countries_geojson)[\"features\"]\n",
    "for obj in country_dict:\n",
    "    name = obj['properties']['ADMIN']\n",
    "    if name == \"India\":\n",
    "        coords = obj['geometry'][\"coordinates\"]\n",
    "flat_coords = []\n",
    "for sublist in coords:\n",
    "    for coord in sublist:\n",
    "        for c in coord:\n",
    "            flat_coords.append(c)\n",
    "            \n",
    "flat_coords += [flat_coords[0]]\n",
    "bangladesh_geo = Polygon(flat_coords)\n",
    "# print(bangladesh_geo)"
   ]
  },
  {
   "cell_type": "code",
   "execution_count": 10,
   "metadata": {},
   "outputs": [],
   "source": [
    "# optional pre-download all files\n",
    "\n",
    "if download_all_first:\n",
    "    for file in file_list:\n",
    "#         start_time = time.time()\n",
    "        composite_file_path = composite_save_path + file['title']\n",
    "        if path.exists(composite_file_path):\n",
    "            print(\"File already downloaded.\", composite_file_path)\n",
    "        else:\n",
    "            print(\"Downloading file...\")\n",
    "            # download the file\n",
    "            download_file = drive.CreateFile({'id': file['id']})\n",
    "            file.GetContentFile(composite_file_path)\n",
    "#             print(\"Finished file in \" + str(time.time() - start_time))\n",
    "    print(\"Done downloading all files.\")"
   ]
  },
  {
   "cell_type": "code",
   "execution_count": 11,
   "metadata": {},
   "outputs": [],
   "source": [
    "def get_tile_info_from_px(dataset, px_row, px_col, has_kiln):\n",
    "    global num_tiles_dropped\n",
    "    global pos_examples_data, pos_examples_bounds\n",
    "    global test_ex_data, test_ex_bounds\n",
    "    \n",
    "    window = Window(px_col, px_row, tile_length, tile_height)\n",
    "    bands = dataset.read(window=window)\n",
    "    bounds = list(r_bounds(window, dataset.transform))\n",
    "    tile_geo = Polygon([[bounds[0], bounds[2]], [bounds[0], bounds[3]], [bounds[1], bounds[3]], [bounds[1], bounds[2]], [bounds[0], bounds[2]]])\n",
    "    \n",
    "    if has_kiln or bangladesh_geo.intersects(tile_geo):\n",
    "        return bands, bounds\n",
    "    else:\n",
    "        return None, None\n",
    "    \n",
    "def get_tile_has_kiln(dataset, px_row, px_col):\n",
    "    window = Window(px_col, px_row, tile_length, tile_height)\n",
    "    bounds = list(r_bounds(window, dataset.transform))\n",
    "    kilns_in_image = kilns.loc[(kilns['Latitude'] >= bounds[1]) & (kilns['Latitude'] <= bounds[3]) \n",
    "        & (kilns['Longitude'] >= bounds[0]) & (kilns['Longitude'] <= bounds[2])]\n",
    "\n",
    "    return len(kilns_in_image) >= 1"
   ]
  },
  {
   "cell_type": "code",
   "execution_count": 12,
   "metadata": {},
   "outputs": [],
   "source": [
    "def save_current_file(save_index, counter):\n",
    "    filename = save_path + \"examples_\" + str(save_index) + \".hdf5\"\n",
    "    print(\"Saving file\", filename)\n",
    "    f = h5py.File(filename, 'w')\n",
    "    bounds_dset = f.create_dataset(\"bounds\", data=tile_bounds[:counter])\n",
    "    examples_dset = f.create_dataset(\"images\", data=examples[:counter])\n",
    "    labels_dset = f.create_dataset(\"labels\", data=labels[:counter])\n",
    "    indices_dset = f.create_dataset(\"indices\", data=tile_indices[:counter])\n",
    "    f.close()\n",
    "    return save_index + 1, 0\n",
    "\n",
    "def add_example(ex_data, ex_bounds, t_global_indices, save_index, counter, is_positive):\n",
    "    tile_bounds[counter] = ex_bounds\n",
    "    examples[counter] = ex_data\n",
    "    labels[counter] = 1 if is_positive else -1\n",
    "    tile_indices[counter] = t_global_indices\n",
    "    new_counter = counter + 1\n",
    "    \n",
    "    if new_counter == examples_per_save_file:\n",
    "        return save_current_file(save_index, counter)\n",
    "    return save_index, new_counter"
   ]
  },
  {
   "cell_type": "code",
   "execution_count": 13,
   "metadata": {},
   "outputs": [],
   "source": [
    "## testing & visualization methods\n",
    "\n",
    "# image is a single example of shape (13, 64, 64)\n",
    "def visualize_tile(image, indices=[3, 2, 1]):\n",
    "    row_idx = np.array(indices)\n",
    "    X = np.transpose(image[row_idx], (1, 2, 0))\n",
    "    X *= 1 / np.max(X)\n",
    "    print(X.shape)\n",
    "    plt.imshow(X)\n",
    "    \n",
    "def pretty_bounds(bounds):\n",
    "    return [[bounds[0], bounds[1]], [bounds[2], bounds[1]], [bounds[2], bounds[3]], [bounds[0], bounds[3]], [bounds[0], bounds[1]]]"
   ]
  },
  {
   "cell_type": "code",
   "execution_count": 8,
   "metadata": {},
   "outputs": [
    {
     "ename": "NameError",
     "evalue": "name 'np' is not defined",
     "output_type": "error",
     "traceback": [
      "\u001b[0;31m---------------------------------------------------------------------------\u001b[0m",
      "\u001b[0;31mNameError\u001b[0m                                 Traceback (most recent call last)",
      "\u001b[0;32m<ipython-input-8-155d6248d4c1>\u001b[0m in \u001b[0;36m<module>\u001b[0;34m\u001b[0m\n\u001b[1;32m     13\u001b[0m     \u001b[0mnext_file_name\u001b[0m \u001b[0;34m=\u001b[0m \u001b[0;34m\"examples_\"\u001b[0m \u001b[0;34m+\u001b[0m \u001b[0mstr\u001b[0m\u001b[0;34m(\u001b[0m\u001b[0msave_index\u001b[0m\u001b[0;34m)\u001b[0m \u001b[0;34m+\u001b[0m \u001b[0;34m\".hdf5\"\u001b[0m\u001b[0;34m\u001b[0m\u001b[0;34m\u001b[0m\u001b[0m\n\u001b[1;32m     14\u001b[0m \u001b[0;34m\u001b[0m\u001b[0m\n\u001b[0;32m---> 15\u001b[0;31m \u001b[0mtile_bounds\u001b[0m \u001b[0;34m=\u001b[0m \u001b[0mnp\u001b[0m\u001b[0;34m.\u001b[0m\u001b[0mzeros\u001b[0m\u001b[0;34m(\u001b[0m\u001b[0;34m[\u001b[0m\u001b[0mexamples_per_save_file\u001b[0m\u001b[0;34m,\u001b[0m \u001b[0;36m4\u001b[0m\u001b[0;34m]\u001b[0m\u001b[0;34m)\u001b[0m \u001b[0;31m# [left, bottom, right, top]\u001b[0m\u001b[0;34m\u001b[0m\u001b[0;34m\u001b[0m\u001b[0m\n\u001b[0m\u001b[1;32m     16\u001b[0m \u001b[0mexamples\u001b[0m \u001b[0;34m=\u001b[0m \u001b[0mnp\u001b[0m\u001b[0;34m.\u001b[0m\u001b[0mzeros\u001b[0m\u001b[0;34m(\u001b[0m\u001b[0;34m[\u001b[0m\u001b[0mexamples_per_save_file\u001b[0m\u001b[0;34m,\u001b[0m \u001b[0mlen\u001b[0m\u001b[0;34m(\u001b[0m\u001b[0mall_bands\u001b[0m\u001b[0;34m)\u001b[0m\u001b[0;34m,\u001b[0m \u001b[0mtile_height\u001b[0m\u001b[0;34m,\u001b[0m \u001b[0mtile_length\u001b[0m\u001b[0;34m]\u001b[0m\u001b[0;34m)\u001b[0m\u001b[0;34m\u001b[0m\u001b[0;34m\u001b[0m\u001b[0m\n\u001b[1;32m     17\u001b[0m \u001b[0mlabels\u001b[0m \u001b[0;34m=\u001b[0m \u001b[0mnp\u001b[0m\u001b[0;34m.\u001b[0m\u001b[0mzeros\u001b[0m\u001b[0;34m(\u001b[0m\u001b[0;34m[\u001b[0m\u001b[0mexamples_per_save_file\u001b[0m\u001b[0;34m,\u001b[0m \u001b[0;36m1\u001b[0m\u001b[0;34m]\u001b[0m\u001b[0;34m)\u001b[0m\u001b[0;34m\u001b[0m\u001b[0;34m\u001b[0m\u001b[0m\n",
      "\u001b[0;31mNameError\u001b[0m: name 'np' is not defined"
     ]
    }
   ],
   "source": [
    "## testing variables\n",
    "num_tiles_dropped = 0\n",
    "pos_examples_data = []\n",
    "pos_examples_bounds = []\n",
    "test_ex_data = []\n",
    "test_ex_indices = []\n",
    "test_ex_bounds = []\n",
    "\n",
    "save_index, counter = 0, 0\n",
    "prev_ex_files = os.listdir(save_path)\n",
    "while (\"examples_{}.hdf5\".format(save_index) in prev_ex_files):\n",
    "    save_index += 1\n",
    "\n",
    "tile_bounds = np.zeros([examples_per_save_file, 4]) # [left, bottom, right, top]\n",
    "examples = np.zeros([examples_per_save_file, len(all_bands), tile_height, tile_length])\n",
    "labels = np.zeros([examples_per_save_file, 1])\n",
    "tile_indices = np.zeros([examples_per_save_file, 3]) # [row, col, offset_index]\n",
    "\n",
    "last_file_completed = None"
   ]
  },
  {
   "cell_type": "code",
   "execution_count": 15,
   "metadata": {},
   "outputs": [],
   "source": [
    "# print(composite_file_path)\n",
    "# dataset = rasterio.open(composite_file_path)\n",
    "# # bands = dataset.read()\n",
    "# print(dataset.count)\n",
    "# print(bands.shape)\n",
    "\n",
    "# dataset2 = rasterio.open('../data/composites/bangladesh_all_bands_final-0000000000-0000000000.tif')\n",
    "# print(dataset2.count)\n",
    "# # bands2 = dataset2.read()\n",
    "# print(bands2.shape)"
   ]
  },
  {
   "cell_type": "code",
   "execution_count": 20,
   "metadata": {
    "scrolled": true
   },
   "outputs": [
    {
     "name": "stdout",
     "output_type": "stream",
     "text": [
      "Starting file India_all_bands_final-0000000000-0000000000.tif\n",
      "Saving file ../data/tiles_testing3/examples_0.hdf5\n",
      "Finished file in 27.439128875732422 \n",
      "\n",
      "Finished 1 files in: 27.43998694419861\n"
     ]
    }
   ],
   "source": [
    "if local_testing_mode:\n",
    "    file_list = file_list[:1]\n",
    "\n",
    "std_tile_rows, std_tile_cols = None, None\n",
    "    \n",
    "total_start_time = time.time()\n",
    "for index, file in enumerate(file_list):\n",
    "    if (last_file_completed == None or file['title'] > last_file_completed):\n",
    "\n",
    "        file_start_time = time.time()\n",
    "        print(\"Starting file \" + file['title'])\n",
    "\n",
    "        # get composite image indices\n",
    "        c_row = int(index / num_image_cols)\n",
    "        c_col = index % num_image_cols\n",
    "\n",
    "        composite_file_path = composite_save_path + file['title']\n",
    "        if not path.exists(composite_file_path):\n",
    "            print(\"Downloading file...\")\n",
    "            # download the file\n",
    "            download_file = drive.CreateFile({'id': file['id']})\n",
    "            file.GetContentFile(composite_file_path)\n",
    "        dataset = rasterio.open(composite_file_path)\n",
    "\n",
    "        for offset_index, offset_config in enumerate(offset_configs):\n",
    "            num_rows = int((dataset.height - offset_config[0]) / tile_height)\n",
    "            num_cols = int((dataset.width - offset_config[1]) / tile_length)\n",
    "\n",
    "            if std_tile_rows is None:\n",
    "                std_tile_rows = num_rows\n",
    "                std_tile_cols = num_cols\n",
    "\n",
    "            # first pass to calculate kiln_tiles\n",
    "            kiln_tiles = []\n",
    "            for tile_idx_row in range(0, num_rows):\n",
    "                px_row = tile_idx_row * tile_height + offset_config[0]\n",
    "                for tile_idx_col in range(0, num_cols):\n",
    "                    px_col = tile_idx_col * tile_length + offset_config[1]\n",
    "                    if get_tile_has_kiln(dataset, px_row, px_col):\n",
    "                        kiln_tiles += [(tile_idx_row, tile_idx_col)]\n",
    "\n",
    "            # second pass to calculate and save data\n",
    "            for tile_idx_row in range(0, num_rows):\n",
    "                px_row = tile_idx_row * tile_height + offset_config[0]\n",
    "                for tile_idx_col in range(0, num_cols):\n",
    "                    px_col = tile_idx_col * tile_length + offset_config[1]\n",
    "                    tile_has_kiln = (tile_idx_row, tile_idx_col) in kiln_tiles\n",
    "                    t_data, t_bounds = get_tile_info_from_px(dataset, px_row, px_col, tile_has_kiln)\n",
    "\n",
    "                    # save data only if:\n",
    "                    # (1) t_data is not None AND\n",
    "                    # (2a) tile contains kiln OR\n",
    "                    # (2b) tile is in the random negative sample (percent_neg_to_keep)\n",
    "                    if t_data is not None and (tile_has_kiln or random.random() > percent_neg_to_keep):\n",
    "                        t_global_row = c_row * std_tile_rows + tile_idx_row\n",
    "                        t_global_col = c_col * std_tile_cols + tile_idx_col\n",
    "                        t_global_indices = [t_global_row, t_global_col, offset_index]\n",
    "\n",
    "                        save_index, counter = add_example(t_data, t_bounds, t_global_indices, save_index, counter, tile_has_kiln)\n",
    "\n",
    "        last_file_completed = file['title']\n",
    "    \n",
    "    # handle leftovers in a final file\n",
    "    if index == len(file_list) - 1:\n",
    "        save_current_file(save_index, counter)\n",
    "\n",
    "#     print(\"Total tiles dropped (outside country):\", num_tiles_dropped)\n",
    "#     print(\"Total tiles kept:\", str(num_rows * num_cols * len(offset_configs) - num_tiles_dropped))\n",
    "    num_tiles_dropped = 0\n",
    "    print(\"Finished file in\", time.time() - file_start_time, \"\\n\")\n",
    "print(\"Finished \" + str(len(file_list)) + \" files in: \" + str(time.time() - total_start_time))"
   ]
  },
  {
   "cell_type": "markdown",
   "metadata": {},
   "source": [
    "## Test hdf5 file data format & visualizations"
   ]
  },
  {
   "cell_type": "code",
   "execution_count": 18,
   "metadata": {},
   "outputs": [],
   "source": [
    "# import h5py\n",
    "# import numpy as np\n",
    "# from matplotlib import pyplot as plt\n",
    "# f = h5py.File('/atlas/u/mhelabd/data/kiln-scaling/balanced_tiles/final_tiles_drop_neighbors.hdf5')\n",
    "# print(len(f['images']))\n",
    "# print(f['images'][0])\n",
    "# print(visualize_tile(f['images'][0]))"
   ]
  },
  {
   "cell_type": "code",
   "execution_count": 83,
   "metadata": {},
   "outputs": [
    {
     "data": {
      "text/plain": [
       "[[88.02178244056496, 26.02563108539713],\n",
       " [88.61970109367492, 26.02563108539713],\n",
       " [88.61970109367492, 26.623549738507084],\n",
       " [88.02178244056496, 26.623549738507084],\n",
       " [88.02178244056496, 26.02563108539713]]"
      ]
     },
     "execution_count": 83,
     "metadata": {},
     "output_type": "execute_result"
    }
   ],
   "source": [
    "# print(pretty_bounds([dataset.bounds.left, dataset.bounds.bottom, dataset.bounds.right, dataset.bounds.top]))"
   ]
  },
  {
   "cell_type": "code",
   "execution_count": 68,
   "metadata": {},
   "outputs": [
    {
     "name": "stdout",
     "output_type": "stream",
     "text": [
      "166\n",
      "(64, 64, 3)\n",
      "[207, 21, 0]\n"
     ]
    },
    {
     "data": {
      "image/png": "[encoded data removed]",
      "text/plain": [
       "<Figure size 432x288 with 1 Axes>"
      ]
     },
     "metadata": {
      "needs_background": "light"
     },
     "output_type": "display_data"
    }
   ],
   "source": [
    "# print(len(test_ex_data))\n",
    "# vis_index = 83\n",
    "\n",
    "# visualize_tile(test_ex_data[vis_index])\n",
    "# print(test_ex_indices[vis_index])"
   ]
  },
  {
   "cell_type": "code",
   "execution_count": 27,
   "metadata": {},
   "outputs": [
    {
     "name": "stdout",
     "output_type": "stream",
     "text": [
      "Examples w/ kilns: [40 41 42]\n"
     ]
    }
   ],
   "source": [
    "# print(\"Examples w/ kilns:\", np.where(labels==1.0)[0])\n",
    "# index = 4321\n",
    "# print(\"label:\", y[index])\n",
    "# vis_X = X[index]\n",
    "# vis_X *= 1 / np.max(vis_X)\n",
    "# print(vis_X.shape)\n",
    "# plt.imshow(vis_X)"
   ]
  }
 ],
 "metadata": {
  "kernelspec": {
   "display_name": "Python 3",
   "language": "python",
   "name": "python3"
  },
  "language_info": {
   "codemirror_mode": {
    "name": "ipython",
    "version": 3
   },
   "file_extension": ".py",
   "mimetype": "text/x-python",
   "name": "python",
   "nbconvert_exporter": "python",
   "pygments_lexer": "ipython3",
   "version": "3.8.5"
  }
 },
 "nbformat": 4,
 "nbformat_minor": 4
}
